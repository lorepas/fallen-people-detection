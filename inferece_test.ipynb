{
 "cells": [
  {
   "cell_type": "code",
   "execution_count": 1,
   "id": "d3f13f6a",
   "metadata": {},
   "outputs": [],
   "source": [
    "from utils.load_dataset import *\n",
    "from utils.custom_utils import *"
   ]
  },
  {
   "cell_type": "code",
   "execution_count": 2,
   "id": "e1e90fd2",
   "metadata": {},
   "outputs": [],
   "source": [
    "model_path_var = \"./models/checkpoint_train_virtual_and_real.pth\"\n",
    "model_path_vtr = \"./models/checkpoint_train_real_over_virtual.pth\"\n",
    "model_path_r = \"./models/checkpoint_train_real.pth\"\n",
    "model_path_v = \"./models/checkpoint_train_virtual.pth\""
   ]
  },
  {
   "cell_type": "code",
   "execution_count": 3,
   "id": "9fd0fcfd",
   "metadata": {},
   "outputs": [],
   "source": [
    "def load_model(path):\n",
    "    device = torch.device('cuda') if torch.cuda.is_available() else torch.device('cpu')\n",
    "\n",
    "    # create a Faster R-CNN model without pre-trained\n",
    "    model = torchvision.models.detection.fasterrcnn_resnet50_fpn(pretrained=False, pretrained_backbone=False)\n",
    "\n",
    "    num_classes = 3 # wheat or not(background)\n",
    "\n",
    "    # get number of input features for the classifier\n",
    "    in_features = model.roi_heads.box_predictor.cls_score.in_features\n",
    "\n",
    "    # replace the pre-trained model's head with a new one\n",
    "    model.roi_heads.box_predictor = FastRCNNPredictor(in_features, num_classes)\n",
    "    checkpoint = torch.load(path, map_location=device)\n",
    "    model.load_state_dict(checkpoint['model'])\n",
    "    # load the trained weights\n",
    "    #model.load_state_dict(torch.load(path, map_location=device))\n",
    "    model.eval()\n",
    "\n",
    "    # move model to the right device\n",
    "    model.to(device)\n",
    "    return model, device"
   ]
  },
  {
   "cell_type": "code",
   "execution_count": 4,
   "id": "88ac06be",
   "metadata": {},
   "outputs": [],
   "source": [
    "def take_prediction(prediction, threshold):\n",
    "    boxes = prediction['boxes'].tolist()\n",
    "    labels = prediction['labels'].tolist()\n",
    "    scores = prediction['scores'].tolist()\n",
    "    if len(boxes) == 0:\n",
    "        return [([0,0,0,0],1,0.)]\n",
    "    \n",
    "    res = [t for t in zip(boxes,labels,scores) if t[2]>threshold]\n",
    "    if len(res) == 0:\n",
    "        res = [([0,0,0,0],1,0.)]\n",
    "    return res"
   ]
  },
  {
   "cell_type": "code",
   "execution_count": 5,
   "id": "2a6ddaa7",
   "metadata": {},
   "outputs": [],
   "source": [
    "def visualize_prediction(dataset, list_imgs, model, device, path=None, thr=0.7):\n",
    "    for l in list_imgs:\n",
    "        img,target = dataset[l]\n",
    "        with torch.no_grad():\n",
    "            prediction = model([img.to(device)])\n",
    "        p = take_prediction(prediction[0],thr)\n",
    "        for bb,label,score in p:\n",
    "            if label == 1:\n",
    "                color = \"green\"\n",
    "                text = f\"no fallen: {score:.3f}\"\n",
    "            else:\n",
    "                color = \"red\"\n",
    "                text = f\"fallen: {score:.3f}\"\n",
    "            x0,y0,x1,y1 = bb\n",
    "            im = Image.fromarray(img.mul(255).permute(1, 2, 0).byte().numpy())\n",
    "            draw = ImageDraw.Draw(im)\n",
    "            draw.rectangle(((x0, y0),(x1,y1)), outline=color, width=3)\n",
    "            draw.text((x0, y0), text)\n",
    "        if path is None:\n",
    "            ImageShow.show(im)\n",
    "        else:\n",
    "            im.save(f'snapshots/{path}{l}.png')"
   ]
  },
  {
   "cell_type": "code",
   "execution_count": 6,
   "id": "c149f3f8",
   "metadata": {},
   "outputs": [],
   "source": [
    "def classifier_performance(dataset, model, device, fallen_or_not, tr = 0.7):\n",
    "    tn, tp, fn, fp = 0,0,0,0\n",
    "    for im,target in tqdm(dataset):\n",
    "        gt_labels = target['labels'].tolist()\n",
    "        with torch.no_grad():\n",
    "            prediction = model([im.to(device)])\n",
    "        p = take_prediction(prediction[0], tr)\n",
    "        pred_labels = [l for _,l,_ in p]\n",
    "        len_gt_lab = len(gt_labels)\n",
    "        len_pred_lab = len(pred_labels)\n",
    "        fall_gt = [i for i in gt_labels if i==fallen_or_not]\n",
    "        num_fall_gt = len(fall_gt)\n",
    "        num_no_fall_gt = len_gt_lab - num_fall_gt\n",
    "\n",
    "        fall_pred = [i for i in pred_labels if i==fallen_or_not] \n",
    "        num_fall_pred = len(fall_pred)\n",
    "        num_no_fall_pred = len_pred_lab - num_fall_pred\n",
    "\n",
    "        if num_fall_gt == num_fall_pred:\n",
    "            tp += num_fall_gt\n",
    "        elif num_fall_gt > num_fall_pred:\n",
    "            tp += num_fall_pred\n",
    "            fn += (num_fall_gt - num_fall_pred)\n",
    "        else:\n",
    "            tp += num_fall_gt\n",
    "            fp += (num_fall_pred - num_fall_gt)\n",
    "    return tp, fp, fn"
   ]
  },
  {
   "cell_type": "markdown",
   "id": "cf602836",
   "metadata": {},
   "source": [
    "# UP-FALL DETECTION"
   ]
  },
  {
   "cell_type": "code",
   "execution_count": 7,
   "id": "a09a653b",
   "metadata": {},
   "outputs": [],
   "source": [
    "test_set = load_data(\"test_set.txt\")\n",
    "test_dataset = FallenPeople(test_set, \"test_imgs\", FallenPeople.valid_test_transform())"
   ]
  },
  {
   "cell_type": "code",
   "execution_count": 8,
   "id": "fcac0245",
   "metadata": {
    "scrolled": true
   },
   "outputs": [
    {
     "name": "stdout",
     "output_type": "stream",
     "text": [
      "598\n",
      "361\n"
     ]
    }
   ],
   "source": [
    "no_fall = 0\n",
    "fall = 0\n",
    "for t in test_dataset:\n",
    "    if t[1]['labels'][0] == 1:\n",
    "        no_fall += 1\n",
    "    elif t[1]['labels'][0] == 2:\n",
    "        fall += 1\n",
    "print(no_fall)\n",
    "print(fall)"
   ]
  },
  {
   "cell_type": "code",
   "execution_count": 9,
   "id": "1b9a057d",
   "metadata": {},
   "outputs": [],
   "source": [
    "def collate_fn(batch):\n",
    "        return tuple(zip(*batch))\n",
    "    \n",
    "test_data_loader = DataLoader(\n",
    "      test_dataset,\n",
    "      batch_size=4,\n",
    "      shuffle=False,\n",
    "      collate_fn=collate_fn\n",
    "    )"
   ]
  },
  {
   "cell_type": "code",
   "execution_count": 10,
   "id": "5d18b353",
   "metadata": {},
   "outputs": [],
   "source": [
    "model_var, device = load_model(model_path_var)\n",
    "model_vtr, _ = load_model(model_path_vtr)\n",
    "model_r, _ = load_model(model_path_r)\n",
    "model_v, _ = load_model(model_path_v)\n",
    "test_list = [random.randint(0,len(test_dataset)-1) for i in range(5)]"
   ]
  },
  {
   "cell_type": "markdown",
   "id": "929621b4",
   "metadata": {},
   "source": [
    "# ONLY REAL"
   ]
  },
  {
   "cell_type": "code",
   "execution_count": 11,
   "id": "49578f58",
   "metadata": {},
   "outputs": [
    {
     "name": "stdout",
     "output_type": "stream",
     "text": [
      "creating index...\n",
      "index created!\n",
      "Test:  [  0/240]  eta: 0:01:36  model_time: 0.3418 (0.3418)  evaluator_time: 0.0050 (0.0050)  time: 0.4001  data: 0.0501  max mem: 2025\n",
      "Test:  [100/240]  eta: 0:00:53  model_time: 0.3279 (0.3284)  evaluator_time: 0.0040 (0.0043)  time: 0.3839  data: 0.0477  max mem: 2025\n",
      "Test:  [200/240]  eta: 0:00:15  model_time: 0.3294 (0.3287)  evaluator_time: 0.0040 (0.0042)  time: 0.3841  data: 0.0471  max mem: 2025\n",
      "Test:  [239/240]  eta: 0:00:00  model_time: 0.3300 (0.3288)  evaluator_time: 0.0039 (0.0042)  time: 0.3821  data: 0.0467  max mem: 2025\n",
      "Test: Total time: 0:01:32 (0.3838 s / it)\n",
      "Averaged stats: model_time: 0.3300 (0.3288)  evaluator_time: 0.0039 (0.0042)\n",
      "Accumulating evaluation results...\n",
      "DONE (t=0.24s).\n",
      "IoU metric: bbox\n",
      " Average Precision  (AP) @[ IoU=0.50:0.95 | area=   all | maxDets=100 ] = 0.490\n",
      " Average Precision  (AP) @[ IoU=0.50      | area=   all | maxDets=100 ] = 0.949\n",
      " Average Precision  (AP) @[ IoU=0.75      | area=   all | maxDets=100 ] = 0.425\n",
      " Average Precision  (AP) @[ IoU=0.50:0.95 | area= small | maxDets=100 ] = 0.351\n",
      " Average Precision  (AP) @[ IoU=0.50:0.95 | area=medium | maxDets=100 ] = 0.512\n",
      " Average Precision  (AP) @[ IoU=0.50:0.95 | area= large | maxDets=100 ] = 0.521\n",
      " Average Recall     (AR) @[ IoU=0.50:0.95 | area=   all | maxDets=  1 ] = 0.491\n",
      " Average Recall     (AR) @[ IoU=0.50:0.95 | area=   all | maxDets= 10 ] = 0.566\n",
      " Average Recall     (AR) @[ IoU=0.50:0.95 | area=   all | maxDets=100 ] = 0.566\n",
      " Average Recall     (AR) @[ IoU=0.50:0.95 | area= small | maxDets=100 ] = 0.366\n",
      " Average Recall     (AR) @[ IoU=0.50:0.95 | area=medium | maxDets=100 ] = 0.559\n",
      " Average Recall     (AR) @[ IoU=0.50:0.95 | area= large | maxDets=100 ] = 0.606\n"
     ]
    },
    {
     "data": {
      "text/plain": [
       "<utils.coco_eval.CocoEvaluator at 0x7f3ccdae6710>"
      ]
     },
     "execution_count": 11,
     "metadata": {},
     "output_type": "execute_result"
    }
   ],
   "source": [
    "evaluate(model_r, test_data_loader, device=device)"
   ]
  },
  {
   "cell_type": "markdown",
   "id": "ce5d738d",
   "metadata": {},
   "source": [
    "### FALL DETECTION"
   ]
  },
  {
   "cell_type": "code",
   "execution_count": 12,
   "id": "c0e0ae4e",
   "metadata": {},
   "outputs": [
    {
     "name": "stderr",
     "output_type": "stream",
     "text": [
      "100%|██████████| 959/959 [01:39<00:00,  9.66it/s]\n"
     ]
    },
    {
     "name": "stdout",
     "output_type": "stream",
     "text": [
      "TP: 391\tFN: 0\tFP: 523\n",
      "Recall: 1.00\n",
      "Precision: 0.43\n",
      "F1-score: 0.60\n"
     ]
    },
    {
     "name": "stderr",
     "output_type": "stream",
     "text": [
      "100%|██████████| 959/959 [01:41<00:00,  9.44it/s]\n"
     ]
    },
    {
     "name": "stdout",
     "output_type": "stream",
     "text": [
      "TP: 391\tFN: 0\tFP: 253\n",
      "Recall: 1.00\n",
      "Precision: 0.61\n",
      "F1-score: 0.76\n"
     ]
    },
    {
     "name": "stderr",
     "output_type": "stream",
     "text": [
      "100%|██████████| 959/959 [01:42<00:00,  9.39it/s]\n"
     ]
    },
    {
     "name": "stdout",
     "output_type": "stream",
     "text": [
      "TP: 391\tFN: 0\tFP: 106\n",
      "Recall: 1.00\n",
      "Precision: 0.79\n",
      "F1-score: 0.88\n"
     ]
    },
    {
     "name": "stderr",
     "output_type": "stream",
     "text": [
      "100%|██████████| 959/959 [01:42<00:00,  9.34it/s]\n"
     ]
    },
    {
     "name": "stdout",
     "output_type": "stream",
     "text": [
      "TP: 385\tFN: 6\tFP: 59\n",
      "Recall: 0.98\n",
      "Precision: 0.87\n",
      "F1-score: 0.92\n"
     ]
    },
    {
     "name": "stderr",
     "output_type": "stream",
     "text": [
      "100%|██████████| 959/959 [01:41<00:00,  9.43it/s]\n"
     ]
    },
    {
     "name": "stdout",
     "output_type": "stream",
     "text": [
      "TP: 381\tFN: 10\tFP: 37\n",
      "Recall: 0.97\n",
      "Precision: 0.91\n",
      "F1-score: 0.94\n"
     ]
    },
    {
     "name": "stderr",
     "output_type": "stream",
     "text": [
      "100%|██████████| 959/959 [01:41<00:00,  9.41it/s]\n"
     ]
    },
    {
     "name": "stdout",
     "output_type": "stream",
     "text": [
      "TP: 380\tFN: 11\tFP: 28\n",
      "Recall: 0.97\n",
      "Precision: 0.93\n",
      "F1-score: 0.95\n"
     ]
    },
    {
     "name": "stderr",
     "output_type": "stream",
     "text": [
      "100%|██████████| 959/959 [01:42<00:00,  9.33it/s]\n"
     ]
    },
    {
     "name": "stdout",
     "output_type": "stream",
     "text": [
      "TP: 377\tFN: 14\tFP: 20\n",
      "Recall: 0.96\n",
      "Precision: 0.95\n",
      "F1-score: 0.96\n"
     ]
    },
    {
     "name": "stderr",
     "output_type": "stream",
     "text": [
      "100%|██████████| 959/959 [01:42<00:00,  9.36it/s]\n"
     ]
    },
    {
     "name": "stdout",
     "output_type": "stream",
     "text": [
      "TP: 374\tFN: 17\tFP: 11\n",
      "Recall: 0.96\n",
      "Precision: 0.97\n",
      "F1-score: 0.96\n"
     ]
    },
    {
     "name": "stderr",
     "output_type": "stream",
     "text": [
      "100%|██████████| 959/959 [01:41<00:00,  9.42it/s]\n"
     ]
    },
    {
     "name": "stdout",
     "output_type": "stream",
     "text": [
      "TP: 371\tFN: 20\tFP: 5\n",
      "Recall: 0.95\n",
      "Precision: 0.99\n",
      "F1-score: 0.97\n"
     ]
    },
    {
     "name": "stderr",
     "output_type": "stream",
     "text": [
      "100%|██████████| 959/959 [01:42<00:00,  9.33it/s]"
     ]
    },
    {
     "name": "stdout",
     "output_type": "stream",
     "text": [
      "TP: 355\tFN: 36\tFP: 3\n",
      "Recall: 0.91\n",
      "Precision: 0.99\n",
      "F1-score: 0.95\n"
     ]
    },
    {
     "name": "stderr",
     "output_type": "stream",
     "text": [
      "\n"
     ]
    }
   ],
   "source": [
    "recall, precision, f1_score = [],[],[]\n",
    "for thr in range(0,10,1):\n",
    "    tp, fp, fn = classifier_performance(test_dataset, model_r, device, 2,float(thr/10))\n",
    "    rec = tp / (tp+fn)\n",
    "    prec = tp/ (tp+fp)\n",
    "    f1_s = 2/((1/rec)+(1/prec))\n",
    "    recall.append(f\"{rec:.2f}\")\n",
    "    precision.append(f\"{prec:.2f}\")\n",
    "    f1_score.append(f\"{f1_s:.2f}\")\n",
    "    print(f\"TP: {tp}\\tFN: {fn}\\tFP: {fp}\")\n",
    "    print(f\"Recall: {rec:.2f}\")\n",
    "    print(f\"Precision: {prec:.2f}\")\n",
    "    print(f\"F1-score: {f1_s:.2f}\")"
   ]
  },
  {
   "cell_type": "code",
   "execution_count": 13,
   "id": "88096309",
   "metadata": {},
   "outputs": [
    {
     "name": "stdout",
     "output_type": "stream",
     "text": [
      "['1.00', '1.00', '1.00', '0.98', '0.97', '0.97', '0.96', '0.96', '0.95', '0.91']\n",
      "['0.43', '0.61', '0.79', '0.87', '0.91', '0.93', '0.95', '0.97', '0.99', '0.99']\n",
      "['0.60', '0.76', '0.88', '0.92', '0.94', '0.95', '0.96', '0.96', '0.97', '0.95']\n"
     ]
    }
   ],
   "source": [
    "print(recall)\n",
    "print(precision)\n",
    "print(f1_score)"
   ]
  },
  {
   "cell_type": "markdown",
   "id": "29fd6eaf",
   "metadata": {},
   "source": [
    "### NO-FALL DETECTION"
   ]
  },
  {
   "cell_type": "code",
   "execution_count": 14,
   "id": "7b858a4f",
   "metadata": {},
   "outputs": [
    {
     "name": "stderr",
     "output_type": "stream",
     "text": [
      "100%|██████████| 959/959 [01:38<00:00,  9.70it/s]\n"
     ]
    },
    {
     "name": "stdout",
     "output_type": "stream",
     "text": [
      "TP: 822\tFN: 8\tFP: 497\n",
      "Recall: 0.99\n",
      "Precision: 0.62\n",
      "F1-score: 0.77\n"
     ]
    },
    {
     "name": "stderr",
     "output_type": "stream",
     "text": [
      "100%|██████████| 959/959 [01:40<00:00,  9.50it/s]\n"
     ]
    },
    {
     "name": "stdout",
     "output_type": "stream",
     "text": [
      "TP: 819\tFN: 11\tFP: 303\n",
      "Recall: 0.99\n",
      "Precision: 0.73\n",
      "F1-score: 0.84\n"
     ]
    },
    {
     "name": "stderr",
     "output_type": "stream",
     "text": [
      "100%|██████████| 959/959 [01:41<00:00,  9.41it/s]\n"
     ]
    },
    {
     "name": "stdout",
     "output_type": "stream",
     "text": [
      "TP: 810\tFN: 20\tFP: 152\n",
      "Recall: 0.98\n",
      "Precision: 0.84\n",
      "F1-score: 0.90\n"
     ]
    },
    {
     "name": "stderr",
     "output_type": "stream",
     "text": [
      "100%|██████████| 959/959 [01:41<00:00,  9.43it/s]\n"
     ]
    },
    {
     "name": "stdout",
     "output_type": "stream",
     "text": [
      "TP: 805\tFN: 25\tFP: 98\n",
      "Recall: 0.97\n",
      "Precision: 0.89\n",
      "F1-score: 0.93\n"
     ]
    },
    {
     "name": "stderr",
     "output_type": "stream",
     "text": [
      "100%|██████████| 959/959 [01:41<00:00,  9.42it/s]\n"
     ]
    },
    {
     "name": "stdout",
     "output_type": "stream",
     "text": [
      "TP: 798\tFN: 32\tFP: 81\n",
      "Recall: 0.96\n",
      "Precision: 0.91\n",
      "F1-score: 0.93\n"
     ]
    },
    {
     "name": "stderr",
     "output_type": "stream",
     "text": [
      "100%|██████████| 959/959 [01:41<00:00,  9.43it/s]\n"
     ]
    },
    {
     "name": "stdout",
     "output_type": "stream",
     "text": [
      "TP: 789\tFN: 41\tFP: 73\n",
      "Recall: 0.95\n",
      "Precision: 0.92\n",
      "F1-score: 0.93\n"
     ]
    },
    {
     "name": "stderr",
     "output_type": "stream",
     "text": [
      "100%|██████████| 959/959 [01:41<00:00,  9.41it/s]\n"
     ]
    },
    {
     "name": "stdout",
     "output_type": "stream",
     "text": [
      "TP: 769\tFN: 61\tFP: 67\n",
      "Recall: 0.93\n",
      "Precision: 0.92\n",
      "F1-score: 0.92\n"
     ]
    },
    {
     "name": "stderr",
     "output_type": "stream",
     "text": [
      "100%|██████████| 959/959 [01:42<00:00,  9.38it/s]\n"
     ]
    },
    {
     "name": "stdout",
     "output_type": "stream",
     "text": [
      "TP: 756\tFN: 74\tFP: 65\n",
      "Recall: 0.91\n",
      "Precision: 0.92\n",
      "F1-score: 0.92\n"
     ]
    },
    {
     "name": "stderr",
     "output_type": "stream",
     "text": [
      "100%|██████████| 959/959 [01:42<00:00,  9.32it/s]\n"
     ]
    },
    {
     "name": "stdout",
     "output_type": "stream",
     "text": [
      "TP: 728\tFN: 102\tFP: 49\n",
      "Recall: 0.88\n",
      "Precision: 0.94\n",
      "F1-score: 0.91\n"
     ]
    },
    {
     "name": "stderr",
     "output_type": "stream",
     "text": [
      "100%|██████████| 959/959 [01:41<00:00,  9.41it/s]"
     ]
    },
    {
     "name": "stdout",
     "output_type": "stream",
     "text": [
      "TP: 682\tFN: 148\tFP: 50\n",
      "Recall: 0.82\n",
      "Precision: 0.93\n",
      "F1-score: 0.87\n"
     ]
    },
    {
     "name": "stderr",
     "output_type": "stream",
     "text": [
      "\n"
     ]
    }
   ],
   "source": [
    "recall, precision, f1_score = [],[],[]\n",
    "for thr in range(0,10,1):\n",
    "    tp, fp, fn = classifier_performance(test_dataset, model_r, device, 1,float(thr/10))\n",
    "    rec = tp / (tp+fn)\n",
    "    prec = tp/ (tp+fp)\n",
    "    f1_s = 2/((1/rec)+(1/prec))\n",
    "    recall.append(f\"{rec:.2f}\")\n",
    "    precision.append(f\"{prec:.2f}\")\n",
    "    f1_score.append(f\"{f1_s:.2f}\")\n",
    "    print(f\"TP: {tp}\\tFN: {fn}\\tFP: {fp}\")\n",
    "    print(f\"Recall: {rec:.2f}\")\n",
    "    print(f\"Precision: {prec:.2f}\")\n",
    "    print(f\"F1-score: {f1_s:.2f}\")"
   ]
  },
  {
   "cell_type": "code",
   "execution_count": 15,
   "id": "3db4994f",
   "metadata": {},
   "outputs": [
    {
     "name": "stdout",
     "output_type": "stream",
     "text": [
      "['0.99', '0.99', '0.98', '0.97', '0.96', '0.95', '0.93', '0.91', '0.88', '0.82']\n",
      "['0.62', '0.73', '0.84', '0.89', '0.91', '0.92', '0.92', '0.92', '0.94', '0.93']\n",
      "['0.77', '0.84', '0.90', '0.93', '0.93', '0.93', '0.92', '0.92', '0.91', '0.87']\n"
     ]
    }
   ],
   "source": [
    "print(recall)\n",
    "print(precision)\n",
    "print(f1_score)"
   ]
  },
  {
   "cell_type": "markdown",
   "id": "dd17fc65",
   "metadata": {},
   "source": [
    "## ONLY VIRTUAL"
   ]
  },
  {
   "cell_type": "code",
   "execution_count": 16,
   "id": "2b441394",
   "metadata": {},
   "outputs": [
    {
     "name": "stdout",
     "output_type": "stream",
     "text": [
      "creating index...\n",
      "index created!\n",
      "Test:  [  0/240]  eta: 0:01:37  model_time: 0.3293 (0.3293)  evaluator_time: 0.0059 (0.0059)  time: 0.4048  data: 0.0453  max mem: 2025\n",
      "Test:  [100/240]  eta: 0:00:53  model_time: 0.3299 (0.3289)  evaluator_time: 0.0050 (0.0065)  time: 0.3864  data: 0.0471  max mem: 2025\n",
      "Test:  [200/240]  eta: 0:00:15  model_time: 0.3329 (0.3305)  evaluator_time: 0.0041 (0.0058)  time: 0.3857  data: 0.0458  max mem: 2025\n",
      "Test:  [239/240]  eta: 0:00:00  model_time: 0.3299 (0.3305)  evaluator_time: 0.0049 (0.0057)  time: 0.3821  data: 0.0463  max mem: 2025\n",
      "Test: Total time: 0:01:32 (0.3868 s / it)\n",
      "Averaged stats: model_time: 0.3299 (0.3305)  evaluator_time: 0.0049 (0.0057)\n",
      "Accumulating evaluation results...\n",
      "DONE (t=0.35s).\n",
      "IoU metric: bbox\n",
      " Average Precision  (AP) @[ IoU=0.50:0.95 | area=   all | maxDets=100 ] = 0.403\n",
      " Average Precision  (AP) @[ IoU=0.50      | area=   all | maxDets=100 ] = 0.724\n",
      " Average Precision  (AP) @[ IoU=0.75      | area=   all | maxDets=100 ] = 0.397\n",
      " Average Precision  (AP) @[ IoU=0.50:0.95 | area= small | maxDets=100 ] = 0.582\n",
      " Average Precision  (AP) @[ IoU=0.50:0.95 | area=medium | maxDets=100 ] = 0.483\n",
      " Average Precision  (AP) @[ IoU=0.50:0.95 | area= large | maxDets=100 ] = 0.376\n",
      " Average Recall     (AR) @[ IoU=0.50:0.95 | area=   all | maxDets=  1 ] = 0.430\n",
      " Average Recall     (AR) @[ IoU=0.50:0.95 | area=   all | maxDets= 10 ] = 0.555\n",
      " Average Recall     (AR) @[ IoU=0.50:0.95 | area=   all | maxDets=100 ] = 0.555\n",
      " Average Recall     (AR) @[ IoU=0.50:0.95 | area= small | maxDets=100 ] = 0.674\n",
      " Average Recall     (AR) @[ IoU=0.50:0.95 | area=medium | maxDets=100 ] = 0.628\n",
      " Average Recall     (AR) @[ IoU=0.50:0.95 | area= large | maxDets=100 ] = 0.533\n"
     ]
    },
    {
     "data": {
      "text/plain": [
       "<utils.coco_eval.CocoEvaluator at 0x7f3bd405a9b0>"
      ]
     },
     "execution_count": 16,
     "metadata": {},
     "output_type": "execute_result"
    }
   ],
   "source": [
    "evaluate(model_v, test_data_loader, device=device)"
   ]
  },
  {
   "cell_type": "markdown",
   "id": "85402bef",
   "metadata": {},
   "source": [
    "### FALL DETECTION"
   ]
  },
  {
   "cell_type": "code",
   "execution_count": 17,
   "id": "57340497",
   "metadata": {},
   "outputs": [
    {
     "name": "stderr",
     "output_type": "stream",
     "text": [
      "100%|██████████| 959/959 [01:40<00:00,  9.51it/s]\n"
     ]
    },
    {
     "name": "stdout",
     "output_type": "stream",
     "text": [
      "TP: 385\tFN: 6\tFP: 1700\n",
      "Recall: 0.98\n",
      "Precision: 0.18\n",
      "F1-score: 0.31\n"
     ]
    },
    {
     "name": "stderr",
     "output_type": "stream",
     "text": [
      "100%|██████████| 959/959 [01:41<00:00,  9.43it/s]\n"
     ]
    },
    {
     "name": "stdout",
     "output_type": "stream",
     "text": [
      "TP: 370\tFN: 21\tFP: 751\n",
      "Recall: 0.95\n",
      "Precision: 0.33\n",
      "F1-score: 0.49\n"
     ]
    },
    {
     "name": "stderr",
     "output_type": "stream",
     "text": [
      "100%|██████████| 959/959 [01:41<00:00,  9.47it/s]\n"
     ]
    },
    {
     "name": "stdout",
     "output_type": "stream",
     "text": [
      "TP: 340\tFN: 51\tFP: 379\n",
      "Recall: 0.87\n",
      "Precision: 0.47\n",
      "F1-score: 0.61\n"
     ]
    },
    {
     "name": "stderr",
     "output_type": "stream",
     "text": [
      "100%|██████████| 959/959 [01:41<00:00,  9.48it/s]\n"
     ]
    },
    {
     "name": "stdout",
     "output_type": "stream",
     "text": [
      "TP: 295\tFN: 96\tFP: 207\n",
      "Recall: 0.75\n",
      "Precision: 0.59\n",
      "F1-score: 0.66\n"
     ]
    },
    {
     "name": "stderr",
     "output_type": "stream",
     "text": [
      "100%|██████████| 959/959 [01:40<00:00,  9.54it/s]\n"
     ]
    },
    {
     "name": "stdout",
     "output_type": "stream",
     "text": [
      "TP: 254\tFN: 137\tFP: 94\n",
      "Recall: 0.65\n",
      "Precision: 0.73\n",
      "F1-score: 0.69\n"
     ]
    },
    {
     "name": "stderr",
     "output_type": "stream",
     "text": [
      "100%|██████████| 959/959 [01:40<00:00,  9.51it/s]\n"
     ]
    },
    {
     "name": "stdout",
     "output_type": "stream",
     "text": [
      "TP: 178\tFN: 213\tFP: 37\n",
      "Recall: 0.46\n",
      "Precision: 0.83\n",
      "F1-score: 0.59\n"
     ]
    },
    {
     "name": "stderr",
     "output_type": "stream",
     "text": [
      "100%|██████████| 959/959 [01:40<00:00,  9.51it/s]\n"
     ]
    },
    {
     "name": "stdout",
     "output_type": "stream",
     "text": [
      "TP: 119\tFN: 272\tFP: 12\n",
      "Recall: 0.30\n",
      "Precision: 0.91\n",
      "F1-score: 0.46\n"
     ]
    },
    {
     "name": "stderr",
     "output_type": "stream",
     "text": [
      "100%|██████████| 959/959 [01:41<00:00,  9.46it/s]\n"
     ]
    },
    {
     "name": "stdout",
     "output_type": "stream",
     "text": [
      "TP: 49\tFN: 342\tFP: 0\n",
      "Recall: 0.13\n",
      "Precision: 1.00\n",
      "F1-score: 0.22\n"
     ]
    },
    {
     "name": "stderr",
     "output_type": "stream",
     "text": [
      "100%|██████████| 959/959 [01:41<00:00,  9.49it/s]\n"
     ]
    },
    {
     "ename": "ZeroDivisionError",
     "evalue": "division by zero",
     "output_type": "error",
     "traceback": [
      "\u001b[0;31m---------------------------------------------------------------------------\u001b[0m",
      "\u001b[0;31mZeroDivisionError\u001b[0m                         Traceback (most recent call last)",
      "\u001b[0;32m<ipython-input-17-b843a0399550>\u001b[0m in \u001b[0;36m<module>\u001b[0;34m\u001b[0m\n\u001b[1;32m      3\u001b[0m     \u001b[0mtp\u001b[0m\u001b[0;34m,\u001b[0m \u001b[0mfp\u001b[0m\u001b[0;34m,\u001b[0m \u001b[0mfn\u001b[0m \u001b[0;34m=\u001b[0m \u001b[0mclassifier_performance\u001b[0m\u001b[0;34m(\u001b[0m\u001b[0mtest_dataset\u001b[0m\u001b[0;34m,\u001b[0m \u001b[0mmodel_v\u001b[0m\u001b[0;34m,\u001b[0m \u001b[0mdevice\u001b[0m\u001b[0;34m,\u001b[0m \u001b[0;36m2\u001b[0m\u001b[0;34m,\u001b[0m\u001b[0mfloat\u001b[0m\u001b[0;34m(\u001b[0m\u001b[0mthr\u001b[0m\u001b[0;34m/\u001b[0m\u001b[0;36m10\u001b[0m\u001b[0;34m)\u001b[0m\u001b[0;34m)\u001b[0m\u001b[0;34m\u001b[0m\u001b[0;34m\u001b[0m\u001b[0m\n\u001b[1;32m      4\u001b[0m     \u001b[0mrec\u001b[0m \u001b[0;34m=\u001b[0m \u001b[0mtp\u001b[0m \u001b[0;34m/\u001b[0m \u001b[0;34m(\u001b[0m\u001b[0mtp\u001b[0m\u001b[0;34m+\u001b[0m\u001b[0mfn\u001b[0m\u001b[0;34m)\u001b[0m\u001b[0;34m\u001b[0m\u001b[0;34m\u001b[0m\u001b[0m\n\u001b[0;32m----> 5\u001b[0;31m     \u001b[0mprec\u001b[0m \u001b[0;34m=\u001b[0m \u001b[0mtp\u001b[0m\u001b[0;34m/\u001b[0m \u001b[0;34m(\u001b[0m\u001b[0mtp\u001b[0m\u001b[0;34m+\u001b[0m\u001b[0mfp\u001b[0m\u001b[0;34m)\u001b[0m\u001b[0;34m\u001b[0m\u001b[0;34m\u001b[0m\u001b[0m\n\u001b[0m\u001b[1;32m      6\u001b[0m     \u001b[0mf1_s\u001b[0m \u001b[0;34m=\u001b[0m \u001b[0;36m2\u001b[0m\u001b[0;34m/\u001b[0m\u001b[0;34m(\u001b[0m\u001b[0;34m(\u001b[0m\u001b[0;36m1\u001b[0m\u001b[0;34m/\u001b[0m\u001b[0mrec\u001b[0m\u001b[0;34m)\u001b[0m\u001b[0;34m+\u001b[0m\u001b[0;34m(\u001b[0m\u001b[0;36m1\u001b[0m\u001b[0;34m/\u001b[0m\u001b[0mprec\u001b[0m\u001b[0;34m)\u001b[0m\u001b[0;34m)\u001b[0m\u001b[0;34m\u001b[0m\u001b[0;34m\u001b[0m\u001b[0m\n\u001b[1;32m      7\u001b[0m     \u001b[0mrecall\u001b[0m\u001b[0;34m.\u001b[0m\u001b[0mappend\u001b[0m\u001b[0;34m(\u001b[0m\u001b[0;34mf\"{rec:.2f}\"\u001b[0m\u001b[0;34m)\u001b[0m\u001b[0;34m\u001b[0m\u001b[0;34m\u001b[0m\u001b[0m\n",
      "\u001b[0;31mZeroDivisionError\u001b[0m: division by zero"
     ]
    }
   ],
   "source": [
    "recall, precision, f1_score = [],[],[]\n",
    "for thr in range(0,10,1):\n",
    "    tp, fp, fn = classifier_performance(test_dataset, model_v, device, 2,float(thr/10))\n",
    "    rec = tp / (tp+fn)\n",
    "    prec = tp/ (tp+fp)\n",
    "    f1_s = 2/((1/rec)+(1/prec))\n",
    "    recall.append(f\"{rec:.2f}\")\n",
    "    precision.append(f\"{prec:.2f}\")\n",
    "    f1_score.append(f\"{f1_s:.2f}\")\n",
    "    print(f\"TP: {tp}\\tFN: {fn}\\tFP: {fp}\")\n",
    "    print(f\"Recall: {rec:.2f}\")\n",
    "    print(f\"Precision: {prec:.2f}\")\n",
    "    print(f\"F1-score: {f1_s:.2f}\")"
   ]
  },
  {
   "cell_type": "code",
   "execution_count": 18,
   "id": "b4739fb2",
   "metadata": {},
   "outputs": [
    {
     "name": "stdout",
     "output_type": "stream",
     "text": [
      "['0.98', '0.95', '0.87', '0.75', '0.65', '0.46', '0.30', '0.13']\n",
      "['0.18', '0.33', '0.47', '0.59', '0.73', '0.83', '0.91', '1.00']\n",
      "['0.31', '0.49', '0.61', '0.66', '0.69', '0.59', '0.46', '0.22']\n"
     ]
    }
   ],
   "source": [
    "print(recall)\n",
    "print(precision)\n",
    "print(f1_score)"
   ]
  },
  {
   "cell_type": "markdown",
   "id": "1470a6ab",
   "metadata": {},
   "source": [
    "### NO-FALL DETECTION"
   ]
  },
  {
   "cell_type": "code",
   "execution_count": 19,
   "id": "4c9aec78",
   "metadata": {},
   "outputs": [
    {
     "name": "stderr",
     "output_type": "stream",
     "text": [
      "100%|██████████| 959/959 [01:40<00:00,  9.58it/s]\n"
     ]
    },
    {
     "name": "stdout",
     "output_type": "stream",
     "text": [
      "TP: 828\tFN: 2\tFP: 2845\n",
      "Recall: 1.00\n",
      "Precision: 0.23\n",
      "F1-score: 0.37\n"
     ]
    },
    {
     "name": "stderr",
     "output_type": "stream",
     "text": [
      "100%|██████████| 959/959 [01:40<00:00,  9.53it/s]\n"
     ]
    },
    {
     "name": "stdout",
     "output_type": "stream",
     "text": [
      "TP: 825\tFN: 5\tFP: 1898\n",
      "Recall: 0.99\n",
      "Precision: 0.30\n",
      "F1-score: 0.46\n"
     ]
    },
    {
     "name": "stderr",
     "output_type": "stream",
     "text": [
      "100%|██████████| 959/959 [01:40<00:00,  9.50it/s]\n"
     ]
    },
    {
     "name": "stdout",
     "output_type": "stream",
     "text": [
      "TP: 822\tFN: 8\tFP: 1209\n",
      "Recall: 0.99\n",
      "Precision: 0.40\n",
      "F1-score: 0.57\n"
     ]
    },
    {
     "name": "stderr",
     "output_type": "stream",
     "text": [
      "100%|██████████| 959/959 [01:40<00:00,  9.50it/s]\n"
     ]
    },
    {
     "name": "stdout",
     "output_type": "stream",
     "text": [
      "TP: 811\tFN: 19\tFP: 871\n",
      "Recall: 0.98\n",
      "Precision: 0.48\n",
      "F1-score: 0.65\n"
     ]
    },
    {
     "name": "stderr",
     "output_type": "stream",
     "text": [
      "100%|██████████| 959/959 [01:41<00:00,  9.43it/s]\n"
     ]
    },
    {
     "name": "stdout",
     "output_type": "stream",
     "text": [
      "TP: 800\tFN: 30\tFP: 656\n",
      "Recall: 0.96\n",
      "Precision: 0.55\n",
      "F1-score: 0.70\n"
     ]
    },
    {
     "name": "stderr",
     "output_type": "stream",
     "text": [
      "100%|██████████| 959/959 [01:40<00:00,  9.50it/s]\n"
     ]
    },
    {
     "name": "stdout",
     "output_type": "stream",
     "text": [
      "TP: 796\tFN: 34\tFP: 510\n",
      "Recall: 0.96\n",
      "Precision: 0.61\n",
      "F1-score: 0.75\n"
     ]
    },
    {
     "name": "stderr",
     "output_type": "stream",
     "text": [
      "100%|██████████| 959/959 [01:41<00:00,  9.46it/s]\n"
     ]
    },
    {
     "name": "stdout",
     "output_type": "stream",
     "text": [
      "TP: 796\tFN: 34\tFP: 424\n",
      "Recall: 0.96\n",
      "Precision: 0.65\n",
      "F1-score: 0.78\n"
     ]
    },
    {
     "name": "stderr",
     "output_type": "stream",
     "text": [
      "100%|██████████| 959/959 [01:41<00:00,  9.45it/s]\n"
     ]
    },
    {
     "name": "stdout",
     "output_type": "stream",
     "text": [
      "TP: 792\tFN: 38\tFP: 391\n",
      "Recall: 0.95\n",
      "Precision: 0.67\n",
      "F1-score: 0.79\n"
     ]
    },
    {
     "name": "stderr",
     "output_type": "stream",
     "text": [
      "100%|██████████| 959/959 [01:41<00:00,  9.40it/s]\n"
     ]
    },
    {
     "name": "stdout",
     "output_type": "stream",
     "text": [
      "TP: 781\tFN: 49\tFP: 386\n",
      "Recall: 0.94\n",
      "Precision: 0.67\n",
      "F1-score: 0.78\n"
     ]
    },
    {
     "name": "stderr",
     "output_type": "stream",
     "text": [
      "100%|██████████| 959/959 [01:40<00:00,  9.50it/s]"
     ]
    },
    {
     "name": "stdout",
     "output_type": "stream",
     "text": [
      "TP: 750\tFN: 80\tFP: 348\n",
      "Recall: 0.90\n",
      "Precision: 0.68\n",
      "F1-score: 0.78\n"
     ]
    },
    {
     "name": "stderr",
     "output_type": "stream",
     "text": [
      "\n"
     ]
    }
   ],
   "source": [
    "recall, precision, f1_score = [],[],[]\n",
    "for thr in range(0,10,1):\n",
    "    tp, fp, fn = classifier_performance(test_dataset, model_v, device, 1,float(thr/10))\n",
    "    rec = tp / (tp+fn)\n",
    "    prec = tp/ (tp+fp)\n",
    "    f1_s = 2/((1/rec)+(1/prec))\n",
    "    recall.append(f\"{rec:.2f}\")\n",
    "    precision.append(f\"{prec:.2f}\")\n",
    "    f1_score.append(f\"{f1_s:.2f}\")\n",
    "    print(f\"TP: {tp}\\tFN: {fn}\\tFP: {fp}\")\n",
    "    print(f\"Recall: {rec:.2f}\")\n",
    "    print(f\"Precision: {prec:.2f}\")\n",
    "    print(f\"F1-score: {f1_s:.2f}\")"
   ]
  },
  {
   "cell_type": "code",
   "execution_count": 20,
   "id": "79d9df82",
   "metadata": {},
   "outputs": [
    {
     "name": "stdout",
     "output_type": "stream",
     "text": [
      "['1.00', '0.99', '0.99', '0.98', '0.96', '0.96', '0.96', '0.95', '0.94', '0.90']\n",
      "['0.23', '0.30', '0.40', '0.48', '0.55', '0.61', '0.65', '0.67', '0.67', '0.68']\n",
      "['0.37', '0.46', '0.57', '0.65', '0.70', '0.75', '0.78', '0.79', '0.78', '0.78']\n"
     ]
    }
   ],
   "source": [
    "print(recall)\n",
    "print(precision)\n",
    "print(f1_score)"
   ]
  },
  {
   "cell_type": "markdown",
   "id": "55fd1321",
   "metadata": {},
   "source": [
    "## VIRTUAL THAN REAL"
   ]
  },
  {
   "cell_type": "code",
   "execution_count": 21,
   "id": "b8022cee",
   "metadata": {},
   "outputs": [
    {
     "name": "stdout",
     "output_type": "stream",
     "text": [
      "creating index...\n",
      "index created!\n",
      "Test:  [  0/240]  eta: 0:01:35  model_time: 0.3329 (0.3329)  evaluator_time: 0.0037 (0.0037)  time: 0.3984  data: 0.0454  max mem: 2025\n",
      "Test:  [100/240]  eta: 0:00:53  model_time: 0.3406 (0.3307)  evaluator_time: 0.0044 (0.0043)  time: 0.3936  data: 0.0462  max mem: 2025\n",
      "Test:  [200/240]  eta: 0:00:15  model_time: 0.3379 (0.3350)  evaluator_time: 0.0034 (0.0042)  time: 0.3952  data: 0.0486  max mem: 2025\n",
      "Test:  [239/240]  eta: 0:00:00  model_time: 0.3405 (0.3355)  evaluator_time: 0.0038 (0.0042)  time: 0.3911  data: 0.0480  max mem: 2025\n",
      "Test: Total time: 0:01:33 (0.3906 s / it)\n",
      "Averaged stats: model_time: 0.3405 (0.3355)  evaluator_time: 0.0038 (0.0042)\n",
      "Accumulating evaluation results...\n",
      "DONE (t=0.21s).\n",
      "IoU metric: bbox\n",
      " Average Precision  (AP) @[ IoU=0.50:0.95 | area=   all | maxDets=100 ] = 0.410\n",
      " Average Precision  (AP) @[ IoU=0.50      | area=   all | maxDets=100 ] = 0.843\n",
      " Average Precision  (AP) @[ IoU=0.75      | area=   all | maxDets=100 ] = 0.306\n",
      " Average Precision  (AP) @[ IoU=0.50:0.95 | area= small | maxDets=100 ] = 0.291\n",
      " Average Precision  (AP) @[ IoU=0.50:0.95 | area=medium | maxDets=100 ] = 0.443\n",
      " Average Precision  (AP) @[ IoU=0.50:0.95 | area= large | maxDets=100 ] = 0.437\n",
      " Average Recall     (AR) @[ IoU=0.50:0.95 | area=   all | maxDets=  1 ] = 0.415\n",
      " Average Recall     (AR) @[ IoU=0.50:0.95 | area=   all | maxDets= 10 ] = 0.489\n",
      " Average Recall     (AR) @[ IoU=0.50:0.95 | area=   all | maxDets=100 ] = 0.489\n",
      " Average Recall     (AR) @[ IoU=0.50:0.95 | area= small | maxDets=100 ] = 0.319\n",
      " Average Recall     (AR) @[ IoU=0.50:0.95 | area=medium | maxDets=100 ] = 0.483\n",
      " Average Recall     (AR) @[ IoU=0.50:0.95 | area= large | maxDets=100 ] = 0.526\n"
     ]
    },
    {
     "data": {
      "text/plain": [
       "<utils.coco_eval.CocoEvaluator at 0x7f3ccd31bb00>"
      ]
     },
     "execution_count": 21,
     "metadata": {},
     "output_type": "execute_result"
    }
   ],
   "source": [
    "evaluate(model_vtr, test_data_loader, device=device)"
   ]
  },
  {
   "cell_type": "markdown",
   "id": "23454bab",
   "metadata": {},
   "source": [
    "### FALL DETECTION"
   ]
  },
  {
   "cell_type": "code",
   "execution_count": 22,
   "id": "573b3d22",
   "metadata": {},
   "outputs": [
    {
     "name": "stderr",
     "output_type": "stream",
     "text": [
      "100%|██████████| 959/959 [01:42<00:00,  9.35it/s]\n"
     ]
    },
    {
     "name": "stdout",
     "output_type": "stream",
     "text": [
      "TP: 388\tFN: 3\tFP: 851\n",
      "Recall: 0.99\n",
      "Precision: 0.31\n",
      "F1-score: 0.48\n"
     ]
    },
    {
     "name": "stderr",
     "output_type": "stream",
     "text": [
      "100%|██████████| 959/959 [01:42<00:00,  9.34it/s]\n"
     ]
    },
    {
     "name": "stdout",
     "output_type": "stream",
     "text": [
      "TP: 387\tFN: 4\tFP: 518\n",
      "Recall: 0.99\n",
      "Precision: 0.43\n",
      "F1-score: 0.60\n"
     ]
    },
    {
     "name": "stderr",
     "output_type": "stream",
     "text": [
      "100%|██████████| 959/959 [01:42<00:00,  9.39it/s]\n"
     ]
    },
    {
     "name": "stdout",
     "output_type": "stream",
     "text": [
      "TP: 386\tFN: 5\tFP: 286\n",
      "Recall: 0.99\n",
      "Precision: 0.57\n",
      "F1-score: 0.73\n"
     ]
    },
    {
     "name": "stderr",
     "output_type": "stream",
     "text": [
      "100%|██████████| 959/959 [01:42<00:00,  9.34it/s]\n"
     ]
    },
    {
     "name": "stdout",
     "output_type": "stream",
     "text": [
      "TP: 385\tFN: 6\tFP: 195\n",
      "Recall: 0.98\n",
      "Precision: 0.66\n",
      "F1-score: 0.79\n"
     ]
    },
    {
     "name": "stderr",
     "output_type": "stream",
     "text": [
      "100%|██████████| 959/959 [01:42<00:00,  9.32it/s]\n"
     ]
    },
    {
     "name": "stdout",
     "output_type": "stream",
     "text": [
      "TP: 380\tFN: 11\tFP: 133\n",
      "Recall: 0.97\n",
      "Precision: 0.74\n",
      "F1-score: 0.84\n"
     ]
    },
    {
     "name": "stderr",
     "output_type": "stream",
     "text": [
      "100%|██████████| 959/959 [01:42<00:00,  9.39it/s]\n"
     ]
    },
    {
     "name": "stdout",
     "output_type": "stream",
     "text": [
      "TP: 373\tFN: 18\tFP: 102\n",
      "Recall: 0.95\n",
      "Precision: 0.79\n",
      "F1-score: 0.86\n"
     ]
    },
    {
     "name": "stderr",
     "output_type": "stream",
     "text": [
      "100%|██████████| 959/959 [01:42<00:00,  9.35it/s]\n"
     ]
    },
    {
     "name": "stdout",
     "output_type": "stream",
     "text": [
      "TP: 362\tFN: 29\tFP: 73\n",
      "Recall: 0.93\n",
      "Precision: 0.83\n",
      "F1-score: 0.88\n"
     ]
    },
    {
     "name": "stderr",
     "output_type": "stream",
     "text": [
      "100%|██████████| 959/959 [01:42<00:00,  9.39it/s]\n"
     ]
    },
    {
     "name": "stdout",
     "output_type": "stream",
     "text": [
      "TP: 354\tFN: 37\tFP: 61\n",
      "Recall: 0.91\n",
      "Precision: 0.85\n",
      "F1-score: 0.88\n"
     ]
    },
    {
     "name": "stderr",
     "output_type": "stream",
     "text": [
      "100%|██████████| 959/959 [01:42<00:00,  9.34it/s]\n"
     ]
    },
    {
     "name": "stdout",
     "output_type": "stream",
     "text": [
      "TP: 334\tFN: 57\tFP: 33\n",
      "Recall: 0.85\n",
      "Precision: 0.91\n",
      "F1-score: 0.88\n"
     ]
    },
    {
     "name": "stderr",
     "output_type": "stream",
     "text": [
      "100%|██████████| 959/959 [01:42<00:00,  9.39it/s]"
     ]
    },
    {
     "name": "stdout",
     "output_type": "stream",
     "text": [
      "TP: 305\tFN: 86\tFP: 13\n",
      "Recall: 0.78\n",
      "Precision: 0.96\n",
      "F1-score: 0.86\n"
     ]
    },
    {
     "name": "stderr",
     "output_type": "stream",
     "text": [
      "\n"
     ]
    }
   ],
   "source": [
    "recall, precision, f1_score = [],[],[]\n",
    "for thr in range(0,10,1):\n",
    "    tp, fp, fn = classifier_performance(test_dataset, model_vtr, device, 2,float(thr/10))\n",
    "    rec = tp / (tp+fn)\n",
    "    prec = tp/ (tp+fp)\n",
    "    f1_s = 2/((1/rec)+(1/prec))\n",
    "    recall.append(f\"{rec:.2f}\")\n",
    "    precision.append(f\"{prec:.2f}\")\n",
    "    f1_score.append(f\"{f1_s:.2f}\")\n",
    "    print(f\"TP: {tp}\\tFN: {fn}\\tFP: {fp}\")\n",
    "    print(f\"Recall: {rec:.2f}\")\n",
    "    print(f\"Precision: {prec:.2f}\")\n",
    "    print(f\"F1-score: {f1_s:.2f}\")"
   ]
  },
  {
   "cell_type": "code",
   "execution_count": 23,
   "id": "b73934d2",
   "metadata": {},
   "outputs": [
    {
     "name": "stdout",
     "output_type": "stream",
     "text": [
      "['0.99', '0.99', '0.99', '0.98', '0.97', '0.95', '0.93', '0.91', '0.85', '0.78']\n",
      "['0.31', '0.43', '0.57', '0.66', '0.74', '0.79', '0.83', '0.85', '0.91', '0.96']\n",
      "['0.48', '0.60', '0.73', '0.79', '0.84', '0.86', '0.88', '0.88', '0.88', '0.86']\n"
     ]
    }
   ],
   "source": [
    "print(recall)\n",
    "print(precision)\n",
    "print(f1_score)"
   ]
  },
  {
   "cell_type": "markdown",
   "id": "da430ada",
   "metadata": {},
   "source": [
    "### NO-FALL DETECTION"
   ]
  },
  {
   "cell_type": "code",
   "execution_count": 24,
   "id": "78431119",
   "metadata": {},
   "outputs": [
    {
     "name": "stderr",
     "output_type": "stream",
     "text": [
      "100%|██████████| 959/959 [01:41<00:00,  9.48it/s]\n"
     ]
    },
    {
     "name": "stdout",
     "output_type": "stream",
     "text": [
      "TP: 774\tFN: 56\tFP: 455\n",
      "Recall: 0.93\n",
      "Precision: 0.63\n",
      "F1-score: 0.75\n"
     ]
    },
    {
     "name": "stderr",
     "output_type": "stream",
     "text": [
      "100%|██████████| 959/959 [01:42<00:00,  9.35it/s]\n"
     ]
    },
    {
     "name": "stdout",
     "output_type": "stream",
     "text": [
      "TP: 744\tFN: 86\tFP: 265\n",
      "Recall: 0.90\n",
      "Precision: 0.74\n",
      "F1-score: 0.81\n"
     ]
    },
    {
     "name": "stderr",
     "output_type": "stream",
     "text": [
      "100%|██████████| 959/959 [01:42<00:00,  9.38it/s]\n"
     ]
    },
    {
     "name": "stdout",
     "output_type": "stream",
     "text": [
      "TP: 726\tFN: 104\tFP: 148\n",
      "Recall: 0.87\n",
      "Precision: 0.83\n",
      "F1-score: 0.85\n"
     ]
    },
    {
     "name": "stderr",
     "output_type": "stream",
     "text": [
      "100%|██████████| 959/959 [01:42<00:00,  9.37it/s]\n"
     ]
    },
    {
     "name": "stdout",
     "output_type": "stream",
     "text": [
      "TP: 710\tFN: 120\tFP: 73\n",
      "Recall: 0.86\n",
      "Precision: 0.91\n",
      "F1-score: 0.88\n"
     ]
    },
    {
     "name": "stderr",
     "output_type": "stream",
     "text": [
      "100%|██████████| 959/959 [01:42<00:00,  9.35it/s]\n"
     ]
    },
    {
     "name": "stdout",
     "output_type": "stream",
     "text": [
      "TP: 703\tFN: 127\tFP: 30\n",
      "Recall: 0.85\n",
      "Precision: 0.96\n",
      "F1-score: 0.90\n"
     ]
    },
    {
     "name": "stderr",
     "output_type": "stream",
     "text": [
      "100%|██████████| 959/959 [01:43<00:00,  9.28it/s]\n"
     ]
    },
    {
     "name": "stdout",
     "output_type": "stream",
     "text": [
      "TP: 696\tFN: 134\tFP: 22\n",
      "Recall: 0.84\n",
      "Precision: 0.97\n",
      "F1-score: 0.90\n"
     ]
    },
    {
     "name": "stderr",
     "output_type": "stream",
     "text": [
      "100%|██████████| 959/959 [01:42<00:00,  9.34it/s]\n"
     ]
    },
    {
     "name": "stdout",
     "output_type": "stream",
     "text": [
      "TP: 685\tFN: 145\tFP: 26\n",
      "Recall: 0.83\n",
      "Precision: 0.96\n",
      "F1-score: 0.89\n"
     ]
    },
    {
     "name": "stderr",
     "output_type": "stream",
     "text": [
      "100%|██████████| 959/959 [01:42<00:00,  9.36it/s]\n"
     ]
    },
    {
     "name": "stdout",
     "output_type": "stream",
     "text": [
      "TP: 675\tFN: 155\tFP: 30\n",
      "Recall: 0.81\n",
      "Precision: 0.96\n",
      "F1-score: 0.88\n"
     ]
    },
    {
     "name": "stderr",
     "output_type": "stream",
     "text": [
      "100%|██████████| 959/959 [01:42<00:00,  9.36it/s]\n"
     ]
    },
    {
     "name": "stdout",
     "output_type": "stream",
     "text": [
      "TP: 667\tFN: 163\tFP: 40\n",
      "Recall: 0.80\n",
      "Precision: 0.94\n",
      "F1-score: 0.87\n"
     ]
    },
    {
     "name": "stderr",
     "output_type": "stream",
     "text": [
      "100%|██████████| 959/959 [01:42<00:00,  9.35it/s]"
     ]
    },
    {
     "name": "stdout",
     "output_type": "stream",
     "text": [
      "TP: 639\tFN: 191\tFP: 61\n",
      "Recall: 0.77\n",
      "Precision: 0.91\n",
      "F1-score: 0.84\n"
     ]
    },
    {
     "name": "stderr",
     "output_type": "stream",
     "text": [
      "\n"
     ]
    }
   ],
   "source": [
    "recall, precision, f1_score = [],[],[]\n",
    "for thr in range(0,10,1):\n",
    "    tp, fp, fn = classifier_performance(test_dataset, model_vtr, device, 1,float(thr/10))\n",
    "    rec = tp / (tp+fn)\n",
    "    prec = tp/ (tp+fp)\n",
    "    f1_s = 2/((1/rec)+(1/prec))\n",
    "    recall.append(f\"{rec:.2f}\")\n",
    "    precision.append(f\"{prec:.2f}\")\n",
    "    f1_score.append(f\"{f1_s:.2f}\")\n",
    "    print(f\"TP: {tp}\\tFN: {fn}\\tFP: {fp}\")\n",
    "    print(f\"Recall: {rec:.2f}\")\n",
    "    print(f\"Precision: {prec:.2f}\")\n",
    "    print(f\"F1-score: {f1_s:.2f}\")"
   ]
  },
  {
   "cell_type": "code",
   "execution_count": 25,
   "id": "3fc2f26a",
   "metadata": {},
   "outputs": [
    {
     "name": "stdout",
     "output_type": "stream",
     "text": [
      "['0.93', '0.90', '0.87', '0.86', '0.85', '0.84', '0.83', '0.81', '0.80', '0.77']\n",
      "['0.63', '0.74', '0.83', '0.91', '0.96', '0.97', '0.96', '0.96', '0.94', '0.91']\n",
      "['0.75', '0.81', '0.85', '0.88', '0.90', '0.90', '0.89', '0.88', '0.87', '0.84']\n"
     ]
    }
   ],
   "source": [
    "print(recall)\n",
    "print(precision)\n",
    "print(f1_score)"
   ]
  },
  {
   "cell_type": "markdown",
   "id": "87136973",
   "metadata": {},
   "source": [
    "## VIRTUAL AND REAL"
   ]
  },
  {
   "cell_type": "code",
   "execution_count": 26,
   "id": "7e5e68d5",
   "metadata": {},
   "outputs": [
    {
     "name": "stdout",
     "output_type": "stream",
     "text": [
      "creating index...\n",
      "index created!\n",
      "Test:  [  0/240]  eta: 0:01:33  model_time: 0.3270 (0.3270)  evaluator_time: 0.0037 (0.0037)  time: 0.3915  data: 0.0358  max mem: 2025\n",
      "Test:  [100/240]  eta: 0:00:52  model_time: 0.3204 (0.3197)  evaluator_time: 0.0047 (0.0053)  time: 0.3766  data: 0.0479  max mem: 2025\n",
      "Test:  [200/240]  eta: 0:00:15  model_time: 0.3299 (0.3230)  evaluator_time: 0.0044 (0.0052)  time: 0.3834  data: 0.0456  max mem: 2025\n",
      "Test:  [239/240]  eta: 0:00:00  model_time: 0.3344 (0.3243)  evaluator_time: 0.0048 (0.0053)  time: 0.3860  data: 0.0469  max mem: 2025\n",
      "Test: Total time: 0:01:31 (0.3806 s / it)\n",
      "Averaged stats: model_time: 0.3344 (0.3243)  evaluator_time: 0.0048 (0.0053)\n",
      "Accumulating evaluation results...\n",
      "DONE (t=0.19s).\n",
      "IoU metric: bbox\n",
      " Average Precision  (AP) @[ IoU=0.50:0.95 | area=   all | maxDets=100 ] = 0.512\n",
      " Average Precision  (AP) @[ IoU=0.50      | area=   all | maxDets=100 ] = 0.941\n",
      " Average Precision  (AP) @[ IoU=0.75      | area=   all | maxDets=100 ] = 0.473\n",
      " Average Precision  (AP) @[ IoU=0.50:0.95 | area= small | maxDets=100 ] = 0.461\n",
      " Average Precision  (AP) @[ IoU=0.50:0.95 | area=medium | maxDets=100 ] = 0.539\n",
      " Average Precision  (AP) @[ IoU=0.50:0.95 | area= large | maxDets=100 ] = 0.530\n",
      " Average Recall     (AR) @[ IoU=0.50:0.95 | area=   all | maxDets=  1 ] = 0.515\n",
      " Average Recall     (AR) @[ IoU=0.50:0.95 | area=   all | maxDets= 10 ] = 0.598\n",
      " Average Recall     (AR) @[ IoU=0.50:0.95 | area=   all | maxDets=100 ] = 0.598\n",
      " Average Recall     (AR) @[ IoU=0.50:0.95 | area= small | maxDets=100 ] = 0.563\n",
      " Average Recall     (AR) @[ IoU=0.50:0.95 | area=medium | maxDets=100 ] = 0.593\n",
      " Average Recall     (AR) @[ IoU=0.50:0.95 | area= large | maxDets=100 ] = 0.616\n"
     ]
    },
    {
     "data": {
      "text/plain": [
       "<utils.coco_eval.CocoEvaluator at 0x7f3cf5f88e10>"
      ]
     },
     "execution_count": 26,
     "metadata": {},
     "output_type": "execute_result"
    }
   ],
   "source": [
    "evaluate(model_var, test_data_loader, device=device)"
   ]
  },
  {
   "cell_type": "markdown",
   "id": "e59ead0f",
   "metadata": {},
   "source": [
    "### FALL DETECTION"
   ]
  },
  {
   "cell_type": "code",
   "execution_count": 27,
   "id": "ca0b112f",
   "metadata": {},
   "outputs": [
    {
     "name": "stderr",
     "output_type": "stream",
     "text": [
      "100%|██████████| 959/959 [01:38<00:00,  9.71it/s]\n"
     ]
    },
    {
     "name": "stdout",
     "output_type": "stream",
     "text": [
      "TP: 389\tFN: 2\tFP: 1392\n",
      "Recall: 0.99\n",
      "Precision: 0.22\n",
      "F1-score: 0.36\n"
     ]
    },
    {
     "name": "stderr",
     "output_type": "stream",
     "text": [
      "100%|██████████| 959/959 [01:41<00:00,  9.43it/s]\n"
     ]
    },
    {
     "name": "stdout",
     "output_type": "stream",
     "text": [
      "TP: 388\tFN: 3\tFP: 628\n",
      "Recall: 0.99\n",
      "Precision: 0.38\n",
      "F1-score: 0.55\n"
     ]
    },
    {
     "name": "stderr",
     "output_type": "stream",
     "text": [
      "100%|██████████| 959/959 [01:41<00:00,  9.46it/s]\n"
     ]
    },
    {
     "name": "stdout",
     "output_type": "stream",
     "text": [
      "TP: 383\tFN: 8\tFP: 137\n",
      "Recall: 0.98\n",
      "Precision: 0.74\n",
      "F1-score: 0.84\n"
     ]
    },
    {
     "name": "stderr",
     "output_type": "stream",
     "text": [
      "100%|██████████| 959/959 [01:41<00:00,  9.41it/s]\n"
     ]
    },
    {
     "name": "stdout",
     "output_type": "stream",
     "text": [
      "TP: 378\tFN: 13\tFP: 89\n",
      "Recall: 0.97\n",
      "Precision: 0.81\n",
      "F1-score: 0.88\n"
     ]
    },
    {
     "name": "stderr",
     "output_type": "stream",
     "text": [
      "100%|██████████| 959/959 [01:41<00:00,  9.46it/s]\n"
     ]
    },
    {
     "name": "stdout",
     "output_type": "stream",
     "text": [
      "TP: 375\tFN: 16\tFP: 58\n",
      "Recall: 0.96\n",
      "Precision: 0.87\n",
      "F1-score: 0.91\n"
     ]
    },
    {
     "name": "stderr",
     "output_type": "stream",
     "text": [
      "100%|██████████| 959/959 [01:42<00:00,  9.39it/s]\n"
     ]
    },
    {
     "name": "stdout",
     "output_type": "stream",
     "text": [
      "TP: 374\tFN: 17\tFP: 35\n",
      "Recall: 0.96\n",
      "Precision: 0.91\n",
      "F1-score: 0.94\n"
     ]
    },
    {
     "name": "stderr",
     "output_type": "stream",
     "text": [
      "100%|██████████| 959/959 [01:42<00:00,  9.38it/s]\n"
     ]
    },
    {
     "name": "stdout",
     "output_type": "stream",
     "text": [
      "TP: 367\tFN: 24\tFP: 18\n",
      "Recall: 0.94\n",
      "Precision: 0.95\n",
      "F1-score: 0.95\n"
     ]
    },
    {
     "name": "stderr",
     "output_type": "stream",
     "text": [
      "100%|██████████| 959/959 [01:41<00:00,  9.45it/s]\n"
     ]
    },
    {
     "name": "stdout",
     "output_type": "stream",
     "text": [
      "TP: 357\tFN: 34\tFP: 11\n",
      "Recall: 0.91\n",
      "Precision: 0.97\n",
      "F1-score: 0.94\n"
     ]
    },
    {
     "name": "stderr",
     "output_type": "stream",
     "text": [
      "100%|██████████| 959/959 [01:42<00:00,  9.39it/s]\n"
     ]
    },
    {
     "name": "stdout",
     "output_type": "stream",
     "text": [
      "TP: 344\tFN: 47\tFP: 2\n",
      "Recall: 0.88\n",
      "Precision: 0.99\n",
      "F1-score: 0.93\n"
     ]
    },
    {
     "name": "stderr",
     "output_type": "stream",
     "text": [
      "100%|██████████| 959/959 [01:41<00:00,  9.45it/s]"
     ]
    },
    {
     "name": "stdout",
     "output_type": "stream",
     "text": [
      "TP: 293\tFN: 98\tFP: 1\n",
      "Recall: 0.75\n",
      "Precision: 1.00\n",
      "F1-score: 0.86\n"
     ]
    },
    {
     "name": "stderr",
     "output_type": "stream",
     "text": [
      "\n"
     ]
    }
   ],
   "source": [
    "recall, precision, f1_score = [],[],[]\n",
    "for thr in range(0,10,1):\n",
    "    tp, fp, fn = classifier_performance(test_dataset, model_var, device, 2,float(thr/10))\n",
    "    rec = tp / (tp+fn)\n",
    "    prec = tp/ (tp+fp)\n",
    "    f1_s = 2/((1/rec)+(1/prec))\n",
    "    recall.append(f\"{rec:.2f}\")\n",
    "    precision.append(f\"{prec:.2f}\")\n",
    "    f1_score.append(f\"{f1_s:.2f}\")\n",
    "    print(f\"TP: {tp}\\tFN: {fn}\\tFP: {fp}\")\n",
    "    print(f\"Recall: {rec:.2f}\")\n",
    "    print(f\"Precision: {prec:.2f}\")\n",
    "    print(f\"F1-score: {f1_s:.2f}\")"
   ]
  },
  {
   "cell_type": "code",
   "execution_count": 28,
   "id": "592b8f21",
   "metadata": {},
   "outputs": [
    {
     "name": "stdout",
     "output_type": "stream",
     "text": [
      "['0.99', '0.99', '0.98', '0.97', '0.96', '0.96', '0.94', '0.91', '0.88', '0.75']\n",
      "['0.22', '0.38', '0.74', '0.81', '0.87', '0.91', '0.95', '0.97', '0.99', '1.00']\n",
      "['0.36', '0.55', '0.84', '0.88', '0.91', '0.94', '0.95', '0.94', '0.93', '0.86']\n"
     ]
    }
   ],
   "source": [
    "print(recall)\n",
    "print(precision)\n",
    "print(f1_score)"
   ]
  },
  {
   "cell_type": "markdown",
   "id": "6840a297",
   "metadata": {},
   "source": [
    "### NO-FALL DETECTION"
   ]
  },
  {
   "cell_type": "code",
   "execution_count": 29,
   "id": "0e259884",
   "metadata": {},
   "outputs": [
    {
     "name": "stderr",
     "output_type": "stream",
     "text": [
      "100%|██████████| 959/959 [01:39<00:00,  9.65it/s]\n"
     ]
    },
    {
     "name": "stdout",
     "output_type": "stream",
     "text": [
      "TP: 826\tFN: 4\tFP: 1274\n",
      "Recall: 1.00\n",
      "Precision: 0.39\n",
      "F1-score: 0.56\n"
     ]
    },
    {
     "name": "stderr",
     "output_type": "stream",
     "text": [
      "100%|██████████| 959/959 [01:41<00:00,  9.42it/s]\n"
     ]
    },
    {
     "name": "stdout",
     "output_type": "stream",
     "text": [
      "TP: 819\tFN: 11\tFP: 596\n",
      "Recall: 0.99\n",
      "Precision: 0.58\n",
      "F1-score: 0.73\n"
     ]
    },
    {
     "name": "stderr",
     "output_type": "stream",
     "text": [
      "100%|██████████| 959/959 [01:42<00:00,  9.37it/s]\n"
     ]
    },
    {
     "name": "stdout",
     "output_type": "stream",
     "text": [
      "TP: 798\tFN: 32\tFP: 260\n",
      "Recall: 0.96\n",
      "Precision: 0.75\n",
      "F1-score: 0.85\n"
     ]
    },
    {
     "name": "stderr",
     "output_type": "stream",
     "text": [
      "100%|██████████| 959/959 [01:42<00:00,  9.38it/s]\n"
     ]
    },
    {
     "name": "stdout",
     "output_type": "stream",
     "text": [
      "TP: 776\tFN: 54\tFP: 72\n",
      "Recall: 0.93\n",
      "Precision: 0.92\n",
      "F1-score: 0.92\n"
     ]
    },
    {
     "name": "stderr",
     "output_type": "stream",
     "text": [
      "100%|██████████| 959/959 [01:41<00:00,  9.42it/s]\n"
     ]
    },
    {
     "name": "stdout",
     "output_type": "stream",
     "text": [
      "TP: 769\tFN: 61\tFP: 44\n",
      "Recall: 0.93\n",
      "Precision: 0.95\n",
      "F1-score: 0.94\n"
     ]
    },
    {
     "name": "stderr",
     "output_type": "stream",
     "text": [
      "100%|██████████| 959/959 [01:42<00:00,  9.39it/s]\n"
     ]
    },
    {
     "name": "stdout",
     "output_type": "stream",
     "text": [
      "TP: 760\tFN: 70\tFP: 24\n",
      "Recall: 0.92\n",
      "Precision: 0.97\n",
      "F1-score: 0.94\n"
     ]
    },
    {
     "name": "stderr",
     "output_type": "stream",
     "text": [
      "100%|██████████| 959/959 [01:42<00:00,  9.37it/s]\n"
     ]
    },
    {
     "name": "stdout",
     "output_type": "stream",
     "text": [
      "TP: 759\tFN: 71\tFP: 26\n",
      "Recall: 0.91\n",
      "Precision: 0.97\n",
      "F1-score: 0.94\n"
     ]
    },
    {
     "name": "stderr",
     "output_type": "stream",
     "text": [
      "100%|██████████| 959/959 [01:42<00:00,  9.40it/s]\n"
     ]
    },
    {
     "name": "stdout",
     "output_type": "stream",
     "text": [
      "TP: 749\tFN: 81\tFP: 33\n",
      "Recall: 0.90\n",
      "Precision: 0.96\n",
      "F1-score: 0.93\n"
     ]
    },
    {
     "name": "stderr",
     "output_type": "stream",
     "text": [
      "100%|██████████| 959/959 [01:42<00:00,  9.38it/s]\n"
     ]
    },
    {
     "name": "stdout",
     "output_type": "stream",
     "text": [
      "TP: 737\tFN: 93\tFP: 41\n",
      "Recall: 0.89\n",
      "Precision: 0.95\n",
      "F1-score: 0.92\n"
     ]
    },
    {
     "name": "stderr",
     "output_type": "stream",
     "text": [
      "100%|██████████| 959/959 [01:41<00:00,  9.43it/s]"
     ]
    },
    {
     "name": "stdout",
     "output_type": "stream",
     "text": [
      "TP: 652\tFN: 178\tFP: 82\n",
      "Recall: 0.79\n",
      "Precision: 0.89\n",
      "F1-score: 0.83\n"
     ]
    },
    {
     "name": "stderr",
     "output_type": "stream",
     "text": [
      "\n"
     ]
    }
   ],
   "source": [
    "recall, precision, f1_score = [],[],[]\n",
    "for thr in range(0,10,1):\n",
    "    tp, fp, fn = classifier_performance(test_dataset, model_var, device, 1,float(thr/10))\n",
    "    rec = tp / (tp+fn)\n",
    "    prec = tp/ (tp+fp)\n",
    "    f1_s = 2/((1/rec)+(1/prec))\n",
    "    recall.append(f\"{rec:.2f}\")\n",
    "    precision.append(f\"{prec:.2f}\")\n",
    "    f1_score.append(f\"{f1_s:.2f}\")\n",
    "    print(f\"TP: {tp}\\tFN: {fn}\\tFP: {fp}\")\n",
    "    print(f\"Recall: {rec:.2f}\")\n",
    "    print(f\"Precision: {prec:.2f}\")\n",
    "    print(f\"F1-score: {f1_s:.2f}\")"
   ]
  },
  {
   "cell_type": "code",
   "execution_count": 30,
   "id": "fb3c3dd8",
   "metadata": {},
   "outputs": [
    {
     "name": "stdout",
     "output_type": "stream",
     "text": [
      "['1.00', '0.99', '0.96', '0.93', '0.93', '0.92', '0.91', '0.90', '0.89', '0.79']\n",
      "['0.39', '0.58', '0.75', '0.92', '0.95', '0.97', '0.97', '0.96', '0.95', '0.89']\n",
      "['0.56', '0.73', '0.85', '0.92', '0.94', '0.94', '0.94', '0.93', '0.92', '0.83']\n"
     ]
    }
   ],
   "source": [
    "print(recall)\n",
    "print(precision)\n",
    "print(f1_score)"
   ]
  }
 ],
 "metadata": {
  "kernelspec": {
   "display_name": "Python 3",
   "language": "python",
   "name": "python3"
  },
  "language_info": {
   "codemirror_mode": {
    "name": "ipython",
    "version": 3
   },
   "file_extension": ".py",
   "mimetype": "text/x-python",
   "name": "python",
   "nbconvert_exporter": "python",
   "pygments_lexer": "ipython3",
   "version": "3.6.9"
  }
 },
 "nbformat": 4,
 "nbformat_minor": 5
}
