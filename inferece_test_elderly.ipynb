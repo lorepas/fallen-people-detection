{
 "cells": [
  {
   "cell_type": "code",
   "execution_count": 2,
   "id": "d3f13f6a",
   "metadata": {},
   "outputs": [],
   "source": [
    "from utils.load_dataset import *\n",
    "from utils.custom_utils import *"
   ]
  },
  {
   "cell_type": "code",
   "execution_count": 3,
   "id": "e1e90fd2",
   "metadata": {},
   "outputs": [],
   "source": [
    "model_path_var = \"./models/checkpoint_train_virtual_and_real.pth\"\n",
    "model_path_vtr = \"./models/checkpoint_train_real_over_virtual.pth\"\n",
    "model_path_r = \"./models/checkpoint_train_real.pth\"\n",
    "model_path_v = \"./models/checkpoint_train_virtual.pth\""
   ]
  },
  {
   "cell_type": "code",
   "execution_count": 4,
   "id": "9fd0fcfd",
   "metadata": {},
   "outputs": [],
   "source": [
    "def load_model(path):\n",
    "    device = torch.device('cuda') if torch.cuda.is_available() else torch.device('cpu')\n",
    "\n",
    "    # create a Faster R-CNN model without pre-trained\n",
    "    model = torchvision.models.detection.fasterrcnn_resnet50_fpn(pretrained=False, pretrained_backbone=False)\n",
    "\n",
    "    num_classes = 3 # wheat or not(background)\n",
    "\n",
    "    # get number of input features for the classifier\n",
    "    in_features = model.roi_heads.box_predictor.cls_score.in_features\n",
    "\n",
    "    # replace the pre-trained model's head with a new one\n",
    "    model.roi_heads.box_predictor = FastRCNNPredictor(in_features, num_classes)\n",
    "    checkpoint = torch.load(path, map_location=device)\n",
    "    model.load_state_dict(checkpoint['model'])\n",
    "    # load the trained weights\n",
    "    #model.load_state_dict(torch.load(path, map_location=device))\n",
    "    model.eval()\n",
    "\n",
    "    # move model to the right device\n",
    "    model.to(device)\n",
    "    return model, device"
   ]
  },
  {
   "cell_type": "code",
   "execution_count": 5,
   "id": "88ac06be",
   "metadata": {},
   "outputs": [],
   "source": [
    "def take_prediction(prediction, threshold):\n",
    "    boxes = prediction['boxes'].tolist()\n",
    "    labels = prediction['labels'].tolist()\n",
    "    scores = prediction['scores'].tolist()\n",
    "    if len(boxes) == 0:\n",
    "        return [([0,0,0,0],1,0.)]\n",
    "    \n",
    "    res = [t for t in zip(boxes,labels,scores) if t[2]>threshold]\n",
    "    if len(res) == 0:\n",
    "        res = [([0,0,0,0],1,0.)]\n",
    "    return res"
   ]
  },
  {
   "cell_type": "code",
   "execution_count": 6,
   "id": "2a6ddaa7",
   "metadata": {},
   "outputs": [],
   "source": [
    "def visualize_prediction(dataset, list_imgs, model, device, path=None, thr=0.7):\n",
    "    for l in list_imgs:\n",
    "        img,target = dataset[l]\n",
    "        with torch.no_grad():\n",
    "            prediction = model([img.to(device)])\n",
    "        p = take_prediction(prediction[0],thr)\n",
    "        for bb,label,score in p:\n",
    "            if label == 1:\n",
    "                color = \"green\"\n",
    "                text = f\"no fallen: {score:.3f}\"\n",
    "            else:\n",
    "                color = \"red\"\n",
    "                text = f\"fallen: {score:.3f}\"\n",
    "            x0,y0,x1,y1 = bb\n",
    "            im = Image.fromarray(img.mul(255).permute(1, 2, 0).byte().numpy())\n",
    "            draw = ImageDraw.Draw(im)\n",
    "            draw.rectangle(((x0, y0),(x1,y1)), outline=color, width=3)\n",
    "            draw.text((x0, y0), text)\n",
    "        if path is None:\n",
    "            ImageShow.show(im)\n",
    "        else:\n",
    "            im.save(f'snapshots/{path}{l}.png')"
   ]
  },
  {
   "cell_type": "code",
   "execution_count": 7,
   "id": "c149f3f8",
   "metadata": {},
   "outputs": [],
   "source": [
    "def classifier_performance(dataset, model, device, fallen_or_not, tr = 0.7):\n",
    "    tn, tp, fn, fp = 0,0,0,0\n",
    "    for im,target in tqdm(dataset):\n",
    "        gt_labels = target['labels'].tolist()\n",
    "        with torch.no_grad():\n",
    "            prediction = model([im.to(device)])\n",
    "        p = take_prediction(prediction[0], tr)\n",
    "        pred_labels = [l for _,l,_ in p]\n",
    "        len_gt_lab = len(gt_labels)\n",
    "        len_pred_lab = len(pred_labels)\n",
    "        fall_gt = [i for i in gt_labels if i==fallen_or_not]\n",
    "        num_fall_gt = len(fall_gt)\n",
    "        num_no_fall_gt = len_gt_lab - num_fall_gt\n",
    "\n",
    "        fall_pred = [i for i in pred_labels if i==fallen_or_not] \n",
    "        num_fall_pred = len(fall_pred)\n",
    "        num_no_fall_pred = len_pred_lab - num_fall_pred\n",
    "\n",
    "        if num_fall_gt == num_fall_pred:\n",
    "            tp += num_fall_gt\n",
    "        elif num_fall_gt > num_fall_pred:\n",
    "            tp += num_fall_pred\n",
    "            fn += (num_fall_gt - num_fall_pred)\n",
    "        else:\n",
    "            tp += num_fall_gt\n",
    "            fp += (num_fall_pred - num_fall_gt)\n",
    "    return tp, fp, fn"
   ]
  },
  {
   "cell_type": "markdown",
   "id": "cf602836",
   "metadata": {},
   "source": [
    "# UP-FALL DETECTION"
   ]
  },
  {
   "cell_type": "code",
   "execution_count": 8,
   "id": "a09a653b",
   "metadata": {},
   "outputs": [],
   "source": [
    "test_elderly = load_data(\"test_elderly.txt\")\n",
    "test_dataset = FallenPeople(test_elderly, \"test_elderly\", FallenPeople.valid_test_transform())"
   ]
  },
  {
   "cell_type": "code",
   "execution_count": 9,
   "id": "fcac0245",
   "metadata": {
    "scrolled": true
   },
   "outputs": [
    {
     "name": "stdout",
     "output_type": "stream",
     "text": [
      "141\n",
      "272\n"
     ]
    }
   ],
   "source": [
    "no_fall = 0\n",
    "fall = 0\n",
    "for t in test_dataset:\n",
    "    if t[1]['labels'][0] == 1:\n",
    "        no_fall += 1\n",
    "    elif t[1]['labels'][0] == 2:\n",
    "        fall += 1\n",
    "print(no_fall)\n",
    "print(fall)"
   ]
  },
  {
   "cell_type": "code",
   "execution_count": 10,
   "id": "1b9a057d",
   "metadata": {},
   "outputs": [],
   "source": [
    "def collate_fn(batch):\n",
    "        return tuple(zip(*batch))\n",
    "    \n",
    "test_data_loader = DataLoader(\n",
    "      test_dataset,\n",
    "      batch_size=4,\n",
    "      shuffle=False,\n",
    "      collate_fn=collate_fn\n",
    "    )"
   ]
  },
  {
   "cell_type": "code",
   "execution_count": 11,
   "id": "5d18b353",
   "metadata": {},
   "outputs": [],
   "source": [
    "model_var, device = load_model(model_path_var)\n",
    "model_vtr, _ = load_model(model_path_vtr)\n",
    "model_r, _ = load_model(model_path_r)\n",
    "model_v, _ = load_model(model_path_v)\n",
    "test_list = [random.randint(0,len(test_dataset)-1) for i in range(5)]"
   ]
  },
  {
   "cell_type": "markdown",
   "id": "929621b4",
   "metadata": {},
   "source": [
    "# ONLY REAL"
   ]
  },
  {
   "cell_type": "code",
   "execution_count": 11,
   "id": "49578f58",
   "metadata": {},
   "outputs": [
    {
     "name": "stdout",
     "output_type": "stream",
     "text": [
      "creating index...\n",
      "index created!\n",
      "Test:  [  0/104]  eta: 0:00:40  model_time: 0.3274 (0.3274)  evaluator_time: 0.0043 (0.0043)  time: 0.3896  data: 0.0547  max mem: 2025\n",
      "Test:  [100/104]  eta: 0:00:01  model_time: 0.3302 (0.3299)  evaluator_time: 0.0045 (0.0047)  time: 0.3930  data: 0.0550  max mem: 2025\n",
      "Test:  [103/104]  eta: 0:00:00  model_time: 0.3295 (0.3276)  evaluator_time: 0.0045 (0.0046)  time: 0.3797  data: 0.0541  max mem: 2025\n",
      "Test: Total time: 0:00:40 (0.3909 s / it)\n",
      "Averaged stats: model_time: 0.3295 (0.3276)  evaluator_time: 0.0045 (0.0046)\n",
      "Accumulating evaluation results...\n",
      "DONE (t=0.12s).\n",
      "IoU metric: bbox\n",
      " Average Precision  (AP) @[ IoU=0.50:0.95 | area=   all | maxDets=100 ] = 0.165\n",
      " Average Precision  (AP) @[ IoU=0.50      | area=   all | maxDets=100 ] = 0.397\n",
      " Average Precision  (AP) @[ IoU=0.75      | area=   all | maxDets=100 ] = 0.087\n",
      " Average Precision  (AP) @[ IoU=0.50:0.95 | area= small | maxDets=100 ] = 0.000\n",
      " Average Precision  (AP) @[ IoU=0.50:0.95 | area=medium | maxDets=100 ] = 0.017\n",
      " Average Precision  (AP) @[ IoU=0.50:0.95 | area= large | maxDets=100 ] = 0.338\n",
      " Average Recall     (AR) @[ IoU=0.50:0.95 | area=   all | maxDets=  1 ] = 0.216\n",
      " Average Recall     (AR) @[ IoU=0.50:0.95 | area=   all | maxDets= 10 ] = 0.219\n",
      " Average Recall     (AR) @[ IoU=0.50:0.95 | area=   all | maxDets=100 ] = 0.219\n",
      " Average Recall     (AR) @[ IoU=0.50:0.95 | area= small | maxDets=100 ] = 0.000\n",
      " Average Recall     (AR) @[ IoU=0.50:0.95 | area=medium | maxDets=100 ] = 0.017\n",
      " Average Recall     (AR) @[ IoU=0.50:0.95 | area= large | maxDets=100 ] = 0.447\n"
     ]
    },
    {
     "data": {
      "text/plain": [
       "<utils.coco_eval.CocoEvaluator at 0x7ff42b65ed68>"
      ]
     },
     "execution_count": 11,
     "metadata": {},
     "output_type": "execute_result"
    }
   ],
   "source": [
    "evaluate(model_r, test_data_loader, device=device)"
   ]
  },
  {
   "cell_type": "markdown",
   "id": "ce5d738d",
   "metadata": {},
   "source": [
    "### FALL DETECTION"
   ]
  },
  {
   "cell_type": "code",
   "execution_count": 12,
   "id": "c0e0ae4e",
   "metadata": {},
   "outputs": [
    {
     "name": "stderr",
     "output_type": "stream",
     "text": [
      "100%|██████████| 413/413 [00:44<00:00,  9.33it/s]\n"
     ]
    },
    {
     "name": "stdout",
     "output_type": "stream",
     "text": [
      "TP: 272\tFN: 0\tFP: 554\n",
      "Recall: 1.00\n",
      "Precision: 0.33\n",
      "F1-score: 0.50\n"
     ]
    },
    {
     "name": "stderr",
     "output_type": "stream",
     "text": [
      "100%|██████████| 413/413 [00:44<00:00,  9.20it/s]\n"
     ]
    },
    {
     "name": "stdout",
     "output_type": "stream",
     "text": [
      "TP: 271\tFN: 1\tFP: 395\n",
      "Recall: 1.00\n",
      "Precision: 0.41\n",
      "F1-score: 0.58\n"
     ]
    },
    {
     "name": "stderr",
     "output_type": "stream",
     "text": [
      "100%|██████████| 413/413 [00:45<00:00,  9.15it/s]\n"
     ]
    },
    {
     "name": "stdout",
     "output_type": "stream",
     "text": [
      "TP: 270\tFN: 2\tFP: 265\n",
      "Recall: 0.99\n",
      "Precision: 0.50\n",
      "F1-score: 0.67\n"
     ]
    },
    {
     "name": "stderr",
     "output_type": "stream",
     "text": [
      "100%|██████████| 413/413 [00:45<00:00,  9.09it/s]\n"
     ]
    },
    {
     "name": "stdout",
     "output_type": "stream",
     "text": [
      "TP: 268\tFN: 4\tFP: 212\n",
      "Recall: 0.99\n",
      "Precision: 0.56\n",
      "F1-score: 0.71\n"
     ]
    },
    {
     "name": "stderr",
     "output_type": "stream",
     "text": [
      "100%|██████████| 413/413 [00:45<00:00,  9.08it/s]\n"
     ]
    },
    {
     "name": "stdout",
     "output_type": "stream",
     "text": [
      "TP: 265\tFN: 7\tFP: 159\n",
      "Recall: 0.97\n",
      "Precision: 0.62\n",
      "F1-score: 0.76\n"
     ]
    },
    {
     "name": "stderr",
     "output_type": "stream",
     "text": [
      "100%|██████████| 413/413 [00:46<00:00,  8.97it/s]\n"
     ]
    },
    {
     "name": "stdout",
     "output_type": "stream",
     "text": [
      "TP: 264\tFN: 8\tFP: 131\n",
      "Recall: 0.97\n",
      "Precision: 0.67\n",
      "F1-score: 0.79\n"
     ]
    },
    {
     "name": "stderr",
     "output_type": "stream",
     "text": [
      "100%|██████████| 413/413 [00:46<00:00,  8.97it/s]\n"
     ]
    },
    {
     "name": "stdout",
     "output_type": "stream",
     "text": [
      "TP: 262\tFN: 10\tFP: 94\n",
      "Recall: 0.96\n",
      "Precision: 0.74\n",
      "F1-score: 0.83\n"
     ]
    },
    {
     "name": "stderr",
     "output_type": "stream",
     "text": [
      "100%|██████████| 413/413 [00:45<00:00,  9.02it/s]\n"
     ]
    },
    {
     "name": "stdout",
     "output_type": "stream",
     "text": [
      "TP: 257\tFN: 15\tFP: 60\n",
      "Recall: 0.94\n",
      "Precision: 0.81\n",
      "F1-score: 0.87\n"
     ]
    },
    {
     "name": "stderr",
     "output_type": "stream",
     "text": [
      "100%|██████████| 413/413 [00:45<00:00,  8.98it/s]\n"
     ]
    },
    {
     "name": "stdout",
     "output_type": "stream",
     "text": [
      "TP: 250\tFN: 22\tFP: 25\n",
      "Recall: 0.92\n",
      "Precision: 0.91\n",
      "F1-score: 0.91\n"
     ]
    },
    {
     "name": "stderr",
     "output_type": "stream",
     "text": [
      "100%|██████████| 413/413 [00:45<00:00,  8.99it/s]"
     ]
    },
    {
     "name": "stdout",
     "output_type": "stream",
     "text": [
      "TP: 230\tFN: 42\tFP: 10\n",
      "Recall: 0.85\n",
      "Precision: 0.96\n",
      "F1-score: 0.90\n"
     ]
    },
    {
     "name": "stderr",
     "output_type": "stream",
     "text": [
      "\n"
     ]
    }
   ],
   "source": [
    "recall, precision, f1_score = [],[],[]\n",
    "for thr in range(0,10,1):\n",
    "    tp, fp, fn = classifier_performance(test_dataset, model_r, device, 2,float(thr/10))\n",
    "    rec = tp / (tp+fn)\n",
    "    prec = tp/ (tp+fp)\n",
    "    f1_s = 2/((1/rec)+(1/prec))\n",
    "    recall.append(f\"{rec:.2f}\")\n",
    "    precision.append(f\"{prec:.2f}\")\n",
    "    f1_score.append(f\"{f1_s:.2f}\")\n",
    "    print(f\"TP: {tp}\\tFN: {fn}\\tFP: {fp}\")\n",
    "    print(f\"Recall: {rec:.2f}\")\n",
    "    print(f\"Precision: {prec:.2f}\")\n",
    "    print(f\"F1-score: {f1_s:.2f}\")"
   ]
  },
  {
   "cell_type": "code",
   "execution_count": 13,
   "id": "88096309",
   "metadata": {},
   "outputs": [
    {
     "name": "stdout",
     "output_type": "stream",
     "text": [
      "['1.00', '1.00', '0.99', '0.99', '0.97', '0.97', '0.96', '0.94', '0.92', '0.85']\n",
      "['0.33', '0.41', '0.50', '0.56', '0.62', '0.67', '0.74', '0.81', '0.91', '0.96']\n",
      "['0.50', '0.58', '0.67', '0.71', '0.76', '0.79', '0.83', '0.87', '0.91', '0.90']\n"
     ]
    }
   ],
   "source": [
    "print(recall)\n",
    "print(precision)\n",
    "print(f1_score)"
   ]
  },
  {
   "cell_type": "markdown",
   "id": "29fd6eaf",
   "metadata": {},
   "source": [
    "### NO-FALL DETECTION"
   ]
  },
  {
   "cell_type": "code",
   "execution_count": 14,
   "id": "7b858a4f",
   "metadata": {},
   "outputs": [
    {
     "name": "stderr",
     "output_type": "stream",
     "text": [
      "100%|██████████| 413/413 [00:43<00:00,  9.48it/s]\n"
     ]
    },
    {
     "name": "stdout",
     "output_type": "stream",
     "text": [
      "TP: 141\tFN: 0\tFP: 1093\n",
      "Recall: 1.00\n",
      "Precision: 0.11\n",
      "F1-score: 0.21\n"
     ]
    },
    {
     "name": "stderr",
     "output_type": "stream",
     "text": [
      "100%|██████████| 413/413 [00:43<00:00,  9.46it/s]\n"
     ]
    },
    {
     "name": "stdout",
     "output_type": "stream",
     "text": [
      "TP: 141\tFN: 0\tFP: 747\n",
      "Recall: 1.00\n",
      "Precision: 0.16\n",
      "F1-score: 0.27\n"
     ]
    },
    {
     "name": "stderr",
     "output_type": "stream",
     "text": [
      "100%|██████████| 413/413 [00:45<00:00,  9.14it/s]\n"
     ]
    },
    {
     "name": "stdout",
     "output_type": "stream",
     "text": [
      "TP: 141\tFN: 0\tFP: 473\n",
      "Recall: 1.00\n",
      "Precision: 0.23\n",
      "F1-score: 0.37\n"
     ]
    },
    {
     "name": "stderr",
     "output_type": "stream",
     "text": [
      "100%|██████████| 413/413 [00:45<00:00,  9.17it/s]\n"
     ]
    },
    {
     "name": "stdout",
     "output_type": "stream",
     "text": [
      "TP: 139\tFN: 2\tFP: 366\n",
      "Recall: 0.99\n",
      "Precision: 0.28\n",
      "F1-score: 0.43\n"
     ]
    },
    {
     "name": "stderr",
     "output_type": "stream",
     "text": [
      "100%|██████████| 413/413 [00:45<00:00,  9.18it/s]\n"
     ]
    },
    {
     "name": "stdout",
     "output_type": "stream",
     "text": [
      "TP: 125\tFN: 16\tFP: 276\n",
      "Recall: 0.89\n",
      "Precision: 0.31\n",
      "F1-score: 0.46\n"
     ]
    },
    {
     "name": "stderr",
     "output_type": "stream",
     "text": [
      "100%|██████████| 413/413 [00:45<00:00,  9.12it/s]\n"
     ]
    },
    {
     "name": "stdout",
     "output_type": "stream",
     "text": [
      "TP: 111\tFN: 30\tFP: 207\n",
      "Recall: 0.79\n",
      "Precision: 0.35\n",
      "F1-score: 0.48\n"
     ]
    },
    {
     "name": "stderr",
     "output_type": "stream",
     "text": [
      "100%|██████████| 413/413 [00:45<00:00,  9.14it/s]\n"
     ]
    },
    {
     "name": "stdout",
     "output_type": "stream",
     "text": [
      "TP: 103\tFN: 38\tFP: 167\n",
      "Recall: 0.73\n",
      "Precision: 0.38\n",
      "F1-score: 0.50\n"
     ]
    },
    {
     "name": "stderr",
     "output_type": "stream",
     "text": [
      "100%|██████████| 413/413 [00:44<00:00,  9.18it/s]\n"
     ]
    },
    {
     "name": "stdout",
     "output_type": "stream",
     "text": [
      "TP: 112\tFN: 29\tFP: 129\n",
      "Recall: 0.79\n",
      "Precision: 0.46\n",
      "F1-score: 0.59\n"
     ]
    },
    {
     "name": "stderr",
     "output_type": "stream",
     "text": [
      "100%|██████████| 413/413 [00:45<00:00,  9.18it/s]\n"
     ]
    },
    {
     "name": "stdout",
     "output_type": "stream",
     "text": [
      "TP: 132\tFN: 9\tFP: 104\n",
      "Recall: 0.94\n",
      "Precision: 0.56\n",
      "F1-score: 0.70\n"
     ]
    },
    {
     "name": "stderr",
     "output_type": "stream",
     "text": [
      "100%|██████████| 413/413 [00:44<00:00,  9.24it/s]"
     ]
    },
    {
     "name": "stdout",
     "output_type": "stream",
     "text": [
      "TP: 139\tFN: 2\tFP: 88\n",
      "Recall: 0.99\n",
      "Precision: 0.61\n",
      "F1-score: 0.76\n"
     ]
    },
    {
     "name": "stderr",
     "output_type": "stream",
     "text": [
      "\n"
     ]
    }
   ],
   "source": [
    "recall, precision, f1_score = [],[],[]\n",
    "for thr in range(0,10,1):\n",
    "    tp, fp, fn = classifier_performance(test_dataset, model_r, device, 1,float(thr/10))\n",
    "    rec = tp / (tp+fn)\n",
    "    prec = tp/ (tp+fp)\n",
    "    f1_s = 2/((1/rec)+(1/prec))\n",
    "    recall.append(f\"{rec:.2f}\")\n",
    "    precision.append(f\"{prec:.2f}\")\n",
    "    f1_score.append(f\"{f1_s:.2f}\")\n",
    "    print(f\"TP: {tp}\\tFN: {fn}\\tFP: {fp}\")\n",
    "    print(f\"Recall: {rec:.2f}\")\n",
    "    print(f\"Precision: {prec:.2f}\")\n",
    "    print(f\"F1-score: {f1_s:.2f}\")"
   ]
  },
  {
   "cell_type": "code",
   "execution_count": 16,
   "id": "3db4994f",
   "metadata": {},
   "outputs": [
    {
     "name": "stdout",
     "output_type": "stream",
     "text": [
      "['1.00', '1.00', '1.00', '0.99', '0.89', '0.79', '0.73', '0.79', '0.94', '0.99']\n",
      "['0.11', '0.16', '0.23', '0.28', '0.31', '0.35', '0.38', '0.46', '0.56', '0.61']\n",
      "['0.21', '0.27', '0.37', '0.43', '0.46', '0.48', '0.50', '0.59', '0.70', '0.76']\n"
     ]
    }
   ],
   "source": [
    "print(recall)\n",
    "print(precision)\n",
    "print(f1_score)"
   ]
  },
  {
   "cell_type": "markdown",
   "id": "dd17fc65",
   "metadata": {},
   "source": [
    "## ONLY VIRTUAL"
   ]
  },
  {
   "cell_type": "code",
   "execution_count": 12,
   "id": "2b441394",
   "metadata": {},
   "outputs": [
    {
     "name": "stdout",
     "output_type": "stream",
     "text": [
      "creating index...\n",
      "index created!\n",
      "Test:  [  0/104]  eta: 0:00:44  model_time: 0.3402 (0.3402)  evaluator_time: 0.0091 (0.0091)  time: 0.4269  data: 0.0744  max mem: 2025\n",
      "Test:  [100/104]  eta: 0:00:01  model_time: 0.3233 (0.3240)  evaluator_time: 0.0063 (0.0068)  time: 0.3896  data: 0.0542  max mem: 2025\n",
      "Test:  [103/104]  eta: 0:00:00  model_time: 0.3233 (0.3218)  evaluator_time: 0.0057 (0.0067)  time: 0.3740  data: 0.0513  max mem: 2025\n",
      "Test: Total time: 0:00:40 (0.3863 s / it)\n",
      "Averaged stats: model_time: 0.3233 (0.3218)  evaluator_time: 0.0057 (0.0067)\n",
      "Accumulating evaluation results...\n",
      "DONE (t=0.19s).\n",
      "IoU metric: bbox\n",
      " Average Precision  (AP) @[ IoU=0.50:0.95 | area=   all | maxDets=100 ] = 0.070\n",
      " Average Precision  (AP) @[ IoU=0.50      | area=   all | maxDets=100 ] = 0.179\n",
      " Average Precision  (AP) @[ IoU=0.75      | area=   all | maxDets=100 ] = 0.034\n",
      " Average Precision  (AP) @[ IoU=0.50:0.95 | area= small | maxDets=100 ] = 0.000\n",
      " Average Precision  (AP) @[ IoU=0.50:0.95 | area=medium | maxDets=100 ] = 0.003\n",
      " Average Precision  (AP) @[ IoU=0.50:0.95 | area= large | maxDets=100 ] = 0.180\n",
      " Average Recall     (AR) @[ IoU=0.50:0.95 | area=   all | maxDets=  1 ] = 0.132\n",
      " Average Recall     (AR) @[ IoU=0.50:0.95 | area=   all | maxDets= 10 ] = 0.212\n",
      " Average Recall     (AR) @[ IoU=0.50:0.95 | area=   all | maxDets=100 ] = 0.213\n",
      " Average Recall     (AR) @[ IoU=0.50:0.95 | area= small | maxDets=100 ] = 0.001\n",
      " Average Recall     (AR) @[ IoU=0.50:0.95 | area=medium | maxDets=100 ] = 0.200\n",
      " Average Recall     (AR) @[ IoU=0.50:0.95 | area= large | maxDets=100 ] = 0.431\n"
     ]
    },
    {
     "data": {
      "text/plain": [
       "<utils.coco_eval.CocoEvaluator at 0x7fc26c0bb6a0>"
      ]
     },
     "execution_count": 12,
     "metadata": {},
     "output_type": "execute_result"
    }
   ],
   "source": [
    "evaluate(model_v, test_data_loader, device=device)"
   ]
  },
  {
   "cell_type": "markdown",
   "id": "85402bef",
   "metadata": {},
   "source": [
    "### FALL DETECTION"
   ]
  },
  {
   "cell_type": "code",
   "execution_count": 13,
   "id": "57340497",
   "metadata": {},
   "outputs": [
    {
     "name": "stderr",
     "output_type": "stream",
     "text": [
      "100%|██████████| 413/413 [00:43<00:00,  9.48it/s]\n"
     ]
    },
    {
     "name": "stdout",
     "output_type": "stream",
     "text": [
      "TP: 270\tFN: 2\tFP: 1612\n",
      "Recall: 0.99\n",
      "Precision: 0.14\n",
      "F1-score: 0.25\n"
     ]
    },
    {
     "name": "stderr",
     "output_type": "stream",
     "text": [
      "100%|██████████| 413/413 [00:44<00:00,  9.27it/s]\n"
     ]
    },
    {
     "name": "stdout",
     "output_type": "stream",
     "text": [
      "TP: 267\tFN: 5\tFP: 861\n",
      "Recall: 0.98\n",
      "Precision: 0.24\n",
      "F1-score: 0.38\n"
     ]
    },
    {
     "name": "stderr",
     "output_type": "stream",
     "text": [
      "100%|██████████| 413/413 [00:45<00:00,  9.16it/s]\n"
     ]
    },
    {
     "name": "stdout",
     "output_type": "stream",
     "text": [
      "TP: 232\tFN: 40\tFP: 411\n",
      "Recall: 0.85\n",
      "Precision: 0.36\n",
      "F1-score: 0.51\n"
     ]
    },
    {
     "name": "stderr",
     "output_type": "stream",
     "text": [
      "100%|██████████| 413/413 [00:45<00:00,  9.10it/s]\n"
     ]
    },
    {
     "name": "stdout",
     "output_type": "stream",
     "text": [
      "TP: 199\tFN: 73\tFP: 194\n",
      "Recall: 0.73\n",
      "Precision: 0.51\n",
      "F1-score: 0.60\n"
     ]
    },
    {
     "name": "stderr",
     "output_type": "stream",
     "text": [
      "100%|██████████| 413/413 [00:45<00:00,  9.12it/s]\n"
     ]
    },
    {
     "name": "stdout",
     "output_type": "stream",
     "text": [
      "TP: 149\tFN: 123\tFP: 99\n",
      "Recall: 0.55\n",
      "Precision: 0.60\n",
      "F1-score: 0.57\n"
     ]
    },
    {
     "name": "stderr",
     "output_type": "stream",
     "text": [
      "100%|██████████| 413/413 [00:45<00:00,  9.15it/s]\n"
     ]
    },
    {
     "name": "stdout",
     "output_type": "stream",
     "text": [
      "TP: 99\tFN: 173\tFP: 36\n",
      "Recall: 0.36\n",
      "Precision: 0.73\n",
      "F1-score: 0.49\n"
     ]
    },
    {
     "name": "stderr",
     "output_type": "stream",
     "text": [
      "100%|██████████| 413/413 [00:44<00:00,  9.20it/s]\n"
     ]
    },
    {
     "name": "stdout",
     "output_type": "stream",
     "text": [
      "TP: 43\tFN: 229\tFP: 8\n",
      "Recall: 0.16\n",
      "Precision: 0.84\n",
      "F1-score: 0.27\n"
     ]
    },
    {
     "name": "stderr",
     "output_type": "stream",
     "text": [
      "100%|██████████| 413/413 [00:45<00:00,  9.17it/s]\n"
     ]
    },
    {
     "name": "stdout",
     "output_type": "stream",
     "text": [
      "TP: 9\tFN: 263\tFP: 1\n",
      "Recall: 0.03\n",
      "Precision: 0.90\n",
      "F1-score: 0.06\n"
     ]
    },
    {
     "name": "stderr",
     "output_type": "stream",
     "text": [
      "100%|██████████| 413/413 [00:45<00:00,  9.12it/s]\n"
     ]
    },
    {
     "ename": "ZeroDivisionError",
     "evalue": "division by zero",
     "output_type": "error",
     "traceback": [
      "\u001b[0;31m---------------------------------------------------------------------------\u001b[0m",
      "\u001b[0;31mZeroDivisionError\u001b[0m                         Traceback (most recent call last)",
      "\u001b[0;32m<ipython-input-13-b843a0399550>\u001b[0m in \u001b[0;36m<module>\u001b[0;34m\u001b[0m\n\u001b[1;32m      3\u001b[0m     \u001b[0mtp\u001b[0m\u001b[0;34m,\u001b[0m \u001b[0mfp\u001b[0m\u001b[0;34m,\u001b[0m \u001b[0mfn\u001b[0m \u001b[0;34m=\u001b[0m \u001b[0mclassifier_performance\u001b[0m\u001b[0;34m(\u001b[0m\u001b[0mtest_dataset\u001b[0m\u001b[0;34m,\u001b[0m \u001b[0mmodel_v\u001b[0m\u001b[0;34m,\u001b[0m \u001b[0mdevice\u001b[0m\u001b[0;34m,\u001b[0m \u001b[0;36m2\u001b[0m\u001b[0;34m,\u001b[0m\u001b[0mfloat\u001b[0m\u001b[0;34m(\u001b[0m\u001b[0mthr\u001b[0m\u001b[0;34m/\u001b[0m\u001b[0;36m10\u001b[0m\u001b[0;34m)\u001b[0m\u001b[0;34m)\u001b[0m\u001b[0;34m\u001b[0m\u001b[0;34m\u001b[0m\u001b[0m\n\u001b[1;32m      4\u001b[0m     \u001b[0mrec\u001b[0m \u001b[0;34m=\u001b[0m \u001b[0mtp\u001b[0m \u001b[0;34m/\u001b[0m \u001b[0;34m(\u001b[0m\u001b[0mtp\u001b[0m\u001b[0;34m+\u001b[0m\u001b[0mfn\u001b[0m\u001b[0;34m)\u001b[0m\u001b[0;34m\u001b[0m\u001b[0;34m\u001b[0m\u001b[0m\n\u001b[0;32m----> 5\u001b[0;31m     \u001b[0mprec\u001b[0m \u001b[0;34m=\u001b[0m \u001b[0mtp\u001b[0m\u001b[0;34m/\u001b[0m \u001b[0;34m(\u001b[0m\u001b[0mtp\u001b[0m\u001b[0;34m+\u001b[0m\u001b[0mfp\u001b[0m\u001b[0;34m)\u001b[0m\u001b[0;34m\u001b[0m\u001b[0;34m\u001b[0m\u001b[0m\n\u001b[0m\u001b[1;32m      6\u001b[0m     \u001b[0mf1_s\u001b[0m \u001b[0;34m=\u001b[0m \u001b[0;36m2\u001b[0m\u001b[0;34m/\u001b[0m\u001b[0;34m(\u001b[0m\u001b[0;34m(\u001b[0m\u001b[0;36m1\u001b[0m\u001b[0;34m/\u001b[0m\u001b[0mrec\u001b[0m\u001b[0;34m)\u001b[0m\u001b[0;34m+\u001b[0m\u001b[0;34m(\u001b[0m\u001b[0;36m1\u001b[0m\u001b[0;34m/\u001b[0m\u001b[0mprec\u001b[0m\u001b[0;34m)\u001b[0m\u001b[0;34m)\u001b[0m\u001b[0;34m\u001b[0m\u001b[0;34m\u001b[0m\u001b[0m\n\u001b[1;32m      7\u001b[0m     \u001b[0mrecall\u001b[0m\u001b[0;34m.\u001b[0m\u001b[0mappend\u001b[0m\u001b[0;34m(\u001b[0m\u001b[0;34mf\"{rec:.2f}\"\u001b[0m\u001b[0;34m)\u001b[0m\u001b[0;34m\u001b[0m\u001b[0;34m\u001b[0m\u001b[0m\n",
      "\u001b[0;31mZeroDivisionError\u001b[0m: division by zero"
     ]
    }
   ],
   "source": [
    "recall, precision, f1_score = [],[],[]\n",
    "for thr in range(0,10,1):\n",
    "    tp, fp, fn = classifier_performance(test_dataset, model_v, device, 2,float(thr/10))\n",
    "    rec = tp / (tp+fn)\n",
    "    prec = tp/ (tp+fp)\n",
    "    f1_s = 2/((1/rec)+(1/prec))\n",
    "    recall.append(f\"{rec:.2f}\")\n",
    "    precision.append(f\"{prec:.2f}\")\n",
    "    f1_score.append(f\"{f1_s:.2f}\")\n",
    "    print(f\"TP: {tp}\\tFN: {fn}\\tFP: {fp}\")\n",
    "    print(f\"Recall: {rec:.2f}\")\n",
    "    print(f\"Precision: {prec:.2f}\")\n",
    "    print(f\"F1-score: {f1_s:.2f}\")"
   ]
  },
  {
   "cell_type": "code",
   "execution_count": 14,
   "id": "b4739fb2",
   "metadata": {},
   "outputs": [
    {
     "name": "stdout",
     "output_type": "stream",
     "text": [
      "['0.99', '0.98', '0.85', '0.73', '0.55', '0.36', '0.16', '0.03']\n",
      "['0.14', '0.24', '0.36', '0.51', '0.60', '0.73', '0.84', '0.90']\n",
      "['0.25', '0.38', '0.51', '0.60', '0.57', '0.49', '0.27', '0.06']\n"
     ]
    }
   ],
   "source": [
    "print(recall)\n",
    "print(precision)\n",
    "print(f1_score)"
   ]
  },
  {
   "cell_type": "markdown",
   "id": "1470a6ab",
   "metadata": {},
   "source": [
    "### NO-FALL DETECTION"
   ]
  },
  {
   "cell_type": "code",
   "execution_count": 15,
   "id": "4c9aec78",
   "metadata": {},
   "outputs": [
    {
     "name": "stderr",
     "output_type": "stream",
     "text": [
      "100%|██████████| 413/413 [00:42<00:00,  9.69it/s]\n"
     ]
    },
    {
     "name": "stdout",
     "output_type": "stream",
     "text": [
      "TP: 141\tFN: 0\tFP: 3579\n",
      "Recall: 1.00\n",
      "Precision: 0.04\n",
      "F1-score: 0.07\n"
     ]
    },
    {
     "name": "stderr",
     "output_type": "stream",
     "text": [
      "100%|██████████| 413/413 [00:43<00:00,  9.42it/s]\n"
     ]
    },
    {
     "name": "stdout",
     "output_type": "stream",
     "text": [
      "TP: 141\tFN: 0\tFP: 2303\n",
      "Recall: 1.00\n",
      "Precision: 0.06\n",
      "F1-score: 0.11\n"
     ]
    },
    {
     "name": "stderr",
     "output_type": "stream",
     "text": [
      "100%|██████████| 413/413 [00:44<00:00,  9.31it/s]\n"
     ]
    },
    {
     "name": "stdout",
     "output_type": "stream",
     "text": [
      "TP: 141\tFN: 0\tFP: 1418\n",
      "Recall: 1.00\n",
      "Precision: 0.09\n",
      "F1-score: 0.17\n"
     ]
    },
    {
     "name": "stderr",
     "output_type": "stream",
     "text": [
      "100%|██████████| 413/413 [00:44<00:00,  9.33it/s]\n"
     ]
    },
    {
     "name": "stdout",
     "output_type": "stream",
     "text": [
      "TP: 140\tFN: 1\tFP: 1003\n",
      "Recall: 0.99\n",
      "Precision: 0.12\n",
      "F1-score: 0.22\n"
     ]
    },
    {
     "name": "stderr",
     "output_type": "stream",
     "text": [
      "100%|██████████| 413/413 [00:43<00:00,  9.39it/s]\n"
     ]
    },
    {
     "name": "stdout",
     "output_type": "stream",
     "text": [
      "TP: 137\tFN: 4\tFP: 748\n",
      "Recall: 0.97\n",
      "Precision: 0.15\n",
      "F1-score: 0.27\n"
     ]
    },
    {
     "name": "stderr",
     "output_type": "stream",
     "text": [
      "100%|██████████| 413/413 [00:44<00:00,  9.34it/s]\n"
     ]
    },
    {
     "name": "stdout",
     "output_type": "stream",
     "text": [
      "TP: 137\tFN: 4\tFP: 565\n",
      "Recall: 0.97\n",
      "Precision: 0.20\n",
      "F1-score: 0.33\n"
     ]
    },
    {
     "name": "stderr",
     "output_type": "stream",
     "text": [
      "100%|██████████| 413/413 [00:44<00:00,  9.36it/s]\n"
     ]
    },
    {
     "name": "stdout",
     "output_type": "stream",
     "text": [
      "TP: 138\tFN: 3\tFP: 449\n",
      "Recall: 0.98\n",
      "Precision: 0.24\n",
      "F1-score: 0.38\n"
     ]
    },
    {
     "name": "stderr",
     "output_type": "stream",
     "text": [
      "100%|██████████| 413/413 [00:44<00:00,  9.30it/s]\n"
     ]
    },
    {
     "name": "stdout",
     "output_type": "stream",
     "text": [
      "TP: 140\tFN: 1\tFP: 398\n",
      "Recall: 0.99\n",
      "Precision: 0.26\n",
      "F1-score: 0.41\n"
     ]
    },
    {
     "name": "stderr",
     "output_type": "stream",
     "text": [
      "100%|██████████| 413/413 [00:44<00:00,  9.31it/s]\n"
     ]
    },
    {
     "name": "stdout",
     "output_type": "stream",
     "text": [
      "TP: 141\tFN: 0\tFP: 332\n",
      "Recall: 1.00\n",
      "Precision: 0.30\n",
      "F1-score: 0.46\n"
     ]
    },
    {
     "name": "stderr",
     "output_type": "stream",
     "text": [
      "100%|██████████| 413/413 [00:44<00:00,  9.31it/s]"
     ]
    },
    {
     "name": "stdout",
     "output_type": "stream",
     "text": [
      "TP: 141\tFN: 0\tFP: 293\n",
      "Recall: 1.00\n",
      "Precision: 0.32\n",
      "F1-score: 0.49\n"
     ]
    },
    {
     "name": "stderr",
     "output_type": "stream",
     "text": [
      "\n"
     ]
    }
   ],
   "source": [
    "recall, precision, f1_score = [],[],[]\n",
    "for thr in range(0,10,1):\n",
    "    tp, fp, fn = classifier_performance(test_dataset, model_v, device, 1,float(thr/10))\n",
    "    rec = tp / (tp+fn)\n",
    "    prec = tp/ (tp+fp)\n",
    "    f1_s = 2/((1/rec)+(1/prec))\n",
    "    recall.append(f\"{rec:.2f}\")\n",
    "    precision.append(f\"{prec:.2f}\")\n",
    "    f1_score.append(f\"{f1_s:.2f}\")\n",
    "    print(f\"TP: {tp}\\tFN: {fn}\\tFP: {fp}\")\n",
    "    print(f\"Recall: {rec:.2f}\")\n",
    "    print(f\"Precision: {prec:.2f}\")\n",
    "    print(f\"F1-score: {f1_s:.2f}\")"
   ]
  },
  {
   "cell_type": "code",
   "execution_count": 16,
   "id": "79d9df82",
   "metadata": {},
   "outputs": [
    {
     "name": "stdout",
     "output_type": "stream",
     "text": [
      "['1.00', '1.00', '1.00', '0.99', '0.97', '0.97', '0.98', '0.99', '1.00', '1.00']\n",
      "['0.04', '0.06', '0.09', '0.12', '0.15', '0.20', '0.24', '0.26', '0.30', '0.32']\n",
      "['0.07', '0.11', '0.17', '0.22', '0.27', '0.33', '0.38', '0.41', '0.46', '0.49']\n"
     ]
    }
   ],
   "source": [
    "print(recall)\n",
    "print(precision)\n",
    "print(f1_score)"
   ]
  },
  {
   "cell_type": "markdown",
   "id": "55fd1321",
   "metadata": {},
   "source": [
    "## VIRTUAL THAN REAL"
   ]
  },
  {
   "cell_type": "code",
   "execution_count": 17,
   "id": "b8022cee",
   "metadata": {},
   "outputs": [
    {
     "name": "stdout",
     "output_type": "stream",
     "text": [
      "creating index...\n",
      "index created!\n",
      "Test:  [  0/104]  eta: 0:00:42  model_time: 0.3302 (0.3302)  evaluator_time: 0.0046 (0.0046)  time: 0.4043  data: 0.0438  max mem: 2025\n",
      "Test:  [100/104]  eta: 0:00:01  model_time: 0.3232 (0.3228)  evaluator_time: 0.0048 (0.0050)  time: 0.3917  data: 0.0597  max mem: 2025\n",
      "Test:  [103/104]  eta: 0:00:00  model_time: 0.3239 (0.3206)  evaluator_time: 0.0048 (0.0050)  time: 0.3791  data: 0.0586  max mem: 2025\n",
      "Test: Total time: 0:00:39 (0.3839 s / it)\n",
      "Averaged stats: model_time: 0.3239 (0.3206)  evaluator_time: 0.0048 (0.0050)\n",
      "Accumulating evaluation results...\n",
      "DONE (t=0.10s).\n",
      "IoU metric: bbox\n",
      " Average Precision  (AP) @[ IoU=0.50:0.95 | area=   all | maxDets=100 ] = 0.111\n",
      " Average Precision  (AP) @[ IoU=0.50      | area=   all | maxDets=100 ] = 0.302\n",
      " Average Precision  (AP) @[ IoU=0.75      | area=   all | maxDets=100 ] = 0.036\n",
      " Average Precision  (AP) @[ IoU=0.50:0.95 | area= small | maxDets=100 ] = 0.000\n",
      " Average Precision  (AP) @[ IoU=0.50:0.95 | area=medium | maxDets=100 ] = 0.000\n",
      " Average Precision  (AP) @[ IoU=0.50:0.95 | area= large | maxDets=100 ] = 0.227\n",
      " Average Recall     (AR) @[ IoU=0.50:0.95 | area=   all | maxDets=  1 ] = 0.154\n",
      " Average Recall     (AR) @[ IoU=0.50:0.95 | area=   all | maxDets= 10 ] = 0.188\n",
      " Average Recall     (AR) @[ IoU=0.50:0.95 | area=   all | maxDets=100 ] = 0.188\n",
      " Average Recall     (AR) @[ IoU=0.50:0.95 | area= small | maxDets=100 ] = 0.000\n",
      " Average Recall     (AR) @[ IoU=0.50:0.95 | area=medium | maxDets=100 ] = 0.000\n",
      " Average Recall     (AR) @[ IoU=0.50:0.95 | area= large | maxDets=100 ] = 0.385\n"
     ]
    },
    {
     "data": {
      "text/plain": [
       "<utils.coco_eval.CocoEvaluator at 0x7fc26468a940>"
      ]
     },
     "execution_count": 17,
     "metadata": {},
     "output_type": "execute_result"
    }
   ],
   "source": [
    "evaluate(model_vtr, test_data_loader, device=device)"
   ]
  },
  {
   "cell_type": "markdown",
   "id": "23454bab",
   "metadata": {},
   "source": [
    "### FALL DETECTION"
   ]
  },
  {
   "cell_type": "code",
   "execution_count": 18,
   "id": "573b3d22",
   "metadata": {},
   "outputs": [
    {
     "name": "stderr",
     "output_type": "stream",
     "text": [
      "100%|██████████| 413/413 [00:43<00:00,  9.49it/s]\n"
     ]
    },
    {
     "name": "stdout",
     "output_type": "stream",
     "text": [
      "TP: 272\tFN: 0\tFP: 1038\n",
      "Recall: 1.00\n",
      "Precision: 0.21\n",
      "F1-score: 0.34\n"
     ]
    },
    {
     "name": "stderr",
     "output_type": "stream",
     "text": [
      "100%|██████████| 413/413 [00:43<00:00,  9.41it/s]\n"
     ]
    },
    {
     "name": "stdout",
     "output_type": "stream",
     "text": [
      "TP: 272\tFN: 0\tFP: 730\n",
      "Recall: 1.00\n",
      "Precision: 0.27\n",
      "F1-score: 0.43\n"
     ]
    },
    {
     "name": "stderr",
     "output_type": "stream",
     "text": [
      "100%|██████████| 413/413 [00:44<00:00,  9.31it/s]\n"
     ]
    },
    {
     "name": "stdout",
     "output_type": "stream",
     "text": [
      "TP: 272\tFN: 0\tFP: 473\n",
      "Recall: 1.00\n",
      "Precision: 0.37\n",
      "F1-score: 0.53\n"
     ]
    },
    {
     "name": "stderr",
     "output_type": "stream",
     "text": [
      "100%|██████████| 413/413 [00:44<00:00,  9.20it/s]\n"
     ]
    },
    {
     "name": "stdout",
     "output_type": "stream",
     "text": [
      "TP: 272\tFN: 0\tFP: 362\n",
      "Recall: 1.00\n",
      "Precision: 0.43\n",
      "F1-score: 0.60\n"
     ]
    },
    {
     "name": "stderr",
     "output_type": "stream",
     "text": [
      "100%|██████████| 413/413 [00:44<00:00,  9.18it/s]\n"
     ]
    },
    {
     "name": "stdout",
     "output_type": "stream",
     "text": [
      "TP: 271\tFN: 1\tFP: 287\n",
      "Recall: 1.00\n",
      "Precision: 0.49\n",
      "F1-score: 0.65\n"
     ]
    },
    {
     "name": "stderr",
     "output_type": "stream",
     "text": [
      "100%|██████████| 413/413 [00:45<00:00,  9.12it/s]\n"
     ]
    },
    {
     "name": "stdout",
     "output_type": "stream",
     "text": [
      "TP: 266\tFN: 6\tFP: 223\n",
      "Recall: 0.98\n",
      "Precision: 0.54\n",
      "F1-score: 0.70\n"
     ]
    },
    {
     "name": "stderr",
     "output_type": "stream",
     "text": [
      "100%|██████████| 413/413 [00:45<00:00,  9.18it/s]\n"
     ]
    },
    {
     "name": "stdout",
     "output_type": "stream",
     "text": [
      "TP: 256\tFN: 16\tFP: 167\n",
      "Recall: 0.94\n",
      "Precision: 0.61\n",
      "F1-score: 0.74\n"
     ]
    },
    {
     "name": "stderr",
     "output_type": "stream",
     "text": [
      "100%|██████████| 413/413 [00:44<00:00,  9.22it/s]\n"
     ]
    },
    {
     "name": "stdout",
     "output_type": "stream",
     "text": [
      "TP: 248\tFN: 24\tFP: 121\n",
      "Recall: 0.91\n",
      "Precision: 0.67\n",
      "F1-score: 0.77\n"
     ]
    },
    {
     "name": "stderr",
     "output_type": "stream",
     "text": [
      "100%|██████████| 413/413 [00:44<00:00,  9.24it/s]\n"
     ]
    },
    {
     "name": "stdout",
     "output_type": "stream",
     "text": [
      "TP: 228\tFN: 44\tFP: 61\n",
      "Recall: 0.84\n",
      "Precision: 0.79\n",
      "F1-score: 0.81\n"
     ]
    },
    {
     "name": "stderr",
     "output_type": "stream",
     "text": [
      "100%|██████████| 413/413 [00:44<00:00,  9.21it/s]"
     ]
    },
    {
     "name": "stdout",
     "output_type": "stream",
     "text": [
      "TP: 179\tFN: 93\tFP: 23\n",
      "Recall: 0.66\n",
      "Precision: 0.89\n",
      "F1-score: 0.76\n"
     ]
    },
    {
     "name": "stderr",
     "output_type": "stream",
     "text": [
      "\n"
     ]
    }
   ],
   "source": [
    "recall, precision, f1_score = [],[],[]\n",
    "for thr in range(0,10,1):\n",
    "    tp, fp, fn = classifier_performance(test_dataset, model_vtr, device, 2,float(thr/10))\n",
    "    rec = tp / (tp+fn)\n",
    "    prec = tp/ (tp+fp)\n",
    "    f1_s = 2/((1/rec)+(1/prec))\n",
    "    recall.append(f\"{rec:.2f}\")\n",
    "    precision.append(f\"{prec:.2f}\")\n",
    "    f1_score.append(f\"{f1_s:.2f}\")\n",
    "    print(f\"TP: {tp}\\tFN: {fn}\\tFP: {fp}\")\n",
    "    print(f\"Recall: {rec:.2f}\")\n",
    "    print(f\"Precision: {prec:.2f}\")\n",
    "    print(f\"F1-score: {f1_s:.2f}\")"
   ]
  },
  {
   "cell_type": "code",
   "execution_count": 19,
   "id": "b73934d2",
   "metadata": {},
   "outputs": [
    {
     "name": "stdout",
     "output_type": "stream",
     "text": [
      "['1.00', '1.00', '1.00', '1.00', '1.00', '0.98', '0.94', '0.91', '0.84', '0.66']\n",
      "['0.21', '0.27', '0.37', '0.43', '0.49', '0.54', '0.61', '0.67', '0.79', '0.89']\n",
      "['0.34', '0.43', '0.53', '0.60', '0.65', '0.70', '0.74', '0.77', '0.81', '0.76']\n"
     ]
    }
   ],
   "source": [
    "print(recall)\n",
    "print(precision)\n",
    "print(f1_score)"
   ]
  },
  {
   "cell_type": "markdown",
   "id": "da430ada",
   "metadata": {},
   "source": [
    "### NO-FALL DETECTION"
   ]
  },
  {
   "cell_type": "code",
   "execution_count": 20,
   "id": "78431119",
   "metadata": {},
   "outputs": [
    {
     "name": "stderr",
     "output_type": "stream",
     "text": [
      "100%|██████████| 413/413 [00:43<00:00,  9.54it/s]\n"
     ]
    },
    {
     "name": "stdout",
     "output_type": "stream",
     "text": [
      "TP: 141\tFN: 0\tFP: 1316\n",
      "Recall: 1.00\n",
      "Precision: 0.10\n",
      "F1-score: 0.18\n"
     ]
    },
    {
     "name": "stderr",
     "output_type": "stream",
     "text": [
      "100%|██████████| 413/413 [00:43<00:00,  9.41it/s]\n"
     ]
    },
    {
     "name": "stdout",
     "output_type": "stream",
     "text": [
      "TP: 140\tFN: 1\tFP: 856\n",
      "Recall: 0.99\n",
      "Precision: 0.14\n",
      "F1-score: 0.25\n"
     ]
    },
    {
     "name": "stderr",
     "output_type": "stream",
     "text": [
      "100%|██████████| 413/413 [00:44<00:00,  9.26it/s]\n"
     ]
    },
    {
     "name": "stdout",
     "output_type": "stream",
     "text": [
      "TP: 137\tFN: 4\tFP: 490\n",
      "Recall: 0.97\n",
      "Precision: 0.22\n",
      "F1-score: 0.36\n"
     ]
    },
    {
     "name": "stderr",
     "output_type": "stream",
     "text": [
      "100%|██████████| 413/413 [00:45<00:00,  9.17it/s]\n"
     ]
    },
    {
     "name": "stdout",
     "output_type": "stream",
     "text": [
      "TP: 126\tFN: 15\tFP: 302\n",
      "Recall: 0.89\n",
      "Precision: 0.29\n",
      "F1-score: 0.44\n"
     ]
    },
    {
     "name": "stderr",
     "output_type": "stream",
     "text": [
      "100%|██████████| 413/413 [00:44<00:00,  9.24it/s]\n"
     ]
    },
    {
     "name": "stdout",
     "output_type": "stream",
     "text": [
      "TP: 111\tFN: 30\tFP: 202\n",
      "Recall: 0.79\n",
      "Precision: 0.35\n",
      "F1-score: 0.49\n"
     ]
    },
    {
     "name": "stderr",
     "output_type": "stream",
     "text": [
      "100%|██████████| 413/413 [00:45<00:00,  9.16it/s]\n"
     ]
    },
    {
     "name": "stdout",
     "output_type": "stream",
     "text": [
      "TP: 97\tFN: 44\tFP: 135\n",
      "Recall: 0.69\n",
      "Precision: 0.42\n",
      "F1-score: 0.52\n"
     ]
    },
    {
     "name": "stderr",
     "output_type": "stream",
     "text": [
      "100%|██████████| 413/413 [00:44<00:00,  9.21it/s]\n"
     ]
    },
    {
     "name": "stdout",
     "output_type": "stream",
     "text": [
      "TP: 92\tFN: 49\tFP: 92\n",
      "Recall: 0.65\n",
      "Precision: 0.50\n",
      "F1-score: 0.57\n"
     ]
    },
    {
     "name": "stderr",
     "output_type": "stream",
     "text": [
      "100%|██████████| 413/413 [00:44<00:00,  9.27it/s]\n"
     ]
    },
    {
     "name": "stdout",
     "output_type": "stream",
     "text": [
      "TP: 91\tFN: 50\tFP: 67\n",
      "Recall: 0.65\n",
      "Precision: 0.58\n",
      "F1-score: 0.61\n"
     ]
    },
    {
     "name": "stderr",
     "output_type": "stream",
     "text": [
      "100%|██████████| 413/413 [00:44<00:00,  9.20it/s]\n"
     ]
    },
    {
     "name": "stdout",
     "output_type": "stream",
     "text": [
      "TP: 105\tFN: 36\tFP: 64\n",
      "Recall: 0.74\n",
      "Precision: 0.62\n",
      "F1-score: 0.68\n"
     ]
    },
    {
     "name": "stderr",
     "output_type": "stream",
     "text": [
      "100%|██████████| 413/413 [00:44<00:00,  9.19it/s]"
     ]
    },
    {
     "name": "stdout",
     "output_type": "stream",
     "text": [
      "TP: 127\tFN: 14\tFP: 97\n",
      "Recall: 0.90\n",
      "Precision: 0.57\n",
      "F1-score: 0.70\n"
     ]
    },
    {
     "name": "stderr",
     "output_type": "stream",
     "text": [
      "\n"
     ]
    }
   ],
   "source": [
    "recall, precision, f1_score = [],[],[]\n",
    "for thr in range(0,10,1):\n",
    "    tp, fp, fn = classifier_performance(test_dataset, model_vtr, device, 1,float(thr/10))\n",
    "    rec = tp / (tp+fn)\n",
    "    prec = tp/ (tp+fp)\n",
    "    f1_s = 2/((1/rec)+(1/prec))\n",
    "    recall.append(f\"{rec:.2f}\")\n",
    "    precision.append(f\"{prec:.2f}\")\n",
    "    f1_score.append(f\"{f1_s:.2f}\")\n",
    "    print(f\"TP: {tp}\\tFN: {fn}\\tFP: {fp}\")\n",
    "    print(f\"Recall: {rec:.2f}\")\n",
    "    print(f\"Precision: {prec:.2f}\")\n",
    "    print(f\"F1-score: {f1_s:.2f}\")"
   ]
  },
  {
   "cell_type": "code",
   "execution_count": 21,
   "id": "3fc2f26a",
   "metadata": {},
   "outputs": [
    {
     "name": "stdout",
     "output_type": "stream",
     "text": [
      "['1.00', '0.99', '0.97', '0.89', '0.79', '0.69', '0.65', '0.65', '0.74', '0.90']\n",
      "['0.10', '0.14', '0.22', '0.29', '0.35', '0.42', '0.50', '0.58', '0.62', '0.57']\n",
      "['0.18', '0.25', '0.36', '0.44', '0.49', '0.52', '0.57', '0.61', '0.68', '0.70']\n"
     ]
    }
   ],
   "source": [
    "print(recall)\n",
    "print(precision)\n",
    "print(f1_score)"
   ]
  },
  {
   "cell_type": "markdown",
   "id": "87136973",
   "metadata": {},
   "source": [
    "## VIRTUAL AND REAL"
   ]
  },
  {
   "cell_type": "code",
   "execution_count": 22,
   "id": "7e5e68d5",
   "metadata": {},
   "outputs": [
    {
     "name": "stdout",
     "output_type": "stream",
     "text": [
      "creating index...\n",
      "index created!\n",
      "Test:  [  0/104]  eta: 0:00:43  model_time: 0.3250 (0.3250)  evaluator_time: 0.0039 (0.0039)  time: 0.4212  data: 0.0631  max mem: 2025\n",
      "Test:  [100/104]  eta: 0:00:01  model_time: 0.3222 (0.3208)  evaluator_time: 0.0045 (0.0047)  time: 0.3886  data: 0.0554  max mem: 2025\n",
      "Test:  [103/104]  eta: 0:00:00  model_time: 0.3244 (0.3187)  evaluator_time: 0.0044 (0.0047)  time: 0.3756  data: 0.0540  max mem: 2025\n",
      "Test: Total time: 0:00:39 (0.3824 s / it)\n",
      "Averaged stats: model_time: 0.3244 (0.3187)  evaluator_time: 0.0044 (0.0047)\n",
      "Accumulating evaluation results...\n",
      "DONE (t=0.09s).\n",
      "IoU metric: bbox\n",
      " Average Precision  (AP) @[ IoU=0.50:0.95 | area=   all | maxDets=100 ] = 0.139\n",
      " Average Precision  (AP) @[ IoU=0.50      | area=   all | maxDets=100 ] = 0.328\n",
      " Average Precision  (AP) @[ IoU=0.75      | area=   all | maxDets=100 ] = 0.078\n",
      " Average Precision  (AP) @[ IoU=0.50:0.95 | area= small | maxDets=100 ] = 0.000\n",
      " Average Precision  (AP) @[ IoU=0.50:0.95 | area=medium | maxDets=100 ] = 0.035\n",
      " Average Precision  (AP) @[ IoU=0.50:0.95 | area= large | maxDets=100 ] = 0.284\n",
      " Average Recall     (AR) @[ IoU=0.50:0.95 | area=   all | maxDets=  1 ] = 0.223\n",
      " Average Recall     (AR) @[ IoU=0.50:0.95 | area=   all | maxDets= 10 ] = 0.240\n",
      " Average Recall     (AR) @[ IoU=0.50:0.95 | area=   all | maxDets=100 ] = 0.240\n",
      " Average Recall     (AR) @[ IoU=0.50:0.95 | area= small | maxDets=100 ] = 0.000\n",
      " Average Recall     (AR) @[ IoU=0.50:0.95 | area=medium | maxDets=100 ] = 0.083\n",
      " Average Recall     (AR) @[ IoU=0.50:0.95 | area= large | maxDets=100 ] = 0.489\n"
     ]
    },
    {
     "data": {
      "text/plain": [
       "<utils.coco_eval.CocoEvaluator at 0x7fc26c0acb70>"
      ]
     },
     "execution_count": 22,
     "metadata": {},
     "output_type": "execute_result"
    }
   ],
   "source": [
    "evaluate(model_var, test_data_loader, device=device)"
   ]
  },
  {
   "cell_type": "markdown",
   "id": "e59ead0f",
   "metadata": {},
   "source": [
    "### FALL DETECTION"
   ]
  },
  {
   "cell_type": "code",
   "execution_count": 23,
   "id": "ca0b112f",
   "metadata": {},
   "outputs": [
    {
     "name": "stderr",
     "output_type": "stream",
     "text": [
      "100%|██████████| 413/413 [00:44<00:00,  9.36it/s]\n"
     ]
    },
    {
     "name": "stdout",
     "output_type": "stream",
     "text": [
      "TP: 272\tFN: 0\tFP: 1017\n",
      "Recall: 1.00\n",
      "Precision: 0.21\n",
      "F1-score: 0.35\n"
     ]
    },
    {
     "name": "stderr",
     "output_type": "stream",
     "text": [
      "100%|██████████| 413/413 [00:44<00:00,  9.29it/s]\n"
     ]
    },
    {
     "name": "stdout",
     "output_type": "stream",
     "text": [
      "TP: 272\tFN: 0\tFP: 682\n",
      "Recall: 1.00\n",
      "Precision: 0.29\n",
      "F1-score: 0.44\n"
     ]
    },
    {
     "name": "stderr",
     "output_type": "stream",
     "text": [
      "100%|██████████| 413/413 [00:44<00:00,  9.19it/s]\n"
     ]
    },
    {
     "name": "stdout",
     "output_type": "stream",
     "text": [
      "TP: 272\tFN: 0\tFP: 446\n",
      "Recall: 1.00\n",
      "Precision: 0.38\n",
      "F1-score: 0.55\n"
     ]
    },
    {
     "name": "stderr",
     "output_type": "stream",
     "text": [
      "100%|██████████| 413/413 [00:44<00:00,  9.34it/s]\n"
     ]
    },
    {
     "name": "stdout",
     "output_type": "stream",
     "text": [
      "TP: 270\tFN: 2\tFP: 353\n",
      "Recall: 0.99\n",
      "Precision: 0.43\n",
      "F1-score: 0.60\n"
     ]
    },
    {
     "name": "stderr",
     "output_type": "stream",
     "text": [
      "100%|██████████| 413/413 [00:44<00:00,  9.30it/s]\n"
     ]
    },
    {
     "name": "stdout",
     "output_type": "stream",
     "text": [
      "TP: 270\tFN: 2\tFP: 292\n",
      "Recall: 0.99\n",
      "Precision: 0.48\n",
      "F1-score: 0.65\n"
     ]
    },
    {
     "name": "stderr",
     "output_type": "stream",
     "text": [
      "100%|██████████| 413/413 [00:44<00:00,  9.32it/s]\n"
     ]
    },
    {
     "name": "stdout",
     "output_type": "stream",
     "text": [
      "TP: 270\tFN: 2\tFP: 232\n",
      "Recall: 0.99\n",
      "Precision: 0.54\n",
      "F1-score: 0.70\n"
     ]
    },
    {
     "name": "stderr",
     "output_type": "stream",
     "text": [
      "100%|██████████| 413/413 [00:44<00:00,  9.27it/s]\n"
     ]
    },
    {
     "name": "stdout",
     "output_type": "stream",
     "text": [
      "TP: 267\tFN: 5\tFP: 193\n",
      "Recall: 0.98\n",
      "Precision: 0.58\n",
      "F1-score: 0.73\n"
     ]
    },
    {
     "name": "stderr",
     "output_type": "stream",
     "text": [
      "100%|██████████| 413/413 [00:44<00:00,  9.30it/s]\n"
     ]
    },
    {
     "name": "stdout",
     "output_type": "stream",
     "text": [
      "TP: 267\tFN: 5\tFP: 162\n",
      "Recall: 0.98\n",
      "Precision: 0.62\n",
      "F1-score: 0.76\n"
     ]
    },
    {
     "name": "stderr",
     "output_type": "stream",
     "text": [
      "100%|██████████| 413/413 [00:44<00:00,  9.29it/s]\n"
     ]
    },
    {
     "name": "stdout",
     "output_type": "stream",
     "text": [
      "TP: 262\tFN: 10\tFP: 121\n",
      "Recall: 0.96\n",
      "Precision: 0.68\n",
      "F1-score: 0.80\n"
     ]
    },
    {
     "name": "stderr",
     "output_type": "stream",
     "text": [
      "100%|██████████| 413/413 [00:44<00:00,  9.28it/s]"
     ]
    },
    {
     "name": "stdout",
     "output_type": "stream",
     "text": [
      "TP: 233\tFN: 39\tFP: 79\n",
      "Recall: 0.86\n",
      "Precision: 0.75\n",
      "F1-score: 0.80\n"
     ]
    },
    {
     "name": "stderr",
     "output_type": "stream",
     "text": [
      "\n"
     ]
    }
   ],
   "source": [
    "recall, precision, f1_score = [],[],[]\n",
    "for thr in range(0,10,1):\n",
    "    tp, fp, fn = classifier_performance(test_dataset, model_var, device, 2,float(thr/10))\n",
    "    rec = tp / (tp+fn)\n",
    "    prec = tp/ (tp+fp)\n",
    "    f1_s = 2/((1/rec)+(1/prec))\n",
    "    recall.append(f\"{rec:.2f}\")\n",
    "    precision.append(f\"{prec:.2f}\")\n",
    "    f1_score.append(f\"{f1_s:.2f}\")\n",
    "    print(f\"TP: {tp}\\tFN: {fn}\\tFP: {fp}\")\n",
    "    print(f\"Recall: {rec:.2f}\")\n",
    "    print(f\"Precision: {prec:.2f}\")\n",
    "    print(f\"F1-score: {f1_s:.2f}\")"
   ]
  },
  {
   "cell_type": "code",
   "execution_count": 24,
   "id": "592b8f21",
   "metadata": {},
   "outputs": [
    {
     "name": "stdout",
     "output_type": "stream",
     "text": [
      "['1.00', '1.00', '1.00', '0.99', '0.99', '0.99', '0.98', '0.98', '0.96', '0.86']\n",
      "['0.21', '0.29', '0.38', '0.43', '0.48', '0.54', '0.58', '0.62', '0.68', '0.75']\n",
      "['0.35', '0.44', '0.55', '0.60', '0.65', '0.70', '0.73', '0.76', '0.80', '0.80']\n"
     ]
    }
   ],
   "source": [
    "print(recall)\n",
    "print(precision)\n",
    "print(f1_score)"
   ]
  },
  {
   "cell_type": "markdown",
   "id": "6840a297",
   "metadata": {},
   "source": [
    "### NO-FALL DETECTION"
   ]
  },
  {
   "cell_type": "code",
   "execution_count": 25,
   "id": "0e259884",
   "metadata": {},
   "outputs": [
    {
     "name": "stderr",
     "output_type": "stream",
     "text": [
      "100%|██████████| 413/413 [00:43<00:00,  9.42it/s]\n"
     ]
    },
    {
     "name": "stdout",
     "output_type": "stream",
     "text": [
      "TP: 141\tFN: 0\tFP: 724\n",
      "Recall: 1.00\n",
      "Precision: 0.16\n",
      "F1-score: 0.28\n"
     ]
    },
    {
     "name": "stderr",
     "output_type": "stream",
     "text": [
      "100%|██████████| 413/413 [00:44<00:00,  9.27it/s]\n"
     ]
    },
    {
     "name": "stdout",
     "output_type": "stream",
     "text": [
      "TP: 111\tFN: 30\tFP: 325\n",
      "Recall: 0.79\n",
      "Precision: 0.25\n",
      "F1-score: 0.38\n"
     ]
    },
    {
     "name": "stderr",
     "output_type": "stream",
     "text": [
      "100%|██████████| 413/413 [00:44<00:00,  9.21it/s]\n"
     ]
    },
    {
     "name": "stdout",
     "output_type": "stream",
     "text": [
      "TP: 90\tFN: 51\tFP: 148\n",
      "Recall: 0.64\n",
      "Precision: 0.38\n",
      "F1-score: 0.47\n"
     ]
    },
    {
     "name": "stderr",
     "output_type": "stream",
     "text": [
      "100%|██████████| 413/413 [00:44<00:00,  9.24it/s]\n"
     ]
    },
    {
     "name": "stdout",
     "output_type": "stream",
     "text": [
      "TP: 76\tFN: 65\tFP: 93\n",
      "Recall: 0.54\n",
      "Precision: 0.45\n",
      "F1-score: 0.49\n"
     ]
    },
    {
     "name": "stderr",
     "output_type": "stream",
     "text": [
      "100%|██████████| 413/413 [00:44<00:00,  9.18it/s]\n"
     ]
    },
    {
     "name": "stdout",
     "output_type": "stream",
     "text": [
      "TP: 62\tFN: 79\tFP: 77\n",
      "Recall: 0.44\n",
      "Precision: 0.45\n",
      "F1-score: 0.44\n"
     ]
    },
    {
     "name": "stderr",
     "output_type": "stream",
     "text": [
      "100%|██████████| 413/413 [00:44<00:00,  9.33it/s]\n"
     ]
    },
    {
     "name": "stdout",
     "output_type": "stream",
     "text": [
      "TP: 47\tFN: 94\tFP: 59\n",
      "Recall: 0.33\n",
      "Precision: 0.44\n",
      "F1-score: 0.38\n"
     ]
    },
    {
     "name": "stderr",
     "output_type": "stream",
     "text": [
      "100%|██████████| 413/413 [00:44<00:00,  9.23it/s]\n"
     ]
    },
    {
     "name": "stdout",
     "output_type": "stream",
     "text": [
      "TP: 35\tFN: 106\tFP: 44\n",
      "Recall: 0.25\n",
      "Precision: 0.44\n",
      "F1-score: 0.32\n"
     ]
    },
    {
     "name": "stderr",
     "output_type": "stream",
     "text": [
      "100%|██████████| 413/413 [00:44<00:00,  9.20it/s]\n"
     ]
    },
    {
     "name": "stdout",
     "output_type": "stream",
     "text": [
      "TP: 25\tFN: 116\tFP: 38\n",
      "Recall: 0.18\n",
      "Precision: 0.40\n",
      "F1-score: 0.25\n"
     ]
    },
    {
     "name": "stderr",
     "output_type": "stream",
     "text": [
      "100%|██████████| 413/413 [00:44<00:00,  9.33it/s]\n"
     ]
    },
    {
     "name": "stdout",
     "output_type": "stream",
     "text": [
      "TP: 33\tFN: 108\tFP: 30\n",
      "Recall: 0.23\n",
      "Precision: 0.52\n",
      "F1-score: 0.32\n"
     ]
    },
    {
     "name": "stderr",
     "output_type": "stream",
     "text": [
      "100%|██████████| 413/413 [00:44<00:00,  9.33it/s]"
     ]
    },
    {
     "name": "stdout",
     "output_type": "stream",
     "text": [
      "TP: 64\tFN: 77\tFP: 49\n",
      "Recall: 0.45\n",
      "Precision: 0.57\n",
      "F1-score: 0.50\n"
     ]
    },
    {
     "name": "stderr",
     "output_type": "stream",
     "text": [
      "\n"
     ]
    }
   ],
   "source": [
    "recall, precision, f1_score = [],[],[]\n",
    "for thr in range(0,10,1):\n",
    "    tp, fp, fn = classifier_performance(test_dataset, model_var, device, 1,float(thr/10))\n",
    "    rec = tp / (tp+fn)\n",
    "    prec = tp/ (tp+fp)\n",
    "    f1_s = 2/((1/rec)+(1/prec))\n",
    "    recall.append(f\"{rec:.2f}\")\n",
    "    precision.append(f\"{prec:.2f}\")\n",
    "    f1_score.append(f\"{f1_s:.2f}\")\n",
    "    print(f\"TP: {tp}\\tFN: {fn}\\tFP: {fp}\")\n",
    "    print(f\"Recall: {rec:.2f}\")\n",
    "    print(f\"Precision: {prec:.2f}\")\n",
    "    print(f\"F1-score: {f1_s:.2f}\")"
   ]
  },
  {
   "cell_type": "code",
   "execution_count": 26,
   "id": "fb3c3dd8",
   "metadata": {},
   "outputs": [
    {
     "name": "stdout",
     "output_type": "stream",
     "text": [
      "['1.00', '0.79', '0.64', '0.54', '0.44', '0.33', '0.25', '0.18', '0.23', '0.45']\n",
      "['0.16', '0.25', '0.38', '0.45', '0.45', '0.44', '0.44', '0.40', '0.52', '0.57']\n",
      "['0.28', '0.38', '0.47', '0.49', '0.44', '0.38', '0.32', '0.25', '0.32', '0.50']\n"
     ]
    }
   ],
   "source": [
    "print(recall)\n",
    "print(precision)\n",
    "print(f1_score)"
   ]
  }
 ],
 "metadata": {
  "kernelspec": {
   "display_name": "Python 3",
   "language": "python",
   "name": "python3"
  },
  "language_info": {
   "codemirror_mode": {
    "name": "ipython",
    "version": 3
   },
   "file_extension": ".py",
   "mimetype": "text/x-python",
   "name": "python",
   "nbconvert_exporter": "python",
   "pygments_lexer": "ipython3",
   "version": "3.6.9"
  }
 },
 "nbformat": 4,
 "nbformat_minor": 5
}
