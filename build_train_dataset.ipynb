{
 "cells": [
  {
   "cell_type": "code",
   "execution_count": 1,
   "id": "96eb03c8",
   "metadata": {},
   "outputs": [],
   "source": [
    "import os\n",
    "\n",
    "import numpy as np\n",
    "import pandas as pd\n",
    "from matplotlib import pyplot as plt\n",
    "from PIL import Image\n",
    "import glob\n",
    "import cv2\n",
    "import csv"
   ]
  },
  {
   "cell_type": "code",
   "execution_count": 28,
   "id": "ec27ad90",
   "metadata": {},
   "outputs": [],
   "source": [
    "DATASET = 'data'\n",
    "\n",
    "files = glob.glob('data/**/*.txt', recursive = True) #find all *.txt files\n",
    "\n",
    "target_txt = \"train_dataset.txt\""
   ]
  },
  {
   "cell_type": "code",
   "execution_count": 29,
   "id": "cfcb0d14",
   "metadata": {},
   "outputs": [
    {
     "name": "stdout",
     "output_type": "stream",
     "text": [
      "ORIGIN FILE: 6074\t NOT ORIGIN FILE: 6074\n",
      "TOTAL LEN: 12148\n",
      "MASK IMG: 6074\t NOT MASK IMG: 6074\n",
      "TOTAL LEN: 12148\n"
     ]
    }
   ],
   "source": [
    "files_txt = glob.glob('data/**/*.txt', recursive = True)\n",
    "files_png = glob.glob('data/**/*.png', recursive = True)\n",
    "\n",
    "f_not_orig = []\n",
    "f_orig = []\n",
    "for f in files_txt:\n",
    "    if \"orig\" not in f:\n",
    "        f_not_orig.append(f)\n",
    "    else:\n",
    "        f_orig.append(f)\n",
    "        \n",
    "print(f\"ORIGIN FILE: {len(f_orig)}\\t NOT ORIGIN FILE: {len(f_not_orig)}\")\n",
    "print(f\"TOTAL LEN: {len(files_txt)}\")\n",
    "\n",
    "\n",
    "im_mask = []\n",
    "im_not_mask = []\n",
    "for im in files_png:\n",
    "    if \"mask\" in im:\n",
    "        im_mask.append(im)\n",
    "    else:\n",
    "        im_not_mask.append(im)\n",
    "print(f\"MASK IMG: {len(im_mask)}\\t NOT MASK IMG: {len(im_not_mask)}\")\n",
    "print(f\"TOTAL LEN: {len(files_png)}\")"
   ]
  },
  {
   "cell_type": "code",
   "execution_count": 20,
   "id": "03e41683",
   "metadata": {},
   "outputs": [
    {
     "name": "stdout",
     "output_type": "stream",
     "text": [
      "Finish\n"
     ]
    }
   ],
   "source": [
    "# #ORIGIN FILES\n",
    "\n",
    "# #if not os.path.exists(target_txt):\n",
    "# if True:\n",
    "#   fw = open(\"prova_dataset.txt\",'w')\n",
    "#   i = 0\n",
    "#   for fi in files:\n",
    "#     if \"orig\" in fi: #discard all *_orig.txt\n",
    "#       f = open(fi, 'r')\n",
    "#       file_text = f.read()\n",
    "#       file_text = file_text.strip('\\n') #remove possible newline character at the end of file\n",
    "#       lines = file_text.split('\\n')\n",
    "#       file_name = os.path.join(fi.split(\"/\")[-2],fi.split(\"/\")[-1]) #last / and first part before the . with the name of the folder\n",
    "#       for l in lines:\n",
    "#         if float(l.split(\" \")[6]) < 0.81:\n",
    "#             label = l.split(\" \")[0]\n",
    "#             if int(label) == 6 or int(label) == 7:\n",
    "#                 name = file_name[:-9].split(\".\")[0] + \".png\"\n",
    "#                 xc = float(l.split(\" \")[1]) \n",
    "#                 yc = float(l.split(\" \")[2])\n",
    "#                 w = float(l.split(\" \")[3])\n",
    "#                 h = float(l.split(\" \")[4])\n",
    "#                 #take values as (x0,y0) and (x1,y1) for top-left and bottom-right points of BB\n",
    "#                 x0 = float(xc - w / 2) \n",
    "#                 y0 = float(yc - h / 2) \n",
    "#                 x1 = float(xc + w / 2) \n",
    "#                 y1 = float(yc + h / 2)\n",
    "#                 if int(label) == 6: #label 1 -> NO FALL\n",
    "#                   fw.write(name + ',' + str(x0) + ',' + str(y0) + \",\" + str(x1) + \",\" + str(y1) + \",\" + str(1) + \"\\n\")\n",
    "#                 elif int(label) == 7: #label 2 -> FALL\n",
    "#                   fw.write(name + ',' + str(x0) + ',' + str(y0) + \",\" + str(x1) + \",\" + str(y1) + \",\" + str(2) + \"\\n\")\n",
    "#   fw.close()\n",
    "#   print(\"Finish\")\n",
    "# else:\n",
    "#   print(\"File already created!\")"
   ]
  },
  {
   "cell_type": "code",
   "execution_count": 30,
   "id": "f24fe22f",
   "metadata": {},
   "outputs": [
    {
     "name": "stdout",
     "output_type": "stream",
     "text": [
      "Completed!\n"
     ]
    }
   ],
   "source": [
    "#FILES NOT ORIG (normalized)\n",
    "#if not os.path.exists(target_txt):\n",
    "if True:\n",
    "  fw = open(target_txt,'w')\n",
    "  i = 0\n",
    "  for fi in files:\n",
    "    if \"orig\" not in fi: #discard all *_orig.txt\n",
    "      f = open(fi, 'r')\n",
    "      file_text = f.read()\n",
    "      file_text = file_text.strip('\\n') #remove possible newline character at the end of file\n",
    "      lines = file_text.split('\\n')\n",
    "      file_name = os.path.join(fi.split(\"/\")[-2],fi.split(\"/\")[-1]) #last / and first part before the . with the name of the folder\n",
    "      if len(lines) == 0:\n",
    "            continue            \n",
    "      for l in lines:\n",
    "        if l == '':\n",
    "            continue\n",
    "        if float(l.split(\" \")[6]) < 0.81:\n",
    "            label = l.split(\" \")[0]\n",
    "            if int(label) == 6 or int(label) == 7:\n",
    "                name = file_name.split(\".\")[0] + \".png\"\n",
    "                image = cv2.imread(os.path.join('data',name))\n",
    "                height,width, _ = image.shape #values to denormalize data\n",
    "                xc = float(l.split(\" \")[1]) * width \n",
    "                yc = float(l.split(\" \")[2]) * height\n",
    "                w = float(l.split(\" \")[3]) * width\n",
    "                h = float(l.split(\" \")[4]) * height\n",
    "                #take values as (x0,y0) and (x1,y1) for top-left and bottom-right points of BB\n",
    "                x0 = float(xc - w / 2) \n",
    "                y0 = float(yc - h / 2) \n",
    "                x1 = float(xc + w / 2) \n",
    "                y1 = float(yc + h / 2)\n",
    "\n",
    "                if int(label) == 6: #label 1 -> NO FALL\n",
    "                  fw.write(name + ',' + str(x0) + ',' + str(y0) + \",\" + str(x1) + \",\" + str(y1) + \",\" + str(1) + \"\\n\")\n",
    "                elif int(label) == 7: #label 2 -> FALL\n",
    "                  fw.write(name + ',' + str(x0) + ',' + str(y0) + \",\" + str(x1) + \",\" + str(y1) + \",\" + str(2) + \"\\n\")\n",
    "  fw.close()\n",
    "  print(\"Completed!\")\n",
    "else:\n",
    "  print(\"File already created!\")"
   ]
  },
  {
   "cell_type": "code",
   "execution_count": 31,
   "id": "332112e1",
   "metadata": {},
   "outputs": [
    {
     "data": {
      "text/html": [
       "<div>\n",
       "<style scoped>\n",
       "    .dataframe tbody tr th:only-of-type {\n",
       "        vertical-align: middle;\n",
       "    }\n",
       "\n",
       "    .dataframe tbody tr th {\n",
       "        vertical-align: top;\n",
       "    }\n",
       "\n",
       "    .dataframe thead th {\n",
       "        text-align: right;\n",
       "    }\n",
       "</style>\n",
       "<table border=\"1\" class=\"dataframe\">\n",
       "  <thead>\n",
       "    <tr style=\"text-align: right;\">\n",
       "      <th></th>\n",
       "      <th>img_path</th>\n",
       "      <th>x0</th>\n",
       "      <th>y0</th>\n",
       "      <th>x1</th>\n",
       "      <th>y1</th>\n",
       "      <th>label</th>\n",
       "    </tr>\n",
       "  </thead>\n",
       "  <tbody>\n",
       "    <tr>\n",
       "      <th>0</th>\n",
       "      <td>19-12-09_1652_624622812/000_03_04.png</td>\n",
       "      <td>463.0</td>\n",
       "      <td>204.0</td>\n",
       "      <td>560.0</td>\n",
       "      <td>241.0</td>\n",
       "      <td>2</td>\n",
       "    </tr>\n",
       "    <tr>\n",
       "      <th>1</th>\n",
       "      <td>19-12-09_1652_624622812/000_03_04.png</td>\n",
       "      <td>64.0</td>\n",
       "      <td>470.0</td>\n",
       "      <td>210.0</td>\n",
       "      <td>540.0</td>\n",
       "      <td>2</td>\n",
       "    </tr>\n",
       "    <tr>\n",
       "      <th>2</th>\n",
       "      <td>19-12-09_1652_624622812/000_03_04.png</td>\n",
       "      <td>267.0</td>\n",
       "      <td>464.0</td>\n",
       "      <td>332.0</td>\n",
       "      <td>535.0</td>\n",
       "      <td>1</td>\n",
       "    </tr>\n",
       "    <tr>\n",
       "      <th>3</th>\n",
       "      <td>19-12-09_1652_624622812/000_03_04.png</td>\n",
       "      <td>577.0</td>\n",
       "      <td>184.0</td>\n",
       "      <td>610.0</td>\n",
       "      <td>294.0</td>\n",
       "      <td>1</td>\n",
       "    </tr>\n",
       "    <tr>\n",
       "      <th>4</th>\n",
       "      <td>19-12-09_1652_624622812/000_03_04.png</td>\n",
       "      <td>346.0</td>\n",
       "      <td>268.0</td>\n",
       "      <td>421.0</td>\n",
       "      <td>366.0</td>\n",
       "      <td>1</td>\n",
       "    </tr>\n",
       "  </tbody>\n",
       "</table>\n",
       "</div>"
      ],
      "text/plain": [
       "                                img_path     x0     y0     x1     y1  label\n",
       "0  19-12-09_1652_624622812/000_03_04.png  463.0  204.0  560.0  241.0      2\n",
       "1  19-12-09_1652_624622812/000_03_04.png   64.0  470.0  210.0  540.0      2\n",
       "2  19-12-09_1652_624622812/000_03_04.png  267.0  464.0  332.0  535.0      1\n",
       "3  19-12-09_1652_624622812/000_03_04.png  577.0  184.0  610.0  294.0      1\n",
       "4  19-12-09_1652_624622812/000_03_04.png  346.0  268.0  421.0  366.0      1"
      ]
     },
     "execution_count": 31,
     "metadata": {},
     "output_type": "execute_result"
    }
   ],
   "source": [
    "train_df = pd.read_csv(target_txt, sep=',', header=None, names=['img_path', 'x0', 'y0', 'x1', 'y1', 'label'])\n",
    "train_df.head()"
   ]
  },
  {
   "cell_type": "code",
   "execution_count": 32,
   "id": "8b4be4a6",
   "metadata": {},
   "outputs": [
    {
     "data": {
      "text/plain": [
       "6071"
      ]
     },
     "execution_count": 32,
     "metadata": {},
     "output_type": "execute_result"
    }
   ],
   "source": [
    "train_df['img_path'].nunique()"
   ]
  },
  {
   "cell_type": "code",
   "execution_count": 33,
   "id": "7737655a",
   "metadata": {},
   "outputs": [
    {
     "data": {
      "text/plain": [
       "1    26125\n",
       "2     7456\n",
       "Name: label, dtype: int64"
      ]
     },
     "execution_count": 33,
     "metadata": {},
     "output_type": "execute_result"
    }
   ],
   "source": [
    "train_df['label'].value_counts()"
   ]
  },
  {
   "cell_type": "code",
   "execution_count": 34,
   "id": "3947ff82",
   "metadata": {},
   "outputs": [
    {
     "data": {
      "text/plain": [
       "(33581, 6)"
      ]
     },
     "execution_count": 34,
     "metadata": {},
     "output_type": "execute_result"
    }
   ],
   "source": [
    "train_df.shape"
   ]
  },
  {
   "cell_type": "code",
   "execution_count": 35,
   "id": "4ae675ca",
   "metadata": {},
   "outputs": [
    {
     "data": {
      "text/html": [
       "<div>\n",
       "<style scoped>\n",
       "    .dataframe tbody tr th:only-of-type {\n",
       "        vertical-align: middle;\n",
       "    }\n",
       "\n",
       "    .dataframe tbody tr th {\n",
       "        vertical-align: top;\n",
       "    }\n",
       "\n",
       "    .dataframe thead th {\n",
       "        text-align: right;\n",
       "    }\n",
       "</style>\n",
       "<table border=\"1\" class=\"dataframe\">\n",
       "  <thead>\n",
       "    <tr style=\"text-align: right;\">\n",
       "      <th></th>\n",
       "      <th>img_path</th>\n",
       "      <th>label</th>\n",
       "      <th>counts</th>\n",
       "    </tr>\n",
       "  </thead>\n",
       "  <tbody>\n",
       "    <tr>\n",
       "      <th>0</th>\n",
       "      <td>19-12-05_1733_281439187/000_02_00.png</td>\n",
       "      <td>1</td>\n",
       "      <td>4</td>\n",
       "    </tr>\n",
       "    <tr>\n",
       "      <th>1</th>\n",
       "      <td>19-12-05_1733_281439187/000_03_00.png</td>\n",
       "      <td>1</td>\n",
       "      <td>3</td>\n",
       "    </tr>\n",
       "    <tr>\n",
       "      <th>2</th>\n",
       "      <td>19-12-05_1733_281439187/000_03_00.png</td>\n",
       "      <td>2</td>\n",
       "      <td>3</td>\n",
       "    </tr>\n",
       "    <tr>\n",
       "      <th>3</th>\n",
       "      <td>19-12-05_1733_281439187/000_03_01.png</td>\n",
       "      <td>1</td>\n",
       "      <td>2</td>\n",
       "    </tr>\n",
       "    <tr>\n",
       "      <th>4</th>\n",
       "      <td>19-12-05_1733_281439187/000_03_01.png</td>\n",
       "      <td>2</td>\n",
       "      <td>3</td>\n",
       "    </tr>\n",
       "    <tr>\n",
       "      <th>...</th>\n",
       "      <td>...</td>\n",
       "      <td>...</td>\n",
       "      <td>...</td>\n",
       "    </tr>\n",
       "    <tr>\n",
       "      <th>8308</th>\n",
       "      <td>19-12-10_1334_699107828/000_03_00.png</td>\n",
       "      <td>2</td>\n",
       "      <td>2</td>\n",
       "    </tr>\n",
       "    <tr>\n",
       "      <th>8309</th>\n",
       "      <td>19-12-10_1334_699107828/000_03_01.png</td>\n",
       "      <td>1</td>\n",
       "      <td>3</td>\n",
       "    </tr>\n",
       "    <tr>\n",
       "      <th>8310</th>\n",
       "      <td>19-12-10_1334_699107828/000_03_01.png</td>\n",
       "      <td>2</td>\n",
       "      <td>2</td>\n",
       "    </tr>\n",
       "    <tr>\n",
       "      <th>8311</th>\n",
       "      <td>19-12-10_1334_699107828/000_04_00.png</td>\n",
       "      <td>1</td>\n",
       "      <td>5</td>\n",
       "    </tr>\n",
       "    <tr>\n",
       "      <th>8312</th>\n",
       "      <td>19-12-10_1334_699107828/000_04_00.png</td>\n",
       "      <td>2</td>\n",
       "      <td>2</td>\n",
       "    </tr>\n",
       "  </tbody>\n",
       "</table>\n",
       "<p>8313 rows × 3 columns</p>\n",
       "</div>"
      ],
      "text/plain": [
       "                                   img_path  label  counts\n",
       "0     19-12-05_1733_281439187/000_02_00.png      1       4\n",
       "1     19-12-05_1733_281439187/000_03_00.png      1       3\n",
       "2     19-12-05_1733_281439187/000_03_00.png      2       3\n",
       "3     19-12-05_1733_281439187/000_03_01.png      1       2\n",
       "4     19-12-05_1733_281439187/000_03_01.png      2       3\n",
       "...                                     ...    ...     ...\n",
       "8308  19-12-10_1334_699107828/000_03_00.png      2       2\n",
       "8309  19-12-10_1334_699107828/000_03_01.png      1       3\n",
       "8310  19-12-10_1334_699107828/000_03_01.png      2       2\n",
       "8311  19-12-10_1334_699107828/000_04_00.png      1       5\n",
       "8312  19-12-10_1334_699107828/000_04_00.png      2       2\n",
       "\n",
       "[8313 rows x 3 columns]"
      ]
     },
     "execution_count": 35,
     "metadata": {},
     "output_type": "execute_result"
    }
   ],
   "source": [
    "df = train_df.groupby(['img_path','label']).size().reset_index(name='counts')\n",
    "df"
   ]
  },
  {
   "cell_type": "code",
   "execution_count": 36,
   "id": "524cf33c",
   "metadata": {},
   "outputs": [
    {
     "data": {
      "text/html": [
       "<div>\n",
       "<style scoped>\n",
       "    .dataframe tbody tr th:only-of-type {\n",
       "        vertical-align: middle;\n",
       "    }\n",
       "\n",
       "    .dataframe tbody tr th {\n",
       "        vertical-align: top;\n",
       "    }\n",
       "\n",
       "    .dataframe thead th {\n",
       "        text-align: right;\n",
       "    }\n",
       "</style>\n",
       "<table border=\"1\" class=\"dataframe\">\n",
       "  <thead>\n",
       "    <tr style=\"text-align: right;\">\n",
       "      <th></th>\n",
       "      <th>img_path</th>\n",
       "      <th>label</th>\n",
       "      <th>counts</th>\n",
       "    </tr>\n",
       "  </thead>\n",
       "  <tbody>\n",
       "    <tr>\n",
       "      <th>0</th>\n",
       "      <td>19-12-05_1733_281439187/000_02_00.png</td>\n",
       "      <td>1</td>\n",
       "      <td>4</td>\n",
       "    </tr>\n",
       "    <tr>\n",
       "      <th>11</th>\n",
       "      <td>19-12-05_1733_281439187/000_04_00.png</td>\n",
       "      <td>1</td>\n",
       "      <td>1</td>\n",
       "    </tr>\n",
       "    <tr>\n",
       "      <th>12</th>\n",
       "      <td>19-12-05_1733_281439187/000_05_00.png</td>\n",
       "      <td>1</td>\n",
       "      <td>3</td>\n",
       "    </tr>\n",
       "    <tr>\n",
       "      <th>15</th>\n",
       "      <td>19-12-05_1733_281439187/000_05_02.png</td>\n",
       "      <td>1</td>\n",
       "      <td>3</td>\n",
       "    </tr>\n",
       "    <tr>\n",
       "      <th>16</th>\n",
       "      <td>19-12-05_1733_281439187/000_05_03.png</td>\n",
       "      <td>2</td>\n",
       "      <td>3</td>\n",
       "    </tr>\n",
       "    <tr>\n",
       "      <th>...</th>\n",
       "      <td>...</td>\n",
       "      <td>...</td>\n",
       "      <td>...</td>\n",
       "    </tr>\n",
       "    <tr>\n",
       "      <th>8302</th>\n",
       "      <td>19-12-10_1334_699107828/000_01_02.png</td>\n",
       "      <td>1</td>\n",
       "      <td>4</td>\n",
       "    </tr>\n",
       "    <tr>\n",
       "      <th>8303</th>\n",
       "      <td>19-12-10_1334_699107828/000_01_03.png</td>\n",
       "      <td>1</td>\n",
       "      <td>5</td>\n",
       "    </tr>\n",
       "    <tr>\n",
       "      <th>8304</th>\n",
       "      <td>19-12-10_1334_699107828/000_01_04.png</td>\n",
       "      <td>1</td>\n",
       "      <td>4</td>\n",
       "    </tr>\n",
       "    <tr>\n",
       "      <th>8305</th>\n",
       "      <td>19-12-10_1334_699107828/000_02_00.png</td>\n",
       "      <td>1</td>\n",
       "      <td>3</td>\n",
       "    </tr>\n",
       "    <tr>\n",
       "      <th>8306</th>\n",
       "      <td>19-12-10_1334_699107828/000_02_01.png</td>\n",
       "      <td>1</td>\n",
       "      <td>5</td>\n",
       "    </tr>\n",
       "  </tbody>\n",
       "</table>\n",
       "<p>3829 rows × 3 columns</p>\n",
       "</div>"
      ],
      "text/plain": [
       "                                   img_path  label  counts\n",
       "0     19-12-05_1733_281439187/000_02_00.png      1       4\n",
       "11    19-12-05_1733_281439187/000_04_00.png      1       1\n",
       "12    19-12-05_1733_281439187/000_05_00.png      1       3\n",
       "15    19-12-05_1733_281439187/000_05_02.png      1       3\n",
       "16    19-12-05_1733_281439187/000_05_03.png      2       3\n",
       "...                                     ...    ...     ...\n",
       "8302  19-12-10_1334_699107828/000_01_02.png      1       4\n",
       "8303  19-12-10_1334_699107828/000_01_03.png      1       5\n",
       "8304  19-12-10_1334_699107828/000_01_04.png      1       4\n",
       "8305  19-12-10_1334_699107828/000_02_00.png      1       3\n",
       "8306  19-12-10_1334_699107828/000_02_01.png      1       5\n",
       "\n",
       "[3829 rows x 3 columns]"
      ]
     },
     "execution_count": 36,
     "metadata": {},
     "output_type": "execute_result"
    }
   ],
   "source": [
    "img = df['img_path']\n",
    "not_dup = df[~img.isin(img[img.duplicated()])]\n",
    "not_dup"
   ]
  },
  {
   "cell_type": "code",
   "execution_count": 37,
   "id": "5a802b77",
   "metadata": {},
   "outputs": [
    {
     "data": {
      "text/plain": [
       "1    3441\n",
       "2     388\n",
       "Name: label, dtype: int64"
      ]
     },
     "execution_count": 37,
     "metadata": {},
     "output_type": "execute_result"
    }
   ],
   "source": [
    "not_dup['label'].value_counts()"
   ]
  },
  {
   "cell_type": "code",
   "execution_count": null,
   "id": "ef744137",
   "metadata": {},
   "outputs": [],
   "source": []
  }
 ],
 "metadata": {
  "kernelspec": {
   "display_name": "Python 3",
   "language": "python",
   "name": "python3"
  },
  "language_info": {
   "codemirror_mode": {
    "name": "ipython",
    "version": 3
   },
   "file_extension": ".py",
   "mimetype": "text/x-python",
   "name": "python",
   "nbconvert_exporter": "python",
   "pygments_lexer": "ipython3",
   "version": "3.6.9"
  }
 },
 "nbformat": 4,
 "nbformat_minor": 5
}
