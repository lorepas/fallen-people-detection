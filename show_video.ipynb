{
 "cells": [
  {
   "cell_type": "code",
   "execution_count": 1,
   "id": "0fbfeb86",
   "metadata": {},
   "outputs": [],
   "source": [
    "from utils.load_dataset import *\n",
    "from utils.custom_utils import *"
   ]
  },
  {
   "cell_type": "code",
   "execution_count": 8,
   "id": "4be3c58d",
   "metadata": {},
   "outputs": [],
   "source": [
    "def load_model(path):\n",
    "    device = torch.device('cuda:1') if torch.cuda.is_available() else torch.device('cpu')\n",
    "\n",
    "    # create a Faster R-CNN model without pre-trained\n",
    "    model = torchvision.models.detection.fasterrcnn_resnet50_fpn(pretrained=False, pretrained_backbone=False)\n",
    "\n",
    "    num_classes = 3 # wheat or not(background)\n",
    "\n",
    "    # get number of input features for the classifier\n",
    "    in_features = model.roi_heads.box_predictor.cls_score.in_features\n",
    "\n",
    "    # replace the pre-trained model's head with a new one\n",
    "    model.roi_heads.box_predictor = FastRCNNPredictor(in_features, num_classes)\n",
    "    checkpoint = torch.load(path, map_location=device)\n",
    "    model.load_state_dict(checkpoint['model'])\n",
    "    # load the trained weights\n",
    "    #model.load_state_dict(torch.load(path, map_location=device))\n",
    "    model.eval()\n",
    "\n",
    "    # move model to the right device\n",
    "    model.to(device)\n",
    "    return model, device"
   ]
  },
  {
   "cell_type": "code",
   "execution_count": 9,
   "id": "a51ede4a",
   "metadata": {},
   "outputs": [],
   "source": [
    "from torchvision import transforms\n",
    "\n",
    "def visualize_prediction(img, model, thr=0.7):\n",
    "    convert_tensor = transforms.ToTensor()\n",
    "    img = convert_tensor(img)\n",
    "    with torch.no_grad():\n",
    "        prediction = model([img.to(\"cuda:1\")])\n",
    "    p = take_prediction(prediction[0],thr)\n",
    "    for bb,label,score in p:\n",
    "        if label == 0:\n",
    "            im = Image.fromarray(img.mul(255).permute(1, 2, 0).byte().numpy())\n",
    "            continue\n",
    "        elif label == 1:\n",
    "            color = \"green\"\n",
    "            text = f\"no fallen: {score:.3f}\"\n",
    "        else:\n",
    "            color = \"blue\"\n",
    "            text = f\"fallen: {score:.3f}\"\n",
    "        x0,y0,x1,y1 = bb\n",
    "        im = Image.fromarray(img.mul(255).permute(1, 2, 0).byte().numpy())\n",
    "        draw = ImageDraw.Draw(im)\n",
    "        draw.rectangle(((x0, y0),(x1,y1)), outline=color, width=3)\n",
    "        draw.text((x0, y0), text, fill=(0,0,0,0))\n",
    "    #ImageShow.show(im)\n",
    "    image_array = np.array(im)\n",
    "    return image_array\n",
    "    \n",
    "def take_prediction(prediction, threshold):\n",
    "    boxes = prediction['boxes'].tolist()\n",
    "    labels = prediction['labels'].tolist()\n",
    "    scores = prediction['scores'].tolist()\n",
    "    if len(boxes) == 0:\n",
    "        return [([0,0,0,0],0,0.)]\n",
    "    \n",
    "    res = [t for t in zip(boxes,labels,scores) if t[2]>threshold]\n",
    "    if len(res) == 0:\n",
    "        res = [([0,0,0,0],0,0.)]\n",
    "    return res"
   ]
  },
  {
   "cell_type": "code",
   "execution_count": 10,
   "id": "29d00579",
   "metadata": {},
   "outputs": [],
   "source": [
    "model_path = \"./models/checkpoint_train_real_over_virtual_with_lr_2.pth\"\n",
    "model_p, _ = load_model(model_path)"
   ]
  },
  {
   "cell_type": "code",
   "execution_count": 5,
   "id": "1f06a713",
   "metadata": {},
   "outputs": [],
   "source": [
    "def play_video_p(path, out,model):\n",
    "    cap = cv2.VideoCapture(path)\n",
    "    frame_width = int(cap.get(3))\n",
    "    frame_height = int(cap.get(4))\n",
    "    frame_size = (frame_width,frame_height)\n",
    "    fps = 30\n",
    "\n",
    "    #out = cv2.VideoWriter(out, cv2.VideoWriter_fourcc('M','J','P','G'), fps, frame_size)\n",
    "    out = cv2.VideoWriter(out, cv2.VideoWriter_fourcc(*'MP4V'), fps, frame_size)\n",
    "    while cap.isOpened():\n",
    "        ret, frame = cap.read()\n",
    "        if not ret:\n",
    "            print(\"Can't receive frame (stream end?). Exiting ...\")\n",
    "            break\n",
    "        im = visualize_prediction(frame,model,0.9)\n",
    "        out.write(im)\n",
    "\n",
    "    cap.release()\n",
    "    out.release()"
   ]
  },
  {
   "cell_type": "code",
   "execution_count": 12,
   "id": "af764a77",
   "metadata": {},
   "outputs": [
    {
     "name": "stdout",
     "output_type": "stream",
     "text": [
      "Can't receive frame (stream end?). Exiting ...\n"
     ]
    }
   ],
   "source": [
    "play_video_p(\"sample2.mp4\",\"output_sample.mp4\",model_p)"
   ]
  }
 ],
 "metadata": {
  "kernelspec": {
   "display_name": "Python 3",
   "language": "python",
   "name": "python3"
  },
  "language_info": {
   "codemirror_mode": {
    "name": "ipython",
    "version": 3
   },
   "file_extension": ".py",
   "mimetype": "text/x-python",
   "name": "python",
   "nbconvert_exporter": "python",
   "pygments_lexer": "ipython3",
   "version": "3.6.9"
  }
 },
 "nbformat": 4,
 "nbformat_minor": 5
}
