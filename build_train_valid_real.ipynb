{
 "cells": [
  {
   "cell_type": "code",
   "execution_count": 5,
   "id": "3898ebf4",
   "metadata": {},
   "outputs": [],
   "source": [
    "import os\n",
    "\n",
    "import numpy as np\n",
    "import pandas as pd\n",
    "from matplotlib import pyplot as plt\n",
    "from PIL import Image\n",
    "import glob\n",
    "import cv2\n",
    "import csv"
   ]
  },
  {
   "cell_type": "code",
   "execution_count": 40,
   "id": "5fd8c73f",
   "metadata": {},
   "outputs": [],
   "source": [
    "DATASET = 'real_dataset'\n",
    "\n",
    "files = glob.glob(f'{DATASET}/valid/**/*.png', recursive = True) #find all *.txt files\n",
    "\n",
    "target_txt = \"real_valid.txt\""
   ]
  },
  {
   "cell_type": "code",
   "execution_count": 42,
   "id": "1de98079",
   "metadata": {},
   "outputs": [
    {
     "name": "stdout",
     "output_type": "stream",
     "text": [
      "coordinate y of bb are greater/smaller than images\n"
     ]
    }
   ],
   "source": [
    "#if not os.path.exists(target_txt):\n",
    "if True:\n",
    "  #data = pd.DataFrame()\n",
    "  fw = open(target_txt,'w')\n",
    "  i = 0\n",
    "  for fi in files:\n",
    "    fi = fi.split(\".\")[0] + \".txt\"\n",
    "    f = open(fi, 'r')\n",
    "    file_text = f.read()\n",
    "    if file_text == \"\": #discard empty files\n",
    "        print(\"Empty file\")\n",
    "        continue\n",
    "    file_text = file_text.strip('\\n') #remove possible newline character at the end of file\n",
    "    lines = file_text.split('\\n')\n",
    "    file_name = os.path.join(fi.split(\"/\")[-2],fi.split(\"/\")[-1])\n",
    "    for l in lines:\n",
    "        name = file_name.split(\".\")[0] + \".png\"\n",
    "        image = cv2.imread(f'real_dataset/valid/{name}')\n",
    "        y,x,_ = image.shape\n",
    "\n",
    "        label = l.split(\" \")[0]\n",
    "        x0 = l.split(\" \")[1]\n",
    "        x1 = l.split(\" \")[2]\n",
    "        y0 = l.split(\" \")[3]\n",
    "        y1 = l.split(\" \")[4]\n",
    "        \n",
    "        if int(x0) < 0 or int(x1) > x:\n",
    "            print(\"coordinate x of bb are greater/smaller than images\")\n",
    "            continue\n",
    "        if int(y0) < 0 or int(y1) > y:\n",
    "            print(\"coordinate y of bb are greater/smaller than images\")\n",
    "            continue\n",
    "            \n",
    "        if int(label) == -1: #label 1 -> NO FALL\n",
    "          fw.write(name + ',' + str(x0) + ',' + str(y0) + \",\" + str(x1) + \",\" + str(y1) + \",\" + str(1) + \"\\n\")\n",
    "        elif int(label) == 1: #label 2 -> FALL\n",
    "          fw.write(name + ',' + str(x0) + ',' + str(y0) + \",\" + str(x1) + \",\" + str(y1) + \",\" + str(2) + \"\\n\")\n",
    "  fw.close()\n",
    "  #data.to_csv(target_txt, header=None, index=None, sep=' ')\n",
    "else:\n",
    "  print(\"File already created!\")"
   ]
  },
  {
   "cell_type": "code",
   "execution_count": 44,
   "id": "93d0da32",
   "metadata": {},
   "outputs": [
    {
     "name": "stdout",
     "output_type": "stream",
     "text": [
      "1175\n"
     ]
    }
   ],
   "source": [
    "imgs = glob.glob(f'{DATASET}/valid/**/*.png', recursive = True)\n",
    "im = [i for i in imgs]\n",
    "print(len(im))"
   ]
  },
  {
   "cell_type": "code",
   "execution_count": 45,
   "id": "1696b108",
   "metadata": {},
   "outputs": [
    {
     "data": {
      "text/html": [
       "<div>\n",
       "<style scoped>\n",
       "    .dataframe tbody tr th:only-of-type {\n",
       "        vertical-align: middle;\n",
       "    }\n",
       "\n",
       "    .dataframe tbody tr th {\n",
       "        vertical-align: top;\n",
       "    }\n",
       "\n",
       "    .dataframe thead th {\n",
       "        text-align: right;\n",
       "    }\n",
       "</style>\n",
       "<table border=\"1\" class=\"dataframe\">\n",
       "  <thead>\n",
       "    <tr style=\"text-align: right;\">\n",
       "      <th></th>\n",
       "      <th>img_path</th>\n",
       "      <th>x0</th>\n",
       "      <th>y0</th>\n",
       "      <th>x1</th>\n",
       "      <th>y1</th>\n",
       "      <th>label</th>\n",
       "    </tr>\n",
       "  </thead>\n",
       "  <tbody>\n",
       "    <tr>\n",
       "      <th>0</th>\n",
       "      <td>split13/split13_420.png</td>\n",
       "      <td>286</td>\n",
       "      <td>107</td>\n",
       "      <td>372</td>\n",
       "      <td>315</td>\n",
       "      <td>1</td>\n",
       "    </tr>\n",
       "    <tr>\n",
       "      <th>1</th>\n",
       "      <td>split13/split13_338.png</td>\n",
       "      <td>310</td>\n",
       "      <td>239</td>\n",
       "      <td>419</td>\n",
       "      <td>359</td>\n",
       "      <td>2</td>\n",
       "    </tr>\n",
       "    <tr>\n",
       "      <th>2</th>\n",
       "      <td>split13/split13_492.png</td>\n",
       "      <td>255</td>\n",
       "      <td>18</td>\n",
       "      <td>344</td>\n",
       "      <td>349</td>\n",
       "      <td>1</td>\n",
       "    </tr>\n",
       "    <tr>\n",
       "      <th>3</th>\n",
       "      <td>split13/split13_325.png</td>\n",
       "      <td>161</td>\n",
       "      <td>190</td>\n",
       "      <td>334</td>\n",
       "      <td>324</td>\n",
       "      <td>2</td>\n",
       "    </tr>\n",
       "    <tr>\n",
       "      <th>4</th>\n",
       "      <td>split13/split13_438.png</td>\n",
       "      <td>298</td>\n",
       "      <td>28</td>\n",
       "      <td>353</td>\n",
       "      <td>288</td>\n",
       "      <td>1</td>\n",
       "    </tr>\n",
       "  </tbody>\n",
       "</table>\n",
       "</div>"
      ],
      "text/plain": [
       "                  img_path   x0   y0   x1   y1  label\n",
       "0  split13/split13_420.png  286  107  372  315      1\n",
       "1  split13/split13_338.png  310  239  419  359      2\n",
       "2  split13/split13_492.png  255   18  344  349      1\n",
       "3  split13/split13_325.png  161  190  334  324      2\n",
       "4  split13/split13_438.png  298   28  353  288      1"
      ]
     },
     "execution_count": 45,
     "metadata": {},
     "output_type": "execute_result"
    }
   ],
   "source": [
    "data = pd.read_csv(target_txt, sep=',', header=None, names=['img_path', 'x0', 'y0', 'x1', 'y1', 'label'])\n",
    "data.head()"
   ]
  },
  {
   "cell_type": "code",
   "execution_count": 46,
   "id": "852f98ca",
   "metadata": {},
   "outputs": [
    {
     "name": "stdout",
     "output_type": "stream",
     "text": [
      "1174\n"
     ]
    }
   ],
   "source": [
    "print(data['img_path'].nunique())"
   ]
  }
 ],
 "metadata": {
  "kernelspec": {
   "display_name": "Python 3",
   "language": "python",
   "name": "python3"
  },
  "language_info": {
   "codemirror_mode": {
    "name": "ipython",
    "version": 3
   },
   "file_extension": ".py",
   "mimetype": "text/x-python",
   "name": "python",
   "nbconvert_exporter": "python",
   "pygments_lexer": "ipython3",
   "version": "3.6.9"
  }
 },
 "nbformat": 4,
 "nbformat_minor": 5
}
