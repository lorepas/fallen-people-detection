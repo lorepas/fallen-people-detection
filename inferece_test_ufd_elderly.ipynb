{
 "cells": [
  {
   "cell_type": "code",
   "execution_count": 1,
   "id": "d3f13f6a",
   "metadata": {},
   "outputs": [],
   "source": [
    "from utils.load_dataset import *\n",
    "from utils.custom_utils import *"
   ]
  },
  {
   "cell_type": "code",
   "execution_count": 2,
   "id": "e1e90fd2",
   "metadata": {},
   "outputs": [],
   "source": [
    "model_path_var = \"./models/checkpoint_train_virtual_and_real.pth\"\n",
    "model_path_vtr = \"./models/checkpoint_train_real_over_virtual.pth\"\n",
    "model_path_r = \"./models/checkpoint_train_real.pth\"\n",
    "model_path_v = \"./models/checkpoint_train_virtual.pth\""
   ]
  },
  {
   "cell_type": "code",
   "execution_count": 3,
   "id": "9fd0fcfd",
   "metadata": {},
   "outputs": [],
   "source": [
    "def load_model(path):\n",
    "    device = torch.device('cuda') if torch.cuda.is_available() else torch.device('cpu')\n",
    "\n",
    "    # create a Faster R-CNN model without pre-trained\n",
    "    model = torchvision.models.detection.fasterrcnn_resnet50_fpn(pretrained=False, pretrained_backbone=False)\n",
    "\n",
    "    num_classes = 3 # wheat or not(background)\n",
    "\n",
    "    # get number of input features for the classifier\n",
    "    in_features = model.roi_heads.box_predictor.cls_score.in_features\n",
    "\n",
    "    # replace the pre-trained model's head with a new one\n",
    "    model.roi_heads.box_predictor = FastRCNNPredictor(in_features, num_classes)\n",
    "    checkpoint = torch.load(path, map_location=device)\n",
    "    model.load_state_dict(checkpoint['model'])\n",
    "    # load the trained weights\n",
    "    #model.load_state_dict(torch.load(path, map_location=device))\n",
    "    model.eval()\n",
    "\n",
    "    # move model to the right device\n",
    "    model.to(device)\n",
    "    return model, device"
   ]
  },
  {
   "cell_type": "code",
   "execution_count": 4,
   "id": "88ac06be",
   "metadata": {},
   "outputs": [],
   "source": [
    "def take_prediction(prediction, threshold):\n",
    "    boxes = prediction['boxes'].tolist()\n",
    "    labels = prediction['labels'].tolist()\n",
    "    scores = prediction['scores'].tolist()\n",
    "    if len(boxes) == 0:\n",
    "        return [([0,0,0,0],1,0.)]\n",
    "    \n",
    "    res = [t for t in zip(boxes,labels,scores) if t[2]>threshold]\n",
    "    if len(res) == 0:\n",
    "        res = [([0,0,0,0],1,0.)]\n",
    "    return res"
   ]
  },
  {
   "cell_type": "code",
   "execution_count": 5,
   "id": "2a6ddaa7",
   "metadata": {},
   "outputs": [],
   "source": [
    "def visualize_prediction(dataset, list_imgs, model, device, path=None, thr=0.7):\n",
    "    for l in list_imgs:\n",
    "        img,target = dataset[l]\n",
    "        with torch.no_grad():\n",
    "            prediction = model([img.to(device)])\n",
    "        p = take_prediction(prediction[0],thr)\n",
    "        for bb,label,score in p:\n",
    "            if label == 1:\n",
    "                color = \"green\"\n",
    "                text = f\"no fallen: {score:.3f}\"\n",
    "            else:\n",
    "                color = \"red\"\n",
    "                text = f\"fallen: {score:.3f}\"\n",
    "            x0,y0,x1,y1 = bb\n",
    "            im = Image.fromarray(img.mul(255).permute(1, 2, 0).byte().numpy())\n",
    "            draw = ImageDraw.Draw(im)\n",
    "            draw.rectangle(((x0, y0),(x1,y1)), outline=color, width=3)\n",
    "            draw.text((x0, y0), text)\n",
    "        if path is None:\n",
    "            ImageShow.show(im)\n",
    "        else:\n",
    "            im.save(f'snapshots/{path}{l}.png')"
   ]
  },
  {
   "cell_type": "code",
   "execution_count": 6,
   "id": "c149f3f8",
   "metadata": {},
   "outputs": [],
   "source": [
    "def classifier_performance(dataset, model, device, fallen_or_not, tr = 0.7):\n",
    "    tn, tp, fn, fp = 0,0,0,0\n",
    "    for im,target in tqdm(dataset):\n",
    "        gt_labels = target['labels'].tolist()\n",
    "        with torch.no_grad():\n",
    "            prediction = model([im.to(device)])\n",
    "        p = take_prediction(prediction[0], tr)\n",
    "        pred_labels = [l for _,l,_ in p]\n",
    "        len_gt_lab = len(gt_labels)\n",
    "        len_pred_lab = len(pred_labels)\n",
    "        fall_gt = [i for i in gt_labels if i==fallen_or_not]\n",
    "        num_fall_gt = len(fall_gt)\n",
    "        num_no_fall_gt = len_gt_lab - num_fall_gt\n",
    "\n",
    "        fall_pred = [i for i in pred_labels if i==fallen_or_not] \n",
    "        num_fall_pred = len(fall_pred)\n",
    "        num_no_fall_pred = len_pred_lab - num_fall_pred\n",
    "\n",
    "        if num_fall_gt == num_fall_pred:\n",
    "            tp += num_fall_gt\n",
    "        elif num_fall_gt > num_fall_pred:\n",
    "            tp += num_fall_pred\n",
    "            fn += (num_fall_gt - num_fall_pred)\n",
    "        else:\n",
    "            tp += num_fall_gt\n",
    "            fp += (num_fall_pred - num_fall_gt)\n",
    "    return tp, fp, fn"
   ]
  },
  {
   "cell_type": "markdown",
   "id": "cf602836",
   "metadata": {},
   "source": [
    "# UP-FALL DETECTION"
   ]
  },
  {
   "cell_type": "code",
   "execution_count": 22,
   "id": "a09a653b",
   "metadata": {},
   "outputs": [],
   "source": [
    "test_udf = load_data(\"test_ufd.txt\")\n",
    "test_d = FallenPeople(test_udf, \"test_ufd\", FallenPeople.valid_test_transform())\n",
    "\n",
    "subset_indeces = [i for i in range(len(test_d)) if i%5==0]\n",
    "test_dataset = Subset(test_d, subset_indeces)"
   ]
  },
  {
   "cell_type": "code",
   "execution_count": 43,
   "id": "fcac0245",
   "metadata": {
    "scrolled": true
   },
   "outputs": [
    {
     "name": "stdout",
     "output_type": "stream",
     "text": [
      "241\n",
      "179\n"
     ]
    }
   ],
   "source": [
    "no_fall = 0\n",
    "fall = 0\n",
    "for t in test_dataset:\n",
    "    if t[1]['labels'][0] == 1:\n",
    "        no_fall += 1\n",
    "    elif t[1]['labels'][0] == 2:\n",
    "        fall += 1\n",
    "print(no_fall)\n",
    "print(fall)"
   ]
  },
  {
   "cell_type": "code",
   "execution_count": 23,
   "id": "1b9a057d",
   "metadata": {},
   "outputs": [],
   "source": [
    "def collate_fn(batch):\n",
    "        return tuple(zip(*batch))\n",
    "    \n",
    "test_data_loader = DataLoader(\n",
    "      test_dataset,\n",
    "      batch_size=4,\n",
    "      shuffle=False,\n",
    "      collate_fn=collate_fn\n",
    "    )"
   ]
  },
  {
   "cell_type": "code",
   "execution_count": 16,
   "id": "5d18b353",
   "metadata": {},
   "outputs": [],
   "source": [
    "model_var, device = load_model(model_path_var)\n",
    "model_vtr, _ = load_model(model_path_vtr)\n",
    "model_r, _ = load_model(model_path_r)\n",
    "model_v, _ = load_model(model_path_v)\n",
    "test_list = [random.randint(0,len(test_dataset)-1) for i in range(5)]"
   ]
  },
  {
   "cell_type": "markdown",
   "id": "929621b4",
   "metadata": {},
   "source": [
    "# ONLY REAL"
   ]
  },
  {
   "cell_type": "code",
   "execution_count": 24,
   "id": "49578f58",
   "metadata": {},
   "outputs": [
    {
     "name": "stdout",
     "output_type": "stream",
     "text": [
      "creating index...\n",
      "index created!\n",
      "Test:  [  0/105]  eta: 0:00:45  model_time: 0.3349 (0.3349)  evaluator_time: 0.0048 (0.0048)  time: 0.4304  data: 0.0713  max mem: 2030\n",
      "Test:  [100/105]  eta: 0:00:01  model_time: 0.3223 (0.3231)  evaluator_time: 0.0056 (0.0057)  time: 0.3776  data: 0.0458  max mem: 2030\n",
      "Test:  [104/105]  eta: 0:00:00  model_time: 0.3232 (0.3232)  evaluator_time: 0.0057 (0.0057)  time: 0.3794  data: 0.0465  max mem: 2030\n",
      "Test: Total time: 0:00:39 (0.3807 s / it)\n",
      "Averaged stats: model_time: 0.3232 (0.3232)  evaluator_time: 0.0057 (0.0057)\n",
      "Accumulating evaluation results...\n",
      "DONE (t=0.10s).\n",
      "IoU metric: bbox\n",
      " Average Precision  (AP) @[ IoU=0.50:0.95 | area=   all | maxDets=100 ] = 0.588\n",
      " Average Precision  (AP) @[ IoU=0.50      | area=   all | maxDets=100 ] = 0.934\n",
      " Average Precision  (AP) @[ IoU=0.75      | area=   all | maxDets=100 ] = 0.695\n",
      " Average Precision  (AP) @[ IoU=0.50:0.95 | area= small | maxDets=100 ] = -1.000\n",
      " Average Precision  (AP) @[ IoU=0.50:0.95 | area=medium | maxDets=100 ] = 0.000\n",
      " Average Precision  (AP) @[ IoU=0.50:0.95 | area= large | maxDets=100 ] = 0.590\n",
      " Average Recall     (AR) @[ IoU=0.50:0.95 | area=   all | maxDets=  1 ] = 0.635\n",
      " Average Recall     (AR) @[ IoU=0.50:0.95 | area=   all | maxDets= 10 ] = 0.679\n",
      " Average Recall     (AR) @[ IoU=0.50:0.95 | area=   all | maxDets=100 ] = 0.679\n",
      " Average Recall     (AR) @[ IoU=0.50:0.95 | area= small | maxDets=100 ] = -1.000\n",
      " Average Recall     (AR) @[ IoU=0.50:0.95 | area=medium | maxDets=100 ] = 0.000\n",
      " Average Recall     (AR) @[ IoU=0.50:0.95 | area= large | maxDets=100 ] = 0.680\n"
     ]
    },
    {
     "data": {
      "text/plain": [
       "<utils.coco_eval.CocoEvaluator at 0x7f73a1061ef0>"
      ]
     },
     "execution_count": 24,
     "metadata": {},
     "output_type": "execute_result"
    }
   ],
   "source": [
    "evaluate(model_r, test_data_loader, device=device)"
   ]
  },
  {
   "cell_type": "markdown",
   "id": "ce5d738d",
   "metadata": {},
   "source": [
    "### FALL DETECTION"
   ]
  },
  {
   "cell_type": "code",
   "execution_count": 25,
   "id": "c0e0ae4e",
   "metadata": {},
   "outputs": [
    {
     "name": "stderr",
     "output_type": "stream",
     "text": [
      "100%|██████████| 420/420 [00:42<00:00,  9.93it/s]\n"
     ]
    },
    {
     "name": "stdout",
     "output_type": "stream",
     "text": [
      "TP: 179\tFN: 0\tFP: 1121\n",
      "Recall: 1.00\n",
      "Precision: 0.14\n",
      "F1-score: 0.24\n"
     ]
    },
    {
     "name": "stderr",
     "output_type": "stream",
     "text": [
      "100%|██████████| 420/420 [00:42<00:00,  9.80it/s]\n"
     ]
    },
    {
     "name": "stdout",
     "output_type": "stream",
     "text": [
      "TP: 179\tFN: 0\tFP: 958\n",
      "Recall: 1.00\n",
      "Precision: 0.16\n",
      "F1-score: 0.27\n"
     ]
    },
    {
     "name": "stderr",
     "output_type": "stream",
     "text": [
      "100%|██████████| 420/420 [00:43<00:00,  9.70it/s]\n"
     ]
    },
    {
     "name": "stdout",
     "output_type": "stream",
     "text": [
      "TP: 179\tFN: 0\tFP: 818\n",
      "Recall: 1.00\n",
      "Precision: 0.18\n",
      "F1-score: 0.30\n"
     ]
    },
    {
     "name": "stderr",
     "output_type": "stream",
     "text": [
      "100%|██████████| 420/420 [00:43<00:00,  9.61it/s]\n"
     ]
    },
    {
     "name": "stdout",
     "output_type": "stream",
     "text": [
      "TP: 179\tFN: 0\tFP: 738\n",
      "Recall: 1.00\n",
      "Precision: 0.20\n",
      "F1-score: 0.33\n"
     ]
    },
    {
     "name": "stderr",
     "output_type": "stream",
     "text": [
      "100%|██████████| 420/420 [00:43<00:00,  9.58it/s]\n"
     ]
    },
    {
     "name": "stdout",
     "output_type": "stream",
     "text": [
      "TP: 179\tFN: 0\tFP: 645\n",
      "Recall: 1.00\n",
      "Precision: 0.22\n",
      "F1-score: 0.36\n"
     ]
    },
    {
     "name": "stderr",
     "output_type": "stream",
     "text": [
      "100%|██████████| 420/420 [00:43<00:00,  9.63it/s]\n"
     ]
    },
    {
     "name": "stdout",
     "output_type": "stream",
     "text": [
      "TP: 179\tFN: 0\tFP: 540\n",
      "Recall: 1.00\n",
      "Precision: 0.25\n",
      "F1-score: 0.40\n"
     ]
    },
    {
     "name": "stderr",
     "output_type": "stream",
     "text": [
      "100%|██████████| 420/420 [00:43<00:00,  9.58it/s]\n"
     ]
    },
    {
     "name": "stdout",
     "output_type": "stream",
     "text": [
      "TP: 179\tFN: 0\tFP: 426\n",
      "Recall: 1.00\n",
      "Precision: 0.30\n",
      "F1-score: 0.46\n"
     ]
    },
    {
     "name": "stderr",
     "output_type": "stream",
     "text": [
      "100%|██████████| 420/420 [00:43<00:00,  9.57it/s]\n"
     ]
    },
    {
     "name": "stdout",
     "output_type": "stream",
     "text": [
      "TP: 179\tFN: 0\tFP: 316\n",
      "Recall: 1.00\n",
      "Precision: 0.36\n",
      "F1-score: 0.53\n"
     ]
    },
    {
     "name": "stderr",
     "output_type": "stream",
     "text": [
      "100%|██████████| 420/420 [00:43<00:00,  9.59it/s]\n"
     ]
    },
    {
     "name": "stdout",
     "output_type": "stream",
     "text": [
      "TP: 179\tFN: 0\tFP: 167\n",
      "Recall: 1.00\n",
      "Precision: 0.52\n",
      "F1-score: 0.68\n"
     ]
    },
    {
     "name": "stderr",
     "output_type": "stream",
     "text": [
      "100%|██████████| 420/420 [00:43<00:00,  9.60it/s]"
     ]
    },
    {
     "name": "stdout",
     "output_type": "stream",
     "text": [
      "TP: 179\tFN: 0\tFP: 132\n",
      "Recall: 1.00\n",
      "Precision: 0.58\n",
      "F1-score: 0.73\n"
     ]
    },
    {
     "name": "stderr",
     "output_type": "stream",
     "text": [
      "\n"
     ]
    }
   ],
   "source": [
    "recall, precision, f1_score = [],[],[]\n",
    "for thr in range(0,10,1):\n",
    "    tp, fp, fn = classifier_performance(test_dataset, model_r, device, 2,float(thr/10))\n",
    "    rec = tp / (tp+fn)\n",
    "    prec = tp/ (tp+fp)\n",
    "    f1_s = 2/((1/rec)+(1/prec))\n",
    "    recall.append(f\"{rec:.2f}\")\n",
    "    precision.append(f\"{prec:.2f}\")\n",
    "    f1_score.append(f\"{f1_s:.2f}\")\n",
    "    print(f\"TP: {tp}\\tFN: {fn}\\tFP: {fp}\")\n",
    "    print(f\"Recall: {rec:.2f}\")\n",
    "    print(f\"Precision: {prec:.2f}\")\n",
    "    print(f\"F1-score: {f1_s:.2f}\")"
   ]
  },
  {
   "cell_type": "code",
   "execution_count": 26,
   "id": "88096309",
   "metadata": {},
   "outputs": [
    {
     "name": "stdout",
     "output_type": "stream",
     "text": [
      "['1.00', '1.00', '1.00', '1.00', '1.00', '1.00', '1.00', '1.00', '1.00', '1.00']\n",
      "['0.14', '0.16', '0.18', '0.20', '0.22', '0.25', '0.30', '0.36', '0.52', '0.58']\n",
      "['0.24', '0.27', '0.30', '0.33', '0.36', '0.40', '0.46', '0.53', '0.68', '0.73']\n"
     ]
    }
   ],
   "source": [
    "print(recall)\n",
    "print(precision)\n",
    "print(f1_score)"
   ]
  },
  {
   "cell_type": "markdown",
   "id": "29fd6eaf",
   "metadata": {},
   "source": [
    "### NO-FALL DETECTION"
   ]
  },
  {
   "cell_type": "code",
   "execution_count": 27,
   "id": "7b858a4f",
   "metadata": {},
   "outputs": [
    {
     "name": "stderr",
     "output_type": "stream",
     "text": [
      "100%|██████████| 420/420 [00:42<00:00,  9.92it/s]\n"
     ]
    },
    {
     "name": "stdout",
     "output_type": "stream",
     "text": [
      "TP: 242\tFN: 0\tFP: 731\n",
      "Recall: 1.00\n",
      "Precision: 0.25\n",
      "F1-score: 0.40\n"
     ]
    },
    {
     "name": "stderr",
     "output_type": "stream",
     "text": [
      "100%|██████████| 420/420 [00:42<00:00,  9.94it/s]\n"
     ]
    },
    {
     "name": "stdout",
     "output_type": "stream",
     "text": [
      "TP: 242\tFN: 0\tFP: 581\n",
      "Recall: 1.00\n",
      "Precision: 0.29\n",
      "F1-score: 0.45\n"
     ]
    },
    {
     "name": "stderr",
     "output_type": "stream",
     "text": [
      "100%|██████████| 420/420 [00:42<00:00,  9.79it/s]\n"
     ]
    },
    {
     "name": "stdout",
     "output_type": "stream",
     "text": [
      "TP: 242\tFN: 0\tFP: 461\n",
      "Recall: 1.00\n",
      "Precision: 0.34\n",
      "F1-score: 0.51\n"
     ]
    },
    {
     "name": "stderr",
     "output_type": "stream",
     "text": [
      "100%|██████████| 420/420 [00:43<00:00,  9.68it/s]\n"
     ]
    },
    {
     "name": "stdout",
     "output_type": "stream",
     "text": [
      "TP: 242\tFN: 0\tFP: 351\n",
      "Recall: 1.00\n",
      "Precision: 0.41\n",
      "F1-score: 0.58\n"
     ]
    },
    {
     "name": "stderr",
     "output_type": "stream",
     "text": [
      "100%|██████████| 420/420 [00:43<00:00,  9.60it/s]\n"
     ]
    },
    {
     "name": "stdout",
     "output_type": "stream",
     "text": [
      "TP: 242\tFN: 0\tFP: 229\n",
      "Recall: 1.00\n",
      "Precision: 0.51\n",
      "F1-score: 0.68\n"
     ]
    },
    {
     "name": "stderr",
     "output_type": "stream",
     "text": [
      "100%|██████████| 420/420 [00:43<00:00,  9.59it/s]\n"
     ]
    },
    {
     "name": "stdout",
     "output_type": "stream",
     "text": [
      "TP: 242\tFN: 0\tFP: 158\n",
      "Recall: 1.00\n",
      "Precision: 0.60\n",
      "F1-score: 0.75\n"
     ]
    },
    {
     "name": "stderr",
     "output_type": "stream",
     "text": [
      "100%|██████████| 420/420 [00:43<00:00,  9.60it/s]\n"
     ]
    },
    {
     "name": "stdout",
     "output_type": "stream",
     "text": [
      "TP: 242\tFN: 0\tFP: 59\n",
      "Recall: 1.00\n",
      "Precision: 0.80\n",
      "F1-score: 0.89\n"
     ]
    },
    {
     "name": "stderr",
     "output_type": "stream",
     "text": [
      "100%|██████████| 420/420 [00:43<00:00,  9.57it/s]\n"
     ]
    },
    {
     "name": "stdout",
     "output_type": "stream",
     "text": [
      "TP: 242\tFN: 0\tFP: 21\n",
      "Recall: 1.00\n",
      "Precision: 0.92\n",
      "F1-score: 0.96\n"
     ]
    },
    {
     "name": "stderr",
     "output_type": "stream",
     "text": [
      "100%|██████████| 420/420 [00:43<00:00,  9.58it/s]\n"
     ]
    },
    {
     "name": "stdout",
     "output_type": "stream",
     "text": [
      "TP: 242\tFN: 0\tFP: 19\n",
      "Recall: 1.00\n",
      "Precision: 0.93\n",
      "F1-score: 0.96\n"
     ]
    },
    {
     "name": "stderr",
     "output_type": "stream",
     "text": [
      "100%|██████████| 420/420 [00:43<00:00,  9.58it/s]"
     ]
    },
    {
     "name": "stdout",
     "output_type": "stream",
     "text": [
      "TP: 219\tFN: 23\tFP: 9\n",
      "Recall: 0.90\n",
      "Precision: 0.96\n",
      "F1-score: 0.93\n"
     ]
    },
    {
     "name": "stderr",
     "output_type": "stream",
     "text": [
      "\n"
     ]
    }
   ],
   "source": [
    "recall, precision, f1_score = [],[],[]\n",
    "for thr in range(0,10,1):\n",
    "    tp, fp, fn = classifier_performance(test_dataset, model_r, device, 1,float(thr/10))\n",
    "    rec = tp / (tp+fn)\n",
    "    prec = tp/ (tp+fp)\n",
    "    f1_s = 2/((1/rec)+(1/prec))\n",
    "    recall.append(f\"{rec:.2f}\")\n",
    "    precision.append(f\"{prec:.2f}\")\n",
    "    f1_score.append(f\"{f1_s:.2f}\")\n",
    "    print(f\"TP: {tp}\\tFN: {fn}\\tFP: {fp}\")\n",
    "    print(f\"Recall: {rec:.2f}\")\n",
    "    print(f\"Precision: {prec:.2f}\")\n",
    "    print(f\"F1-score: {f1_s:.2f}\")"
   ]
  },
  {
   "cell_type": "code",
   "execution_count": 28,
   "id": "3db4994f",
   "metadata": {},
   "outputs": [
    {
     "name": "stdout",
     "output_type": "stream",
     "text": [
      "['1.00', '1.00', '1.00', '1.00', '1.00', '1.00', '1.00', '1.00', '1.00', '0.90']\n",
      "['0.25', '0.29', '0.34', '0.41', '0.51', '0.60', '0.80', '0.92', '0.93', '0.96']\n",
      "['0.40', '0.45', '0.51', '0.58', '0.68', '0.75', '0.89', '0.96', '0.96', '0.93']\n"
     ]
    }
   ],
   "source": [
    "print(recall)\n",
    "print(precision)\n",
    "print(f1_score)"
   ]
  },
  {
   "cell_type": "markdown",
   "id": "dd17fc65",
   "metadata": {},
   "source": [
    "## ONLY VIRTUAL"
   ]
  },
  {
   "cell_type": "code",
   "execution_count": 44,
   "id": "2b441394",
   "metadata": {},
   "outputs": [
    {
     "name": "stdout",
     "output_type": "stream",
     "text": [
      "creating index...\n",
      "index created!\n",
      "Test:  [  0/105]  eta: 0:00:40  model_time: 0.3267 (0.3267)  evaluator_time: 0.0072 (0.0072)  time: 0.3893  data: 0.0401  max mem: 2030\n",
      "Test:  [100/105]  eta: 0:00:01  model_time: 0.3184 (0.3174)  evaluator_time: 0.0049 (0.0055)  time: 0.3718  data: 0.0455  max mem: 2030\n",
      "Test:  [104/105]  eta: 0:00:00  model_time: 0.3167 (0.3173)  evaluator_time: 0.0047 (0.0055)  time: 0.3703  data: 0.0451  max mem: 2030\n",
      "Test: Total time: 0:00:39 (0.3737 s / it)\n",
      "Averaged stats: model_time: 0.3167 (0.3173)  evaluator_time: 0.0047 (0.0055)\n",
      "Accumulating evaluation results...\n",
      "DONE (t=0.11s).\n",
      "IoU metric: bbox\n",
      " Average Precision  (AP) @[ IoU=0.50:0.95 | area=   all | maxDets=100 ] = 0.472\n",
      " Average Precision  (AP) @[ IoU=0.50      | area=   all | maxDets=100 ] = 0.808\n",
      " Average Precision  (AP) @[ IoU=0.75      | area=   all | maxDets=100 ] = 0.477\n",
      " Average Precision  (AP) @[ IoU=0.50:0.95 | area= small | maxDets=100 ] = -1.000\n",
      " Average Precision  (AP) @[ IoU=0.50:0.95 | area=medium | maxDets=100 ] = 0.000\n",
      " Average Precision  (AP) @[ IoU=0.50:0.95 | area= large | maxDets=100 ] = 0.513\n",
      " Average Recall     (AR) @[ IoU=0.50:0.95 | area=   all | maxDets=  1 ] = 0.575\n",
      " Average Recall     (AR) @[ IoU=0.50:0.95 | area=   all | maxDets= 10 ] = 0.627\n",
      " Average Recall     (AR) @[ IoU=0.50:0.95 | area=   all | maxDets=100 ] = 0.627\n",
      " Average Recall     (AR) @[ IoU=0.50:0.95 | area= small | maxDets=100 ] = -1.000\n",
      " Average Recall     (AR) @[ IoU=0.50:0.95 | area=medium | maxDets=100 ] = 0.000\n",
      " Average Recall     (AR) @[ IoU=0.50:0.95 | area= large | maxDets=100 ] = 0.629\n"
     ]
    },
    {
     "data": {
      "text/plain": [
       "<utils.coco_eval.CocoEvaluator at 0x7f74c8205940>"
      ]
     },
     "execution_count": 44,
     "metadata": {},
     "output_type": "execute_result"
    }
   ],
   "source": [
    "evaluate(model_v, test_data_loader, device=device)"
   ]
  },
  {
   "cell_type": "markdown",
   "id": "85402bef",
   "metadata": {},
   "source": [
    "### FALL DETECTION"
   ]
  },
  {
   "cell_type": "code",
   "execution_count": 45,
   "id": "57340497",
   "metadata": {},
   "outputs": [
    {
     "name": "stderr",
     "output_type": "stream",
     "text": [
      "100%|██████████| 420/420 [00:41<00:00, 10.08it/s]\n"
     ]
    },
    {
     "name": "stdout",
     "output_type": "stream",
     "text": [
      "TP: 177\tFN: 2\tFP: 597\n",
      "Recall: 0.99\n",
      "Precision: 0.23\n",
      "F1-score: 0.37\n"
     ]
    },
    {
     "name": "stderr",
     "output_type": "stream",
     "text": [
      "100%|██████████| 420/420 [00:42<00:00, 10.00it/s]\n"
     ]
    },
    {
     "name": "stdout",
     "output_type": "stream",
     "text": [
      "TP: 170\tFN: 9\tFP: 204\n",
      "Recall: 0.95\n",
      "Precision: 0.45\n",
      "F1-score: 0.61\n"
     ]
    },
    {
     "name": "stderr",
     "output_type": "stream",
     "text": [
      "100%|██████████| 420/420 [00:42<00:00,  9.88it/s]\n"
     ]
    },
    {
     "name": "stdout",
     "output_type": "stream",
     "text": [
      "TP: 123\tFN: 56\tFP: 41\n",
      "Recall: 0.69\n",
      "Precision: 0.75\n",
      "F1-score: 0.72\n"
     ]
    },
    {
     "name": "stderr",
     "output_type": "stream",
     "text": [
      "100%|██████████| 420/420 [00:42<00:00,  9.79it/s]\n"
     ]
    },
    {
     "name": "stdout",
     "output_type": "stream",
     "text": [
      "TP: 63\tFN: 116\tFP: 12\n",
      "Recall: 0.35\n",
      "Precision: 0.84\n",
      "F1-score: 0.50\n"
     ]
    },
    {
     "name": "stderr",
     "output_type": "stream",
     "text": [
      "100%|██████████| 420/420 [00:43<00:00,  9.72it/s]\n"
     ]
    },
    {
     "name": "stdout",
     "output_type": "stream",
     "text": [
      "TP: 26\tFN: 153\tFP: 3\n",
      "Recall: 0.15\n",
      "Precision: 0.90\n",
      "F1-score: 0.25\n"
     ]
    },
    {
     "name": "stderr",
     "output_type": "stream",
     "text": [
      "100%|██████████| 420/420 [00:43<00:00,  9.73it/s]\n"
     ]
    },
    {
     "name": "stdout",
     "output_type": "stream",
     "text": [
      "TP: 4\tFN: 175\tFP: 1\n",
      "Recall: 0.02\n",
      "Precision: 0.80\n",
      "F1-score: 0.04\n"
     ]
    },
    {
     "name": "stderr",
     "output_type": "stream",
     "text": [
      "100%|██████████| 420/420 [00:43<00:00,  9.75it/s]\n"
     ]
    },
    {
     "name": "stdout",
     "output_type": "stream",
     "text": [
      "TP: 1\tFN: 178\tFP: 0\n",
      "Recall: 0.01\n",
      "Precision: 1.00\n",
      "F1-score: 0.01\n"
     ]
    },
    {
     "name": "stderr",
     "output_type": "stream",
     "text": [
      "100%|██████████| 420/420 [00:43<00:00,  9.74it/s]\n"
     ]
    },
    {
     "ename": "ZeroDivisionError",
     "evalue": "division by zero",
     "output_type": "error",
     "traceback": [
      "\u001b[0;31m---------------------------------------------------------------------------\u001b[0m",
      "\u001b[0;31mZeroDivisionError\u001b[0m                         Traceback (most recent call last)",
      "\u001b[0;32m<ipython-input-45-b843a0399550>\u001b[0m in \u001b[0;36m<module>\u001b[0;34m\u001b[0m\n\u001b[1;32m      3\u001b[0m     \u001b[0mtp\u001b[0m\u001b[0;34m,\u001b[0m \u001b[0mfp\u001b[0m\u001b[0;34m,\u001b[0m \u001b[0mfn\u001b[0m \u001b[0;34m=\u001b[0m \u001b[0mclassifier_performance\u001b[0m\u001b[0;34m(\u001b[0m\u001b[0mtest_dataset\u001b[0m\u001b[0;34m,\u001b[0m \u001b[0mmodel_v\u001b[0m\u001b[0;34m,\u001b[0m \u001b[0mdevice\u001b[0m\u001b[0;34m,\u001b[0m \u001b[0;36m2\u001b[0m\u001b[0;34m,\u001b[0m\u001b[0mfloat\u001b[0m\u001b[0;34m(\u001b[0m\u001b[0mthr\u001b[0m\u001b[0;34m/\u001b[0m\u001b[0;36m10\u001b[0m\u001b[0;34m)\u001b[0m\u001b[0;34m)\u001b[0m\u001b[0;34m\u001b[0m\u001b[0;34m\u001b[0m\u001b[0m\n\u001b[1;32m      4\u001b[0m     \u001b[0mrec\u001b[0m \u001b[0;34m=\u001b[0m \u001b[0mtp\u001b[0m \u001b[0;34m/\u001b[0m \u001b[0;34m(\u001b[0m\u001b[0mtp\u001b[0m\u001b[0;34m+\u001b[0m\u001b[0mfn\u001b[0m\u001b[0;34m)\u001b[0m\u001b[0;34m\u001b[0m\u001b[0;34m\u001b[0m\u001b[0m\n\u001b[0;32m----> 5\u001b[0;31m     \u001b[0mprec\u001b[0m \u001b[0;34m=\u001b[0m \u001b[0mtp\u001b[0m\u001b[0;34m/\u001b[0m \u001b[0;34m(\u001b[0m\u001b[0mtp\u001b[0m\u001b[0;34m+\u001b[0m\u001b[0mfp\u001b[0m\u001b[0;34m)\u001b[0m\u001b[0;34m\u001b[0m\u001b[0;34m\u001b[0m\u001b[0m\n\u001b[0m\u001b[1;32m      6\u001b[0m     \u001b[0mf1_s\u001b[0m \u001b[0;34m=\u001b[0m \u001b[0;36m2\u001b[0m\u001b[0;34m/\u001b[0m\u001b[0;34m(\u001b[0m\u001b[0;34m(\u001b[0m\u001b[0;36m1\u001b[0m\u001b[0;34m/\u001b[0m\u001b[0mrec\u001b[0m\u001b[0;34m)\u001b[0m\u001b[0;34m+\u001b[0m\u001b[0;34m(\u001b[0m\u001b[0;36m1\u001b[0m\u001b[0;34m/\u001b[0m\u001b[0mprec\u001b[0m\u001b[0;34m)\u001b[0m\u001b[0;34m)\u001b[0m\u001b[0;34m\u001b[0m\u001b[0;34m\u001b[0m\u001b[0m\n\u001b[1;32m      7\u001b[0m     \u001b[0mrecall\u001b[0m\u001b[0;34m.\u001b[0m\u001b[0mappend\u001b[0m\u001b[0;34m(\u001b[0m\u001b[0;34mf\"{rec:.2f}\"\u001b[0m\u001b[0;34m)\u001b[0m\u001b[0;34m\u001b[0m\u001b[0;34m\u001b[0m\u001b[0m\n",
      "\u001b[0;31mZeroDivisionError\u001b[0m: division by zero"
     ]
    }
   ],
   "source": [
    "recall, precision, f1_score = [],[],[]\n",
    "for thr in range(0,10,1):\n",
    "    tp, fp, fn = classifier_performance(test_dataset, model_v, device, 2,float(thr/10))\n",
    "    rec = tp / (tp+fn)\n",
    "    prec = tp/ (tp+fp)\n",
    "    f1_s = 2/((1/rec)+(1/prec))\n",
    "    recall.append(f\"{rec:.2f}\")\n",
    "    precision.append(f\"{prec:.2f}\")\n",
    "    f1_score.append(f\"{f1_s:.2f}\")\n",
    "    print(f\"TP: {tp}\\tFN: {fn}\\tFP: {fp}\")\n",
    "    print(f\"Recall: {rec:.2f}\")\n",
    "    print(f\"Precision: {prec:.2f}\")\n",
    "    print(f\"F1-score: {f1_s:.2f}\")"
   ]
  },
  {
   "cell_type": "code",
   "execution_count": 46,
   "id": "b4739fb2",
   "metadata": {},
   "outputs": [
    {
     "name": "stdout",
     "output_type": "stream",
     "text": [
      "['0.99', '0.95', '0.69', '0.35', '0.15', '0.02', '0.01']\n",
      "['0.23', '0.45', '0.75', '0.84', '0.90', '0.80', '1.00']\n",
      "['0.37', '0.61', '0.72', '0.50', '0.25', '0.04', '0.01']\n"
     ]
    }
   ],
   "source": [
    "print(recall)\n",
    "print(precision)\n",
    "print(f1_score)"
   ]
  },
  {
   "cell_type": "markdown",
   "id": "1470a6ab",
   "metadata": {},
   "source": [
    "### NO-FALL DETECTION"
   ]
  },
  {
   "cell_type": "code",
   "execution_count": 47,
   "id": "4c9aec78",
   "metadata": {},
   "outputs": [
    {
     "name": "stderr",
     "output_type": "stream",
     "text": [
      "100%|██████████| 420/420 [00:41<00:00, 10.07it/s]\n"
     ]
    },
    {
     "name": "stdout",
     "output_type": "stream",
     "text": [
      "TP: 242\tFN: 0\tFP: 1713\n",
      "Recall: 1.00\n",
      "Precision: 0.12\n",
      "F1-score: 0.22\n"
     ]
    },
    {
     "name": "stderr",
     "output_type": "stream",
     "text": [
      "100%|██████████| 420/420 [00:43<00:00,  9.75it/s]\n"
     ]
    },
    {
     "name": "stdout",
     "output_type": "stream",
     "text": [
      "TP: 242\tFN: 0\tFP: 1052\n",
      "Recall: 1.00\n",
      "Precision: 0.19\n",
      "F1-score: 0.32\n"
     ]
    },
    {
     "name": "stderr",
     "output_type": "stream",
     "text": [
      "100%|██████████| 420/420 [00:43<00:00,  9.72it/s]\n"
     ]
    },
    {
     "name": "stdout",
     "output_type": "stream",
     "text": [
      "TP: 242\tFN: 0\tFP: 619\n",
      "Recall: 1.00\n",
      "Precision: 0.28\n",
      "F1-score: 0.44\n"
     ]
    },
    {
     "name": "stderr",
     "output_type": "stream",
     "text": [
      "100%|██████████| 420/420 [00:43<00:00,  9.70it/s]\n"
     ]
    },
    {
     "name": "stdout",
     "output_type": "stream",
     "text": [
      "TP: 242\tFN: 0\tFP: 467\n",
      "Recall: 1.00\n",
      "Precision: 0.34\n",
      "F1-score: 0.51\n"
     ]
    },
    {
     "name": "stderr",
     "output_type": "stream",
     "text": [
      "100%|██████████| 420/420 [00:43<00:00,  9.72it/s]\n"
     ]
    },
    {
     "name": "stdout",
     "output_type": "stream",
     "text": [
      "TP: 242\tFN: 0\tFP: 377\n",
      "Recall: 1.00\n",
      "Precision: 0.39\n",
      "F1-score: 0.56\n"
     ]
    },
    {
     "name": "stderr",
     "output_type": "stream",
     "text": [
      "100%|██████████| 420/420 [00:43<00:00,  9.73it/s]\n"
     ]
    },
    {
     "name": "stdout",
     "output_type": "stream",
     "text": [
      "TP: 241\tFN: 1\tFP: 306\n",
      "Recall: 1.00\n",
      "Precision: 0.44\n",
      "F1-score: 0.61\n"
     ]
    },
    {
     "name": "stderr",
     "output_type": "stream",
     "text": [
      "100%|██████████| 420/420 [00:43<00:00,  9.76it/s]\n"
     ]
    },
    {
     "name": "stdout",
     "output_type": "stream",
     "text": [
      "TP: 241\tFN: 1\tFP: 254\n",
      "Recall: 1.00\n",
      "Precision: 0.49\n",
      "F1-score: 0.65\n"
     ]
    },
    {
     "name": "stderr",
     "output_type": "stream",
     "text": [
      "100%|██████████| 420/420 [00:43<00:00,  9.73it/s]\n"
     ]
    },
    {
     "name": "stdout",
     "output_type": "stream",
     "text": [
      "TP: 241\tFN: 1\tFP: 216\n",
      "Recall: 1.00\n",
      "Precision: 0.53\n",
      "F1-score: 0.69\n"
     ]
    },
    {
     "name": "stderr",
     "output_type": "stream",
     "text": [
      "100%|██████████| 420/420 [00:43<00:00,  9.70it/s]\n"
     ]
    },
    {
     "name": "stdout",
     "output_type": "stream",
     "text": [
      "TP: 241\tFN: 1\tFP: 188\n",
      "Recall: 1.00\n",
      "Precision: 0.56\n",
      "F1-score: 0.72\n"
     ]
    },
    {
     "name": "stderr",
     "output_type": "stream",
     "text": [
      "100%|██████████| 420/420 [00:43<00:00,  9.71it/s]"
     ]
    },
    {
     "name": "stdout",
     "output_type": "stream",
     "text": [
      "TP: 241\tFN: 1\tFP: 179\n",
      "Recall: 1.00\n",
      "Precision: 0.57\n",
      "F1-score: 0.73\n"
     ]
    },
    {
     "name": "stderr",
     "output_type": "stream",
     "text": [
      "\n"
     ]
    }
   ],
   "source": [
    "recall, precision, f1_score = [],[],[]\n",
    "for thr in range(0,10,1):\n",
    "    tp, fp, fn = classifier_performance(test_dataset, model_v, device, 1,float(thr/10))\n",
    "    rec = tp / (tp+fn)\n",
    "    prec = tp/ (tp+fp)\n",
    "    f1_s = 2/((1/rec)+(1/prec))\n",
    "    recall.append(f\"{rec:.2f}\")\n",
    "    precision.append(f\"{prec:.2f}\")\n",
    "    f1_score.append(f\"{f1_s:.2f}\")\n",
    "    print(f\"TP: {tp}\\tFN: {fn}\\tFP: {fp}\")\n",
    "    print(f\"Recall: {rec:.2f}\")\n",
    "    print(f\"Precision: {prec:.2f}\")\n",
    "    print(f\"F1-score: {f1_s:.2f}\")"
   ]
  },
  {
   "cell_type": "code",
   "execution_count": 48,
   "id": "79d9df82",
   "metadata": {},
   "outputs": [
    {
     "name": "stdout",
     "output_type": "stream",
     "text": [
      "['1.00', '1.00', '1.00', '1.00', '1.00', '1.00', '1.00', '1.00', '1.00', '1.00']\n",
      "['0.12', '0.19', '0.28', '0.34', '0.39', '0.44', '0.49', '0.53', '0.56', '0.57']\n",
      "['0.22', '0.32', '0.44', '0.51', '0.56', '0.61', '0.65', '0.69', '0.72', '0.73']\n"
     ]
    }
   ],
   "source": [
    "print(recall)\n",
    "print(precision)\n",
    "print(f1_score)"
   ]
  },
  {
   "cell_type": "markdown",
   "id": "55fd1321",
   "metadata": {},
   "source": [
    "## VIRTUAL THAN REAL"
   ]
  },
  {
   "cell_type": "code",
   "execution_count": 49,
   "id": "b8022cee",
   "metadata": {},
   "outputs": [
    {
     "name": "stdout",
     "output_type": "stream",
     "text": [
      "creating index...\n",
      "index created!\n",
      "Test:  [  0/105]  eta: 0:00:43  model_time: 0.3332 (0.3332)  evaluator_time: 0.0070 (0.0070)  time: 0.4168  data: 0.0486  max mem: 2030\n",
      "Test:  [100/105]  eta: 0:00:01  model_time: 0.3369 (0.3315)  evaluator_time: 0.0047 (0.0057)  time: 0.3889  data: 0.0435  max mem: 2030\n",
      "Test:  [104/105]  eta: 0:00:00  model_time: 0.3373 (0.3317)  evaluator_time: 0.0055 (0.0057)  time: 0.3899  data: 0.0441  max mem: 2030\n",
      "Test: Total time: 0:00:40 (0.3874 s / it)\n",
      "Averaged stats: model_time: 0.3373 (0.3317)  evaluator_time: 0.0055 (0.0057)\n",
      "Accumulating evaluation results...\n",
      "DONE (t=0.09s).\n",
      "IoU metric: bbox\n",
      " Average Precision  (AP) @[ IoU=0.50:0.95 | area=   all | maxDets=100 ] = 0.654\n",
      " Average Precision  (AP) @[ IoU=0.50      | area=   all | maxDets=100 ] = 0.988\n",
      " Average Precision  (AP) @[ IoU=0.75      | area=   all | maxDets=100 ] = 0.821\n",
      " Average Precision  (AP) @[ IoU=0.50:0.95 | area= small | maxDets=100 ] = -1.000\n",
      " Average Precision  (AP) @[ IoU=0.50:0.95 | area=medium | maxDets=100 ] = 0.000\n",
      " Average Precision  (AP) @[ IoU=0.50:0.95 | area= large | maxDets=100 ] = 0.656\n",
      " Average Recall     (AR) @[ IoU=0.50:0.95 | area=   all | maxDets=  1 ] = 0.697\n",
      " Average Recall     (AR) @[ IoU=0.50:0.95 | area=   all | maxDets= 10 ] = 0.705\n",
      " Average Recall     (AR) @[ IoU=0.50:0.95 | area=   all | maxDets=100 ] = 0.705\n",
      " Average Recall     (AR) @[ IoU=0.50:0.95 | area= small | maxDets=100 ] = -1.000\n",
      " Average Recall     (AR) @[ IoU=0.50:0.95 | area=medium | maxDets=100 ] = 0.000\n",
      " Average Recall     (AR) @[ IoU=0.50:0.95 | area= large | maxDets=100 ] = 0.706\n"
     ]
    },
    {
     "data": {
      "text/plain": [
       "<utils.coco_eval.CocoEvaluator at 0x7f739834fc50>"
      ]
     },
     "execution_count": 49,
     "metadata": {},
     "output_type": "execute_result"
    }
   ],
   "source": [
    "evaluate(model_vtr, test_data_loader, device=device)"
   ]
  },
  {
   "cell_type": "markdown",
   "id": "23454bab",
   "metadata": {},
   "source": [
    "### FALL DETECTION"
   ]
  },
  {
   "cell_type": "code",
   "execution_count": 50,
   "id": "573b3d22",
   "metadata": {},
   "outputs": [
    {
     "name": "stderr",
     "output_type": "stream",
     "text": [
      "100%|██████████| 420/420 [00:43<00:00,  9.59it/s]\n"
     ]
    },
    {
     "name": "stdout",
     "output_type": "stream",
     "text": [
      "TP: 179\tFN: 0\tFP: 1589\n",
      "Recall: 1.00\n",
      "Precision: 0.10\n",
      "F1-score: 0.18\n"
     ]
    },
    {
     "name": "stderr",
     "output_type": "stream",
     "text": [
      "100%|██████████| 420/420 [00:43<00:00,  9.56it/s]\n"
     ]
    },
    {
     "name": "stdout",
     "output_type": "stream",
     "text": [
      "TP: 179\tFN: 0\tFP: 1084\n",
      "Recall: 1.00\n",
      "Precision: 0.14\n",
      "F1-score: 0.25\n"
     ]
    },
    {
     "name": "stderr",
     "output_type": "stream",
     "text": [
      "100%|██████████| 420/420 [00:43<00:00,  9.60it/s]\n"
     ]
    },
    {
     "name": "stdout",
     "output_type": "stream",
     "text": [
      "TP: 179\tFN: 0\tFP: 809\n",
      "Recall: 1.00\n",
      "Precision: 0.18\n",
      "F1-score: 0.31\n"
     ]
    },
    {
     "name": "stderr",
     "output_type": "stream",
     "text": [
      "100%|██████████| 420/420 [00:44<00:00,  9.54it/s]\n"
     ]
    },
    {
     "name": "stdout",
     "output_type": "stream",
     "text": [
      "TP: 179\tFN: 0\tFP: 632\n",
      "Recall: 1.00\n",
      "Precision: 0.22\n",
      "F1-score: 0.36\n"
     ]
    },
    {
     "name": "stderr",
     "output_type": "stream",
     "text": [
      "100%|██████████| 420/420 [00:43<00:00,  9.56it/s]\n"
     ]
    },
    {
     "name": "stdout",
     "output_type": "stream",
     "text": [
      "TP: 179\tFN: 0\tFP: 401\n",
      "Recall: 1.00\n",
      "Precision: 0.31\n",
      "F1-score: 0.47\n"
     ]
    },
    {
     "name": "stderr",
     "output_type": "stream",
     "text": [
      "100%|██████████| 420/420 [00:43<00:00,  9.59it/s]\n"
     ]
    },
    {
     "name": "stdout",
     "output_type": "stream",
     "text": [
      "TP: 179\tFN: 0\tFP: 230\n",
      "Recall: 1.00\n",
      "Precision: 0.44\n",
      "F1-score: 0.61\n"
     ]
    },
    {
     "name": "stderr",
     "output_type": "stream",
     "text": [
      "100%|██████████| 420/420 [00:43<00:00,  9.56it/s]\n"
     ]
    },
    {
     "name": "stdout",
     "output_type": "stream",
     "text": [
      "TP: 179\tFN: 0\tFP: 156\n",
      "Recall: 1.00\n",
      "Precision: 0.53\n",
      "F1-score: 0.70\n"
     ]
    },
    {
     "name": "stderr",
     "output_type": "stream",
     "text": [
      "100%|██████████| 420/420 [00:43<00:00,  9.57it/s]\n"
     ]
    },
    {
     "name": "stdout",
     "output_type": "stream",
     "text": [
      "TP: 179\tFN: 0\tFP: 60\n",
      "Recall: 1.00\n",
      "Precision: 0.75\n",
      "F1-score: 0.86\n"
     ]
    },
    {
     "name": "stderr",
     "output_type": "stream",
     "text": [
      "100%|██████████| 420/420 [00:43<00:00,  9.59it/s]\n"
     ]
    },
    {
     "name": "stdout",
     "output_type": "stream",
     "text": [
      "TP: 179\tFN: 0\tFP: 25\n",
      "Recall: 1.00\n",
      "Precision: 0.88\n",
      "F1-score: 0.93\n"
     ]
    },
    {
     "name": "stderr",
     "output_type": "stream",
     "text": [
      "100%|██████████| 420/420 [00:43<00:00,  9.58it/s]"
     ]
    },
    {
     "name": "stdout",
     "output_type": "stream",
     "text": [
      "TP: 177\tFN: 2\tFP: 1\n",
      "Recall: 0.99\n",
      "Precision: 0.99\n",
      "F1-score: 0.99\n"
     ]
    },
    {
     "name": "stderr",
     "output_type": "stream",
     "text": [
      "\n"
     ]
    }
   ],
   "source": [
    "recall, precision, f1_score = [],[],[]\n",
    "for thr in range(0,10,1):\n",
    "    tp, fp, fn = classifier_performance(test_dataset, model_vtr, device, 2,float(thr/10))\n",
    "    rec = tp / (tp+fn)\n",
    "    prec = tp/ (tp+fp)\n",
    "    f1_s = 2/((1/rec)+(1/prec))\n",
    "    recall.append(f\"{rec:.2f}\")\n",
    "    precision.append(f\"{prec:.2f}\")\n",
    "    f1_score.append(f\"{f1_s:.2f}\")\n",
    "    print(f\"TP: {tp}\\tFN: {fn}\\tFP: {fp}\")\n",
    "    print(f\"Recall: {rec:.2f}\")\n",
    "    print(f\"Precision: {prec:.2f}\")\n",
    "    print(f\"F1-score: {f1_s:.2f}\")"
   ]
  },
  {
   "cell_type": "code",
   "execution_count": 51,
   "id": "b73934d2",
   "metadata": {},
   "outputs": [
    {
     "name": "stdout",
     "output_type": "stream",
     "text": [
      "['1.00', '1.00', '1.00', '1.00', '1.00', '1.00', '1.00', '1.00', '1.00', '0.99']\n",
      "['0.10', '0.14', '0.18', '0.22', '0.31', '0.44', '0.53', '0.75', '0.88', '0.99']\n",
      "['0.18', '0.25', '0.31', '0.36', '0.47', '0.61', '0.70', '0.86', '0.93', '0.99']\n"
     ]
    }
   ],
   "source": [
    "print(recall)\n",
    "print(precision)\n",
    "print(f1_score)"
   ]
  },
  {
   "cell_type": "markdown",
   "id": "da430ada",
   "metadata": {},
   "source": [
    "### NO-FALL DETECTION"
   ]
  },
  {
   "cell_type": "code",
   "execution_count": 52,
   "id": "78431119",
   "metadata": {},
   "outputs": [
    {
     "name": "stderr",
     "output_type": "stream",
     "text": [
      "100%|██████████| 420/420 [00:42<00:00,  9.86it/s]\n"
     ]
    },
    {
     "name": "stdout",
     "output_type": "stream",
     "text": [
      "TP: 242\tFN: 0\tFP: 399\n",
      "Recall: 1.00\n",
      "Precision: 0.38\n",
      "F1-score: 0.55\n"
     ]
    },
    {
     "name": "stderr",
     "output_type": "stream",
     "text": [
      "100%|██████████| 420/420 [00:43<00:00,  9.62it/s]\n"
     ]
    },
    {
     "name": "stdout",
     "output_type": "stream",
     "text": [
      "TP: 242\tFN: 0\tFP: 62\n",
      "Recall: 1.00\n",
      "Precision: 0.80\n",
      "F1-score: 0.89\n"
     ]
    },
    {
     "name": "stderr",
     "output_type": "stream",
     "text": [
      "100%|██████████| 420/420 [00:43<00:00,  9.56it/s]\n"
     ]
    },
    {
     "name": "stdout",
     "output_type": "stream",
     "text": [
      "TP: 242\tFN: 0\tFP: 26\n",
      "Recall: 1.00\n",
      "Precision: 0.90\n",
      "F1-score: 0.95\n"
     ]
    },
    {
     "name": "stderr",
     "output_type": "stream",
     "text": [
      "100%|██████████| 420/420 [00:43<00:00,  9.57it/s]\n"
     ]
    },
    {
     "name": "stdout",
     "output_type": "stream",
     "text": [
      "TP: 242\tFN: 0\tFP: 22\n",
      "Recall: 1.00\n",
      "Precision: 0.92\n",
      "F1-score: 0.96\n"
     ]
    },
    {
     "name": "stderr",
     "output_type": "stream",
     "text": [
      "100%|██████████| 420/420 [00:43<00:00,  9.59it/s]\n"
     ]
    },
    {
     "name": "stdout",
     "output_type": "stream",
     "text": [
      "TP: 242\tFN: 0\tFP: 21\n",
      "Recall: 1.00\n",
      "Precision: 0.92\n",
      "F1-score: 0.96\n"
     ]
    },
    {
     "name": "stderr",
     "output_type": "stream",
     "text": [
      "100%|██████████| 420/420 [00:43<00:00,  9.58it/s]\n"
     ]
    },
    {
     "name": "stdout",
     "output_type": "stream",
     "text": [
      "TP: 242\tFN: 0\tFP: 18\n",
      "Recall: 1.00\n",
      "Precision: 0.93\n",
      "F1-score: 0.96\n"
     ]
    },
    {
     "name": "stderr",
     "output_type": "stream",
     "text": [
      "100%|██████████| 420/420 [00:43<00:00,  9.57it/s]\n"
     ]
    },
    {
     "name": "stdout",
     "output_type": "stream",
     "text": [
      "TP: 242\tFN: 0\tFP: 17\n",
      "Recall: 1.00\n",
      "Precision: 0.93\n",
      "F1-score: 0.97\n"
     ]
    },
    {
     "name": "stderr",
     "output_type": "stream",
     "text": [
      "100%|██████████| 420/420 [00:43<00:00,  9.59it/s]\n"
     ]
    },
    {
     "name": "stdout",
     "output_type": "stream",
     "text": [
      "TP: 238\tFN: 4\tFP: 7\n",
      "Recall: 0.98\n",
      "Precision: 0.97\n",
      "F1-score: 0.98\n"
     ]
    },
    {
     "name": "stderr",
     "output_type": "stream",
     "text": [
      "100%|██████████| 420/420 [00:43<00:00,  9.60it/s]\n"
     ]
    },
    {
     "name": "stdout",
     "output_type": "stream",
     "text": [
      "TP: 236\tFN: 6\tFP: 0\n",
      "Recall: 0.98\n",
      "Precision: 1.00\n",
      "F1-score: 0.99\n"
     ]
    },
    {
     "name": "stderr",
     "output_type": "stream",
     "text": [
      "100%|██████████| 420/420 [00:43<00:00,  9.59it/s]"
     ]
    },
    {
     "name": "stdout",
     "output_type": "stream",
     "text": [
      "TP: 241\tFN: 1\tFP: 2\n",
      "Recall: 1.00\n",
      "Precision: 0.99\n",
      "F1-score: 0.99\n"
     ]
    },
    {
     "name": "stderr",
     "output_type": "stream",
     "text": [
      "\n"
     ]
    }
   ],
   "source": [
    "recall, precision, f1_score = [],[],[]\n",
    "for thr in range(0,10,1):\n",
    "    tp, fp, fn = classifier_performance(test_dataset, model_vtr, device, 1,float(thr/10))\n",
    "    rec = tp / (tp+fn)\n",
    "    prec = tp/ (tp+fp)\n",
    "    f1_s = 2/((1/rec)+(1/prec))\n",
    "    recall.append(f\"{rec:.2f}\")\n",
    "    precision.append(f\"{prec:.2f}\")\n",
    "    f1_score.append(f\"{f1_s:.2f}\")\n",
    "    print(f\"TP: {tp}\\tFN: {fn}\\tFP: {fp}\")\n",
    "    print(f\"Recall: {rec:.2f}\")\n",
    "    print(f\"Precision: {prec:.2f}\")\n",
    "    print(f\"F1-score: {f1_s:.2f}\")"
   ]
  },
  {
   "cell_type": "code",
   "execution_count": 53,
   "id": "3fc2f26a",
   "metadata": {},
   "outputs": [
    {
     "name": "stdout",
     "output_type": "stream",
     "text": [
      "['1.00', '1.00', '1.00', '1.00', '1.00', '1.00', '1.00', '0.98', '0.98', '1.00']\n",
      "['0.38', '0.80', '0.90', '0.92', '0.92', '0.93', '0.93', '0.97', '1.00', '0.99']\n",
      "['0.55', '0.89', '0.95', '0.96', '0.96', '0.96', '0.97', '0.98', '0.99', '0.99']\n"
     ]
    }
   ],
   "source": [
    "print(recall)\n",
    "print(precision)\n",
    "print(f1_score)"
   ]
  },
  {
   "cell_type": "markdown",
   "id": "87136973",
   "metadata": {},
   "source": [
    "## VIRTUAL AND REAL"
   ]
  },
  {
   "cell_type": "code",
   "execution_count": 54,
   "id": "7e5e68d5",
   "metadata": {},
   "outputs": [
    {
     "name": "stdout",
     "output_type": "stream",
     "text": [
      "creating index...\n",
      "index created!\n",
      "Test:  [  0/105]  eta: 0:00:42  model_time: 0.3272 (0.3272)  evaluator_time: 0.0066 (0.0066)  time: 0.4017  data: 0.0422  max mem: 2030\n",
      "Test:  [100/105]  eta: 0:00:01  model_time: 0.3304 (0.3281)  evaluator_time: 0.0049 (0.0057)  time: 0.3862  data: 0.0459  max mem: 2030\n",
      "Test:  [104/105]  eta: 0:00:00  model_time: 0.3327 (0.3284)  evaluator_time: 0.0049 (0.0057)  time: 0.3866  data: 0.0453  max mem: 2030\n",
      "Test: Total time: 0:00:40 (0.3856 s / it)\n",
      "Averaged stats: model_time: 0.3327 (0.3284)  evaluator_time: 0.0049 (0.0057)\n",
      "Accumulating evaluation results...\n",
      "DONE (t=0.13s).\n",
      "IoU metric: bbox\n",
      " Average Precision  (AP) @[ IoU=0.50:0.95 | area=   all | maxDets=100 ] = 0.625\n",
      " Average Precision  (AP) @[ IoU=0.50      | area=   all | maxDets=100 ] = 0.976\n",
      " Average Precision  (AP) @[ IoU=0.75      | area=   all | maxDets=100 ] = 0.690\n",
      " Average Precision  (AP) @[ IoU=0.50:0.95 | area= small | maxDets=100 ] = -1.000\n",
      " Average Precision  (AP) @[ IoU=0.50:0.95 | area=medium | maxDets=100 ] = 0.000\n",
      " Average Precision  (AP) @[ IoU=0.50:0.95 | area= large | maxDets=100 ] = 0.626\n",
      " Average Recall     (AR) @[ IoU=0.50:0.95 | area=   all | maxDets=  1 ] = 0.674\n",
      " Average Recall     (AR) @[ IoU=0.50:0.95 | area=   all | maxDets= 10 ] = 0.687\n",
      " Average Recall     (AR) @[ IoU=0.50:0.95 | area=   all | maxDets=100 ] = 0.687\n",
      " Average Recall     (AR) @[ IoU=0.50:0.95 | area= small | maxDets=100 ] = -1.000\n",
      " Average Recall     (AR) @[ IoU=0.50:0.95 | area=medium | maxDets=100 ] = 0.000\n",
      " Average Recall     (AR) @[ IoU=0.50:0.95 | area= large | maxDets=100 ] = 0.688\n"
     ]
    },
    {
     "data": {
      "text/plain": [
       "<utils.coco_eval.CocoEvaluator at 0x7f7398340a20>"
      ]
     },
     "execution_count": 54,
     "metadata": {},
     "output_type": "execute_result"
    }
   ],
   "source": [
    "evaluate(model_var, test_data_loader, device=device)"
   ]
  },
  {
   "cell_type": "markdown",
   "id": "e59ead0f",
   "metadata": {},
   "source": [
    "### FALL DETECTION"
   ]
  },
  {
   "cell_type": "code",
   "execution_count": 55,
   "id": "ca0b112f",
   "metadata": {},
   "outputs": [
    {
     "name": "stderr",
     "output_type": "stream",
     "text": [
      "100%|██████████| 420/420 [00:43<00:00,  9.71it/s]\n"
     ]
    },
    {
     "name": "stdout",
     "output_type": "stream",
     "text": [
      "TP: 179\tFN: 0\tFP: 1183\n",
      "Recall: 1.00\n",
      "Precision: 0.13\n",
      "F1-score: 0.23\n"
     ]
    },
    {
     "name": "stderr",
     "output_type": "stream",
     "text": [
      "100%|██████████| 420/420 [00:43<00:00,  9.68it/s]\n"
     ]
    },
    {
     "name": "stdout",
     "output_type": "stream",
     "text": [
      "TP: 179\tFN: 0\tFP: 735\n",
      "Recall: 1.00\n",
      "Precision: 0.20\n",
      "F1-score: 0.33\n"
     ]
    },
    {
     "name": "stderr",
     "output_type": "stream",
     "text": [
      "100%|██████████| 420/420 [00:43<00:00,  9.69it/s]\n"
     ]
    },
    {
     "name": "stdout",
     "output_type": "stream",
     "text": [
      "TP: 179\tFN: 0\tFP: 336\n",
      "Recall: 1.00\n",
      "Precision: 0.35\n",
      "F1-score: 0.52\n"
     ]
    },
    {
     "name": "stderr",
     "output_type": "stream",
     "text": [
      "100%|██████████| 420/420 [00:43<00:00,  9.68it/s]\n"
     ]
    },
    {
     "name": "stdout",
     "output_type": "stream",
     "text": [
      "TP: 179\tFN: 0\tFP: 182\n",
      "Recall: 1.00\n",
      "Precision: 0.50\n",
      "F1-score: 0.66\n"
     ]
    },
    {
     "name": "stderr",
     "output_type": "stream",
     "text": [
      "100%|██████████| 420/420 [00:43<00:00,  9.67it/s]\n"
     ]
    },
    {
     "name": "stdout",
     "output_type": "stream",
     "text": [
      "TP: 179\tFN: 0\tFP: 106\n",
      "Recall: 1.00\n",
      "Precision: 0.63\n",
      "F1-score: 0.77\n"
     ]
    },
    {
     "name": "stderr",
     "output_type": "stream",
     "text": [
      "100%|██████████| 420/420 [00:43<00:00,  9.66it/s]\n"
     ]
    },
    {
     "name": "stdout",
     "output_type": "stream",
     "text": [
      "TP: 179\tFN: 0\tFP: 60\n",
      "Recall: 1.00\n",
      "Precision: 0.75\n",
      "F1-score: 0.86\n"
     ]
    },
    {
     "name": "stderr",
     "output_type": "stream",
     "text": [
      "100%|██████████| 420/420 [00:43<00:00,  9.69it/s]\n"
     ]
    },
    {
     "name": "stdout",
     "output_type": "stream",
     "text": [
      "TP: 179\tFN: 0\tFP: 29\n",
      "Recall: 1.00\n",
      "Precision: 0.86\n",
      "F1-score: 0.93\n"
     ]
    },
    {
     "name": "stderr",
     "output_type": "stream",
     "text": [
      "100%|██████████| 420/420 [00:43<00:00,  9.70it/s]\n"
     ]
    },
    {
     "name": "stdout",
     "output_type": "stream",
     "text": [
      "TP: 179\tFN: 0\tFP: 14\n",
      "Recall: 1.00\n",
      "Precision: 0.93\n",
      "F1-score: 0.96\n"
     ]
    },
    {
     "name": "stderr",
     "output_type": "stream",
     "text": [
      "100%|██████████| 420/420 [00:43<00:00,  9.66it/s]\n"
     ]
    },
    {
     "name": "stdout",
     "output_type": "stream",
     "text": [
      "TP: 174\tFN: 5\tFP: 4\n",
      "Recall: 0.97\n",
      "Precision: 0.98\n",
      "F1-score: 0.97\n"
     ]
    },
    {
     "name": "stderr",
     "output_type": "stream",
     "text": [
      "100%|██████████| 420/420 [00:43<00:00,  9.63it/s]"
     ]
    },
    {
     "name": "stdout",
     "output_type": "stream",
     "text": [
      "TP: 160\tFN: 19\tFP: 1\n",
      "Recall: 0.89\n",
      "Precision: 0.99\n",
      "F1-score: 0.94\n"
     ]
    },
    {
     "name": "stderr",
     "output_type": "stream",
     "text": [
      "\n"
     ]
    }
   ],
   "source": [
    "recall, precision, f1_score = [],[],[]\n",
    "for thr in range(0,10,1):\n",
    "    tp, fp, fn = classifier_performance(test_dataset, model_var, device, 2,float(thr/10))\n",
    "    rec = tp / (tp+fn)\n",
    "    prec = tp/ (tp+fp)\n",
    "    f1_s = 2/((1/rec)+(1/prec))\n",
    "    recall.append(f\"{rec:.2f}\")\n",
    "    precision.append(f\"{prec:.2f}\")\n",
    "    f1_score.append(f\"{f1_s:.2f}\")\n",
    "    print(f\"TP: {tp}\\tFN: {fn}\\tFP: {fp}\")\n",
    "    print(f\"Recall: {rec:.2f}\")\n",
    "    print(f\"Precision: {prec:.2f}\")\n",
    "    print(f\"F1-score: {f1_s:.2f}\")"
   ]
  },
  {
   "cell_type": "code",
   "execution_count": 56,
   "id": "592b8f21",
   "metadata": {},
   "outputs": [
    {
     "name": "stdout",
     "output_type": "stream",
     "text": [
      "['1.00', '1.00', '1.00', '1.00', '1.00', '1.00', '1.00', '1.00', '0.97', '0.89']\n",
      "['0.13', '0.20', '0.35', '0.50', '0.63', '0.75', '0.86', '0.93', '0.98', '0.99']\n",
      "['0.23', '0.33', '0.52', '0.66', '0.77', '0.86', '0.93', '0.96', '0.97', '0.94']\n"
     ]
    }
   ],
   "source": [
    "print(recall)\n",
    "print(precision)\n",
    "print(f1_score)"
   ]
  },
  {
   "cell_type": "markdown",
   "id": "6840a297",
   "metadata": {},
   "source": [
    "### NO-FALL DETECTION"
   ]
  },
  {
   "cell_type": "code",
   "execution_count": 57,
   "id": "0e259884",
   "metadata": {},
   "outputs": [
    {
     "name": "stderr",
     "output_type": "stream",
     "text": [
      "100%|██████████| 420/420 [00:42<00:00,  9.86it/s]\n"
     ]
    },
    {
     "name": "stdout",
     "output_type": "stream",
     "text": [
      "TP: 242\tFN: 0\tFP: 786\n",
      "Recall: 1.00\n",
      "Precision: 0.24\n",
      "F1-score: 0.38\n"
     ]
    },
    {
     "name": "stderr",
     "output_type": "stream",
     "text": [
      "100%|██████████| 420/420 [00:43<00:00,  9.67it/s]\n"
     ]
    },
    {
     "name": "stdout",
     "output_type": "stream",
     "text": [
      "TP: 242\tFN: 0\tFP: 595\n",
      "Recall: 1.00\n",
      "Precision: 0.29\n",
      "F1-score: 0.45\n"
     ]
    },
    {
     "name": "stderr",
     "output_type": "stream",
     "text": [
      "100%|██████████| 420/420 [00:43<00:00,  9.67it/s]\n"
     ]
    },
    {
     "name": "stdout",
     "output_type": "stream",
     "text": [
      "TP: 242\tFN: 0\tFP: 412\n",
      "Recall: 1.00\n",
      "Precision: 0.37\n",
      "F1-score: 0.54\n"
     ]
    },
    {
     "name": "stderr",
     "output_type": "stream",
     "text": [
      "100%|██████████| 420/420 [00:43<00:00,  9.67it/s]\n"
     ]
    },
    {
     "name": "stdout",
     "output_type": "stream",
     "text": [
      "TP: 242\tFN: 0\tFP: 286\n",
      "Recall: 1.00\n",
      "Precision: 0.46\n",
      "F1-score: 0.63\n"
     ]
    },
    {
     "name": "stderr",
     "output_type": "stream",
     "text": [
      "100%|██████████| 420/420 [00:43<00:00,  9.67it/s]\n"
     ]
    },
    {
     "name": "stdout",
     "output_type": "stream",
     "text": [
      "TP: 242\tFN: 0\tFP: 206\n",
      "Recall: 1.00\n",
      "Precision: 0.54\n",
      "F1-score: 0.70\n"
     ]
    },
    {
     "name": "stderr",
     "output_type": "stream",
     "text": [
      "100%|██████████| 420/420 [00:43<00:00,  9.67it/s]\n"
     ]
    },
    {
     "name": "stdout",
     "output_type": "stream",
     "text": [
      "TP: 242\tFN: 0\tFP: 160\n",
      "Recall: 1.00\n",
      "Precision: 0.60\n",
      "F1-score: 0.75\n"
     ]
    },
    {
     "name": "stderr",
     "output_type": "stream",
     "text": [
      "100%|██████████| 420/420 [00:43<00:00,  9.69it/s]\n"
     ]
    },
    {
     "name": "stdout",
     "output_type": "stream",
     "text": [
      "TP: 241\tFN: 1\tFP: 107\n",
      "Recall: 1.00\n",
      "Precision: 0.69\n",
      "F1-score: 0.82\n"
     ]
    },
    {
     "name": "stderr",
     "output_type": "stream",
     "text": [
      "100%|██████████| 420/420 [00:43<00:00,  9.66it/s]\n"
     ]
    },
    {
     "name": "stdout",
     "output_type": "stream",
     "text": [
      "TP: 242\tFN: 0\tFP: 41\n",
      "Recall: 1.00\n",
      "Precision: 0.86\n",
      "F1-score: 0.92\n"
     ]
    },
    {
     "name": "stderr",
     "output_type": "stream",
     "text": [
      "100%|██████████| 420/420 [00:43<00:00,  9.65it/s]\n"
     ]
    },
    {
     "name": "stdout",
     "output_type": "stream",
     "text": [
      "TP: 242\tFN: 0\tFP: 19\n",
      "Recall: 1.00\n",
      "Precision: 0.93\n",
      "F1-score: 0.96\n"
     ]
    },
    {
     "name": "stderr",
     "output_type": "stream",
     "text": [
      "100%|██████████| 420/420 [00:43<00:00,  9.66it/s]"
     ]
    },
    {
     "name": "stdout",
     "output_type": "stream",
     "text": [
      "TP: 242\tFN: 0\tFP: 33\n",
      "Recall: 1.00\n",
      "Precision: 0.88\n",
      "F1-score: 0.94\n"
     ]
    },
    {
     "name": "stderr",
     "output_type": "stream",
     "text": [
      "\n"
     ]
    }
   ],
   "source": [
    "recall, precision, f1_score = [],[],[]\n",
    "for thr in range(0,10,1):\n",
    "    tp, fp, fn = classifier_performance(test_dataset, model_var, device, 1,float(thr/10))\n",
    "    rec = tp / (tp+fn)\n",
    "    prec = tp/ (tp+fp)\n",
    "    f1_s = 2/((1/rec)+(1/prec))\n",
    "    recall.append(f\"{rec:.2f}\")\n",
    "    precision.append(f\"{prec:.2f}\")\n",
    "    f1_score.append(f\"{f1_s:.2f}\")\n",
    "    print(f\"TP: {tp}\\tFN: {fn}\\tFP: {fp}\")\n",
    "    print(f\"Recall: {rec:.2f}\")\n",
    "    print(f\"Precision: {prec:.2f}\")\n",
    "    print(f\"F1-score: {f1_s:.2f}\")"
   ]
  },
  {
   "cell_type": "code",
   "execution_count": 58,
   "id": "fb3c3dd8",
   "metadata": {},
   "outputs": [
    {
     "name": "stdout",
     "output_type": "stream",
     "text": [
      "['1.00', '1.00', '1.00', '1.00', '1.00', '1.00', '1.00', '1.00', '1.00', '1.00']\n",
      "['0.24', '0.29', '0.37', '0.46', '0.54', '0.60', '0.69', '0.86', '0.93', '0.88']\n",
      "['0.38', '0.45', '0.54', '0.63', '0.70', '0.75', '0.82', '0.92', '0.96', '0.94']\n"
     ]
    }
   ],
   "source": [
    "print(recall)\n",
    "print(precision)\n",
    "print(f1_score)"
   ]
  }
 ],
 "metadata": {
  "kernelspec": {
   "display_name": "Python 3",
   "language": "python",
   "name": "python3"
  },
  "language_info": {
   "codemirror_mode": {
    "name": "ipython",
    "version": 3
   },
   "file_extension": ".py",
   "mimetype": "text/x-python",
   "name": "python",
   "nbconvert_exporter": "python",
   "pygments_lexer": "ipython3",
   "version": "3.6.9"
  }
 },
 "nbformat": 4,
 "nbformat_minor": 5
}
