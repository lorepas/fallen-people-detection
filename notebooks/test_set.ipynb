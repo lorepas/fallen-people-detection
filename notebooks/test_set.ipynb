{
 "cells": [
  {
   "cell_type": "code",
   "execution_count": 1,
   "id": "3898ebf4",
   "metadata": {},
   "outputs": [],
   "source": [
    "import os\n",
    "\n",
    "import numpy as np\n",
    "import pandas as pd\n",
    "from matplotlib import pyplot as plt\n",
    "from PIL import Image\n",
    "import glob\n",
    "import cv2\n",
    "import csv"
   ]
  },
  {
   "cell_type": "code",
   "execution_count": 2,
   "id": "5fd8c73f",
   "metadata": {},
   "outputs": [],
   "source": [
    "DATASET = 'test_imgs'\n",
    "\n",
    "files = glob.glob('test_imgs/*.txt', recursive = True) #find all *.txt files\n",
    "\n",
    "target_txt = \"test_set.txt\""
   ]
  },
  {
   "cell_type": "code",
   "execution_count": 3,
   "id": "1de98079",
   "metadata": {},
   "outputs": [],
   "source": [
    "#if not os.path.exists(target_txt):\n",
    "if True:\n",
    "  #data = pd.DataFrame()\n",
    "  fw = open(target_txt,'w')\n",
    "  i = 0\n",
    "  for fi in files:\n",
    "    f = open(fi, 'r')\n",
    "    file_text = f.read()\n",
    "    if file_text == \"\": #discard empty files\n",
    "        continue\n",
    "    file_text = file_text.strip('\\n') #remove possible newline character at the end of file\n",
    "    lines = file_text.split('\\n')\n",
    "    file_name = fi.split(\"/\")[-1] #the part before the . with the name of the folder\n",
    "    for l in lines:\n",
    "        name = file_name.split(\".\")[0] + \".png\"\n",
    "        image = cv2.imread(name)\n",
    "        label = l.split(\" \")[0]\n",
    "        x0 = l.split(\" \")[1]\n",
    "        x1 = l.split(\" \")[2]\n",
    "        y0 = l.split(\" \")[3]\n",
    "        y1 = l.split(\" \")[4]\n",
    "\n",
    "        if int(label) == -1: #label 1 -> NO FALL\n",
    "          fw.write(name + ',' + str(x0) + ',' + str(y0) + \",\" + str(x1) + \",\" + str(y1) + \",\" + str(1) + \"\\n\")\n",
    "        elif int(label) == 1: #label 2 -> FALL\n",
    "          fw.write(name + ',' + str(x0) + ',' + str(y0) + \",\" + str(x1) + \",\" + str(y1) + \",\" + str(2) + \"\\n\")\n",
    "  fw.close()\n",
    "  #data.to_csv(target_txt, header=None, index=None, sep=' ')\n",
    "else:\n",
    "  print(\"File already created!\")"
   ]
  },
  {
   "cell_type": "code",
   "execution_count": 5,
   "id": "93d0da32",
   "metadata": {},
   "outputs": [
    {
     "name": "stdout",
     "output_type": "stream",
     "text": [
      "973\n"
     ]
    }
   ],
   "source": [
    "imgs = glob.glob('test_imgs/*.png', recursive = True)\n",
    "im = [i for i in imgs]\n",
    "print(len(im))"
   ]
  }
 ],
 "metadata": {
  "kernelspec": {
   "display_name": "Python 3",
   "language": "python",
   "name": "python3"
  },
  "language_info": {
   "codemirror_mode": {
    "name": "ipython",
    "version": 3
   },
   "file_extension": ".py",
   "mimetype": "text/x-python",
   "name": "python",
   "nbconvert_exporter": "python",
   "pygments_lexer": "ipython3",
   "version": "3.6.9"
  }
 },
 "nbformat": 4,
 "nbformat_minor": 5
}
