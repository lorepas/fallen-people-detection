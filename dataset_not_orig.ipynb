{
 "cells": [
  {
   "cell_type": "code",
   "execution_count": 1,
   "id": "96eb03c8",
   "metadata": {},
   "outputs": [],
   "source": [
    "import os\n",
    "\n",
    "import numpy as np\n",
    "import pandas as pd\n",
    "from matplotlib import pyplot as plt\n",
    "from PIL import Image\n",
    "import glob\n",
    "import cv2\n",
    "import csv"
   ]
  },
  {
   "cell_type": "code",
   "execution_count": 2,
   "id": "ec27ad90",
   "metadata": {},
   "outputs": [],
   "source": [
    "DATASET = 'data'\n",
    "\n",
    "files = glob.glob('data/**/*.txt', recursive = True) #find all *.txt files\n",
    "\n",
    "target_txt = \"dataset_not_orig.txt\""
   ]
  },
  {
   "cell_type": "code",
   "execution_count": 3,
   "id": "f24fe22f",
   "metadata": {},
   "outputs": [
    {
     "ename": "IndexError",
     "evalue": "list index out of range",
     "output_type": "error",
     "traceback": [
      "\u001b[0;31m---------------------------------------------------------------------------\u001b[0m",
      "\u001b[0;31mIndexError\u001b[0m                                Traceback (most recent call last)",
      "\u001b[0;32m<ipython-input-3-158570a336e8>\u001b[0m in \u001b[0;36m<module>\u001b[0;34m\u001b[0m\n\u001b[1;32m     16\u001b[0m         \u001b[0mheight\u001b[0m\u001b[0;34m,\u001b[0m\u001b[0mwidth\u001b[0m\u001b[0;34m,\u001b[0m \u001b[0m_\u001b[0m \u001b[0;34m=\u001b[0m \u001b[0mimage\u001b[0m\u001b[0;34m.\u001b[0m\u001b[0mshape\u001b[0m \u001b[0;31m#values to denormalize data\u001b[0m\u001b[0;34m\u001b[0m\u001b[0;34m\u001b[0m\u001b[0m\n\u001b[1;32m     17\u001b[0m         \u001b[0mlabel\u001b[0m \u001b[0;34m=\u001b[0m \u001b[0ml\u001b[0m\u001b[0;34m.\u001b[0m\u001b[0msplit\u001b[0m\u001b[0;34m(\u001b[0m\u001b[0;34m\" \"\u001b[0m\u001b[0;34m)\u001b[0m\u001b[0;34m[\u001b[0m\u001b[0;36m0\u001b[0m\u001b[0;34m]\u001b[0m\u001b[0;34m\u001b[0m\u001b[0;34m\u001b[0m\u001b[0m\n\u001b[0;32m---> 18\u001b[0;31m         \u001b[0mxc\u001b[0m \u001b[0;34m=\u001b[0m \u001b[0mfloat\u001b[0m\u001b[0;34m(\u001b[0m\u001b[0ml\u001b[0m\u001b[0;34m.\u001b[0m\u001b[0msplit\u001b[0m\u001b[0;34m(\u001b[0m\u001b[0;34m\" \"\u001b[0m\u001b[0;34m)\u001b[0m\u001b[0;34m[\u001b[0m\u001b[0;36m1\u001b[0m\u001b[0;34m]\u001b[0m\u001b[0;34m)\u001b[0m \u001b[0;34m*\u001b[0m \u001b[0mwidth\u001b[0m\u001b[0;34m\u001b[0m\u001b[0;34m\u001b[0m\u001b[0m\n\u001b[0m\u001b[1;32m     19\u001b[0m         \u001b[0myc\u001b[0m \u001b[0;34m=\u001b[0m \u001b[0mfloat\u001b[0m\u001b[0;34m(\u001b[0m\u001b[0ml\u001b[0m\u001b[0;34m.\u001b[0m\u001b[0msplit\u001b[0m\u001b[0;34m(\u001b[0m\u001b[0;34m\" \"\u001b[0m\u001b[0;34m)\u001b[0m\u001b[0;34m[\u001b[0m\u001b[0;36m2\u001b[0m\u001b[0;34m]\u001b[0m\u001b[0;34m)\u001b[0m \u001b[0;34m*\u001b[0m \u001b[0mheight\u001b[0m\u001b[0;34m\u001b[0m\u001b[0;34m\u001b[0m\u001b[0m\n\u001b[1;32m     20\u001b[0m         \u001b[0mw\u001b[0m \u001b[0;34m=\u001b[0m \u001b[0mfloat\u001b[0m\u001b[0;34m(\u001b[0m\u001b[0ml\u001b[0m\u001b[0;34m.\u001b[0m\u001b[0msplit\u001b[0m\u001b[0;34m(\u001b[0m\u001b[0;34m\" \"\u001b[0m\u001b[0;34m)\u001b[0m\u001b[0;34m[\u001b[0m\u001b[0;36m3\u001b[0m\u001b[0;34m]\u001b[0m\u001b[0;34m)\u001b[0m \u001b[0;34m*\u001b[0m \u001b[0mwidth\u001b[0m\u001b[0;34m\u001b[0m\u001b[0;34m\u001b[0m\u001b[0m\n",
      "\u001b[0;31mIndexError\u001b[0m: list index out of range"
     ]
    }
   ],
   "source": [
    "#if not os.path.exists(target_txt):\n",
    "if True:\n",
    "  #data = pd.DataFrame()\n",
    "  fw = open(target_txt,'w')\n",
    "  i = 0\n",
    "  for fi in files:\n",
    "    if \"orig\" not in fi: #discard all *_orig.txt\n",
    "      f = open(fi, 'r')\n",
    "      file_text = f.read()\n",
    "      file_text = file_text.strip('\\n') #remove possible newline character at the end of file\n",
    "      lines = file_text.split('\\n')\n",
    "      file_name = os.path.join(fi.split(\"/\")[-2],fi.split(\"/\")[-1]) #last / and first part before the . with the name of the folder\n",
    "      for l in lines:\n",
    "        name = file_name.split(\".\")[0] + \".png\"\n",
    "        image = cv2.imread(os.path.join('data',name))\n",
    "        height,width, _ = image.shape #values to denormalize data\n",
    "        label = l.split(\" \")[0]\n",
    "        xc = float(l.split(\" \")[1]) * width \n",
    "        yc = float(l.split(\" \")[2]) * height\n",
    "        w = float(l.split(\" \")[3]) * width\n",
    "        h = float(l.split(\" \")[4]) * height\n",
    "        #take values as (x0,y0) and (x1,y1) for top-left and bottom-right points of BB\n",
    "        x0 = float(xc - w / 2) \n",
    "        y0 = float(yc - h / 2) \n",
    "        x1 = float(xc + w / 2) \n",
    "        y1 = float(yc + h / 2)\n",
    "\n",
    "        if int(label) == 6: #label 1 -> NO FALL\n",
    "          fw.write(name + ',' + str(x0) + ',' + str(y0) + \",\" + str(x1) + \",\" + str(y1) + \",\" + str(1) + \"\\n\")\n",
    "        elif int(label) == 7: #label 2 -> FALL\n",
    "          fw.write(name + ',' + str(x0) + ',' + str(y0) + \",\" + str(x1) + \",\" + str(y1) + \",\" + str(2) + \"\\n\")\n",
    "  fw.close()\n",
    "  #data.to_csv(target_txt, header=None, index=None, sep=' ')\n",
    "else:\n",
    "  print(\"File already created!\")"
   ]
  }
 ],
 "metadata": {
  "kernelspec": {
   "display_name": "Python 3",
   "language": "python",
   "name": "python3"
  },
  "language_info": {
   "codemirror_mode": {
    "name": "ipython",
    "version": 3
   },
   "file_extension": ".py",
   "mimetype": "text/x-python",
   "name": "python",
   "nbconvert_exporter": "python",
   "pygments_lexer": "ipython3",
   "version": "3.6.9"
  }
 },
 "nbformat": 4,
 "nbformat_minor": 5
}
